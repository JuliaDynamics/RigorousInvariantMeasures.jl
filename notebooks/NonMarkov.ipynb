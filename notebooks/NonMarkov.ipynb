{
 "cells": [
  {
   "cell_type": "code",
   "execution_count": 1,
   "metadata": {},
   "outputs": [],
   "source": [
    "using RigorousInvariantMeasures"
   ]
  },
  {
   "cell_type": "code",
   "execution_count": 15,
   "metadata": {},
   "outputs": [
    {
     "data": {
      "text/plain": [
       "IntegralPreservingDiscretizedOperator{SparseArrays.SparseMatrixCSC{Interval{Float64}, Int64}}(sparse([1, 2, 3, 3, 4, 5, 5, 6, 7, 8  …  4090, 4091, 4092, 4092, 4093, 4093, 4094, 4095, 4095, 4096], [1, 1, 1, 2, 2, 2, 3, 3, 3, 3  …  4093, 4093, 4093, 4094, 4094, 4095, 4095, 4095, 4096, 4096], Interval{Float64}[[0.400007, 0.400008], [0.400023, 0.400024], [0.199968, 0.199969], [0.20007, 0.200071], [0.400054, 0.400055], [0.399874, 0.399875], [0.00019535, 0.000195351], [0.400085, 0.400086], [0.400101, 0.400102], [0.199617, 0.199618]  …  [0.00130123, 0.00130124], [0.666269, 0.66627], [0.332429, 0.33243], [0.333911, 0.333912], [0.666088, 0.666089], [0.000325414, 0.000325415], [0.666485, 0.666486], [0.333188, 0.333189], [0.333369, 0.33337], [0.66663, 0.666631]], 4096, 4096))"
      ]
     },
     "metadata": {},
     "output_type": "display_data"
    }
   ],
   "source": [
    "D = mod1_dynamic(x -> 2*x+0.5*x*(1-x))\n",
    "B = Ulam(4096)\n",
    "Q = DiscretizedOperator(B, D)"
   ]
  },
  {
   "cell_type": "code",
   "execution_count": 16,
   "metadata": {},
   "outputs": [
    {
     "name": "stderr",
     "output_type": "stream",
     "text": [
      "\r\u001b[32mComputing norms of powers...   9%|██▏                    |  ETA: 0:00:11\u001b[39m\u001b[K"
     ]
    },
    {
     "name": "stderr",
     "output_type": "stream",
     "text": [
      "\r\u001b[32mComputing norms of powers...  18%|████▏                  |  ETA: 0:00:18\u001b[39m\u001b[K"
     ]
    },
    {
     "name": "stderr",
     "output_type": "stream",
     "text": [
      "\r\u001b[32mComputing norms of powers...  24%|█████▌                 |  ETA: 0:00:16\u001b[39m\u001b[K"
     ]
    },
    {
     "name": "stderr",
     "output_type": "stream",
     "text": [
      "\r\u001b[32mComputing norms of powers... 100%|███████████████████████| Time: 0:00:06\u001b[39m\u001b[K\n"
     ]
    },
    {
     "name": "stderr",
     "output_type": "stream",
     "text": [
      "\r\u001b[32mComputing norms of powers...  29%|██████▋                |  ETA: 0:00:03\u001b[39m\u001b[K"
     ]
    },
    {
     "name": "stderr",
     "output_type": "stream",
     "text": [
      "\r\u001b[32mComputing norms of powers...  57%|█████████████▏         |  ETA: 0:00:02\u001b[39m\u001b[K"
     ]
    },
    {
     "name": "stderr",
     "output_type": "stream",
     "text": [
      "\r\u001b[32mComputing norms of powers...  86%|███████████████████▊   |  ETA: 0:00:00\u001b[39m\u001b[K"
     ]
    },
    {
     "name": "stderr",
     "output_type": "stream",
     "text": [
      "\r\u001b[32mComputing norms of powers... 100%|███████████████████████| Time: 0:00:03\u001b[39m\u001b[K\n"
     ]
    },
    {
     "name": "stderr",
     "output_type": "stream",
     "text": [
      "\r\u001b[32mComputing norms of powers...  12%|██▊                    |  ETA: 0:00:07\u001b[39m\u001b[K"
     ]
    },
    {
     "name": "stderr",
     "output_type": "stream",
     "text": [
      "\r\u001b[32mComputing norms of powers...  24%|█████▋                 |  ETA: 0:00:14\u001b[39m\u001b[K"
     ]
    },
    {
     "name": "stderr",
     "output_type": "stream",
     "text": [
      "\r\u001b[32mComputing norms of powers...  38%|████████▊              |  ETA: 0:00:09\u001b[39m\u001b[K"
     ]
    },
    {
     "name": "stderr",
     "output_type": "stream",
     "text": [
      "\r\u001b[32mComputing norms of powers...  51%|███████████▊           |  ETA: 0:00:06\u001b[39m\u001b[K"
     ]
    },
    {
     "name": "stderr",
     "output_type": "stream",
     "text": [
      "\r\u001b[32mComputing norms of powers...  65%|██████████████▉        |  ETA: 0:00:04\u001b[39m\u001b[K"
     ]
    },
    {
     "name": "stderr",
     "output_type": "stream",
     "text": [
      "\r\u001b[32mComputing norms of powers...  78%|██████████████████     |  ETA: 0:00:02\u001b[39m\u001b[K"
     ]
    },
    {
     "name": "stderr",
     "output_type": "stream",
     "text": [
      "\r\u001b[32mComputing norms of powers...  92%|█████████████████████▏ |  ETA: 0:00:01\u001b[39m\u001b[K"
     ]
    },
    {
     "name": "stderr",
     "output_type": "stream",
     "text": [
      "\r\u001b[32mComputing norms of powers... 100%|███████████████████████| Time: 0:00:10\u001b[39m\u001b[K\n"
     ]
    },
    {
     "data": {
      "text/plain": [
       "0.793574549"
      ]
     },
     "metadata": {},
     "output_type": "display_data"
    }
   ],
   "source": [
    "time_norms = @elapsed norms = powernormbounds(B, D; Q=Q)\n",
    "time_eigen = @elapsed w = invariant_vector(B, Q)\n",
    "time_error = @elapsed error = distance_from_invariant(B, D, Q, w, norms)"
   ]
  },
  {
   "cell_type": "code",
   "execution_count": null,
   "metadata": {},
   "outputs": [],
   "source": [
    "using Plots"
   ]
  },
  {
   "cell_type": "code",
   "execution_count": 17,
   "metadata": {},
   "outputs": [
    {
     "data": {
      "text/plain": [
       "0.01254660748798521"
      ]
     },
     "metadata": {},
     "output_type": "display_data"
    }
   ],
   "source": [
    "error"
   ]
  },
  {
   "cell_type": "code",
   "execution_count": 13,
   "metadata": {},
   "outputs": [
    {
     "data": {
      "text/plain": [
       "IntegralPreservingDiscretizedOperator{SparseArrays.SparseMatrixCSC{Interval{Float64}, Int64}}(sparse([1, 2, 3, 3, 4, 5, 5, 6, 7, 8  …  1073741818, 1073741819, 1073741820, 1073741820, 1073741821, 1073741821, 1073741822, 1073741823, 1073741823, 1073741824], [1, 1, 1, 2, 2, 2, 3, 3, 3, 3  …  1073741821, 1073741821, 1073741821, 1073741822, 1073741822, 1073741823, 1073741823, 1073741823, 1073741824, 1073741824], Interval{Float64}[[0.4, 0.400001], [0.4, 0.400001], [0.199999, 0.2], [0.2, 0.200001], [0.4, 0.400001], [0.399999, 0.4], [7.45057e-10, 7.45059e-10], [0.4, 0.400001], [0.4, 0.400001], [0.199999, 0.2]  …  [0, 1.1921e-07], [0.666666, 0.666667], [0.333333, 0.333334], [0.333333, 0.333334], [0.666666, 0.666667], [0, 1.1921e-07], [0.666666, 0.666667], [0.333333, 0.333334], [0.333333, 0.333334], [0.666666, 0.666667]], 1073741824, 1073741824))"
      ]
     },
     "metadata": {},
     "output_type": "display_data"
    }
   ],
   "source": [
    "B_fine = Ulam(2^30)\n",
    "Q_fine = DiscretizedOperator(B_fine, D)"
   ]
  },
  {
   "cell_type": "code",
   "execution_count": 18,
   "metadata": {},
   "outputs": [],
   "source": [
    "normQ_fine = opnormbound(B_fine, weak_norm(B_fine), Q_fine)\n",
    "time_norms_fine = @elapsed norms_fine = finepowernormbounds(B, B_fine, D, norms; normQ_fine=normQ_fine)\n",
    "time_eigen_fine = @elapsed w_fine = invariant_vector(B_fine, Q_fine)\n",
    "time_error_fine = @elapsed error_fine = distance_from_invariant(B_fine, D, Q_fine, w_fine, norms_fine)"
   ]
  },
  {
   "cell_type": "code",
   "execution_count": 14,
   "metadata": {},
   "outputs": [
    {
     "data": {
      "text/plain": [
       "6.255383867238796e-5"
      ]
     },
     "metadata": {},
     "output_type": "display_data"
    }
   ],
   "source": [
    "error_fine"
   ]
  },
  {
   "cell_type": "code",
   "execution_count": 8,
   "metadata": {},
   "outputs": [
    {
     "data": {
      "text/plain": [
       "Observable(Ulam{LinRange{Float64, Int64}}(LinRange{Float64}(0.0, 1.0, 2097153)), Interval{Float64}[[0.91629, 0.916291], [0.91629, 0.916291], [0.91629, 0.916291], [0.91629, 0.916291], [0.916289, 0.91629], [0.916289, 0.91629], [0.916289, 0.91629], [0.916289, 0.91629], [0.916289, 0.91629], [0.916288, 0.916289]  …  [0.405468, 0.405469], [0.405467, 0.405468], [0.405467, 0.405468], [0.405467, 0.405468], [0.405466, 0.405467], [0.405466, 0.405467], [0.405466, 0.405467], [0.405465, 0.405466], [0.405465, 0.405466], [0.405465, 0.405466]], [0.405465, 0.916291])"
      ]
     },
     "metadata": {},
     "output_type": "display_data"
    }
   ],
   "source": [
    "ϕ = discretizationlogder(B_fine, D; degree = 7)"
   ]
  },
  {
   "cell_type": "code",
   "execution_count": 10,
   "metadata": {},
   "outputs": [
    {
     "data": {
      "text/plain": [
       "[0.657604, 0.65772]"
      ]
     },
     "metadata": {},
     "output_type": "display_data"
    }
   ],
   "source": [
    "lyap = integrateobservable(B_fine, ϕ, w_fine, error_fine)"
   ]
  },
  {
   "cell_type": "code",
   "execution_count": 12,
   "metadata": {},
   "outputs": [
    {
     "data": {
      "text/plain": [
       "0.00011463512420506472"
      ]
     },
     "metadata": {},
     "output_type": "display_data"
    }
   ],
   "source": [
    "using IntervalArithmetic\n",
    "diam(lyap)"
   ]
  },
  {
   "cell_type": "code",
   "execution_count": null,
   "metadata": {},
   "outputs": [],
   "source": []
  }
 ],
 "metadata": {
  "kernelspec": {
   "display_name": "Julia 1.8.0",
   "language": "julia",
   "name": "julia-1.8"
  },
  "language_info": {
   "file_extension": ".jl",
   "mimetype": "application/julia",
   "name": "julia",
   "version": "1.8.0"
  },
  "orig_nbformat": 4
 },
 "nbformat": 4,
 "nbformat_minor": 2
}
