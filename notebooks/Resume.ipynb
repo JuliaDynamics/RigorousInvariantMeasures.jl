{
 "cells": [
  {
   "cell_type": "markdown",
   "metadata": {},
   "source": [
    "There exist $A, B>0$ and bounded and $0<\\lambda<1$ such that\n",
    "$$\n",
    "||L^n f||_s \\leq A\\lambda^n ||f||_s +B ||f||_1\n",
    "$$"
   ]
  },
  {
   "cell_type": "markdown",
   "metadata": {},
   "source": [
    "If $L$ satisfies a Lasota-Yorke and $f$ is a fixed point, for all $n$\n",
    "$$\n",
    "||f||_s = ||L^n f||_s \\leq A \\lambda^n ||f||_s +B||f||_1\n",
    "$$\n",
    "this implies that\n",
    "$$\n",
    "||f||_s\\leq B ||f||_1\n",
    "$$"
   ]
  },
  {
   "cell_type": "markdown",
   "metadata": {},
   "source": [
    "There exists dynamical systems where there is no Lasota-Yorke inequality.\n",
    "\n",
    "$$\n",
    "T(x) = 4x(1-x)\n",
    "$$"
   ]
  },
  {
   "cell_type": "markdown",
   "metadata": {},
   "source": [
    "$$\n",
    "T(x) = 2x mod(1)\n",
    "$$"
   ]
  }
 ],
 "metadata": {
  "language_info": {
   "name": "python"
  },
  "orig_nbformat": 4
 },
 "nbformat": 4,
 "nbformat_minor": 2
}
