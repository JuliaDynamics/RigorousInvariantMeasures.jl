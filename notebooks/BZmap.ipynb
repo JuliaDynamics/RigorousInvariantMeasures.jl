{
 "cells": [
  {
   "cell_type": "markdown",
   "metadata": {},
   "source": [
    "In this notebook we define the BZ map and its associated constants.\n",
    "\n",
    "The BZ map was introduced in [MT], it is a $C^1$ map on $[0, 1]$\n",
    "piecewise defined.\n",
    "\n",
    "We need to compute some constants to guarantee continuity of the derivative and some dynamical properties."
   ]
  },
  {
   "cell_type": "markdown",
   "metadata": {},
   "source": [
    "On $[0, \\frac{1}{8}]$ the map is defined by \n",
    "$$\n",
    "T_{a,b}(x)=\\left(a+\\left(\\frac{1}{8}-x\\right)^{\\frac{1}{3}} \\right)e^{-x}+b\n",
    "$$"
   ]
  },
  {
   "cell_type": "markdown",
   "metadata": {},
   "source": [
    "On $[\\frac{1}{8}, 0.3]$ the map is defined by\n",
    "$$\n",
    "T_{a,b}(x)=\\left(a+\\left(x-\\frac{1}{8}\\right)^{\\frac{1}{3}} \\right)e^{-x}+b\n",
    "$$"
   ]
  },
  {
   "cell_type": "markdown",
   "metadata": {},
   "source": [
    "On $[0.3, 1]$ it is defined by \n",
    "$$\n",
    "T_{b,c}(x)= c\\left(10x e^{\\frac{-10x}{3}}\\right)^{19}+b.\n",
    "$$"
   ]
  },
  {
   "cell_type": "markdown",
   "metadata": {},
   "source": [
    "We first compute $a, c$ such that $T$ and $T'$ are continuous\n",
    "in $0.3$."
   ]
  },
  {
   "cell_type": "code",
   "execution_count": 11,
   "metadata": {},
   "outputs": [
    {
     "data": {
      "text/latex": [
       "\\begin{equation}\n",
       "b + \\left( a + \\left( \\frac{-1}{8} + x \\right)^{\\frac{1}{3}} \\right) e^{ - x}\n",
       "\\end{equation}\n"
      ],
      "text/plain": [
       "b + (a + (x - (1//8))^(1//3))*exp(-x)"
      ]
     },
     "metadata": {},
     "output_type": "display_data"
    }
   ],
   "source": [
    "using Symbolics\n",
    "@variables a, b, c, x\n",
    "\n",
    "expr_T_l = (a+(x-1//8)^(1//3))*exp(-x)+b"
   ]
  },
  {
   "cell_type": "code",
   "execution_count": 14,
   "metadata": {},
   "outputs": [
    {
     "data": {
      "text/latex": [
       "\\begin{equation}\n",
       "b + 10000000000000000000 \\left( e^{ - \\frac{10}{3} x} \\right)^{19} x^{19} c\n",
       "\\end{equation}\n"
      ],
      "text/plain": [
       "b + (10000000000000000000//1)*c*(x^19)*(exp((-10//3)*x)^19)"
      ]
     },
     "metadata": {},
     "output_type": "display_data"
    }
   ],
   "source": [
    "expr_T_r = c*(BigInt(10)*x*exp(-10//3*x))^(19)+b"
   ]
  },
  {
   "cell_type": "code",
   "execution_count": 23,
   "metadata": {},
   "outputs": [
    {
     "data": {
      "text/latex": [
       "\\begin{equation}\n",
       "b + 0.41437257578452685 + 0.7408182206817179 a\n",
       "\\end{equation}\n"
      ],
      "text/plain": [
       "b + 0.41437257578452685 + 0.7408182206817179a"
      ]
     },
     "metadata": {},
     "output_type": "display_data"
    }
   ],
   "source": [
    "val_l = substitute(expr_T_l, (Dict(x=> 3//10)))"
   ]
  },
  {
   "cell_type": "code",
   "execution_count": 24,
   "metadata": {},
   "outputs": [
    {
     "data": {
      "text/latex": [
       "\\begin{equation}\n",
       "b + 6.511914406794438438226970607009915153990943146993446788572238848363428369686777 c\n",
       "\\end{equation}\n"
      ],
      "text/plain": [
       "b + 6.511914406794438438226970607009915153990943146993446788572238848363428369686777c"
      ]
     },
     "metadata": {},
     "output_type": "display_data"
    }
   ],
   "source": [
    "val_r = substitute(expr_T_r, (Dict(x=> BigInt(3)//BigInt(10))))"
   ]
  },
  {
   "cell_type": "code",
   "execution_count": 26,
   "metadata": {},
   "outputs": [
    {
     "data": {
      "text/latex": [
       "\\begin{equation}\n",
       "b + 6.511914406794438438226970607009915153990943146993446788572238848363428369686777 c = 0.41437257578452685 + b + 0.7408182206817179 a\n",
       "\\end{equation}\n"
      ],
      "text/plain": [
       "b + 6.511914406794438438226970607009915153990943146993446788572238848363428369686777c ~ 0.41437257578452685 + b + 0.7408182206817179a"
      ]
     },
     "metadata": {},
     "output_type": "display_data"
    }
   ],
   "source": [
    "eq_val = Equation(val_r, val_l)"
   ]
  },
  {
   "cell_type": "code",
   "execution_count": 42,
   "metadata": {},
   "outputs": [
    {
     "data": {
      "text/latex": [
       "\\begin{equation}\n",
       " - \\left( a + \\left( \\frac{-1}{8} + x \\right)^{\\frac{1}{3}} \\right) e^{ - x} + \\frac{\\frac{1}{3} e^{ - x}}{\\left( \\frac{-1}{8} + x \\right)^{\\frac{2}{3}}}\n",
       "\\end{equation}\n"
      ],
      "text/plain": [
       "(1//3)*((x - (1//8))^(-2//3))*exp(-x) - (a + (x - (1//8))^(1//3))*exp(-x)"
      ]
     },
     "metadata": {},
     "output_type": "display_data"
    }
   ],
   "source": [
    "D = Differential(x)\n",
    "\n",
    "der_l = expand_derivatives(D(expr_T_l))"
   ]
  },
  {
   "cell_type": "code",
   "execution_count": 41,
   "metadata": {},
   "outputs": [
    {
     "data": {
      "text/latex": [
       "\\begin{equation}\n",
       "0.78928109673243203817846737678116064900183384367454740171389474716012879141371 -0.4143725757845268601359959883623735943487139086638386408239274178252921207587769 - 0.7408182206817178660668737793178168721822512319990063482953100668080982468773553 a\n",
       "\\end{equation}\n"
      ],
      "text/plain": [
       "0.78928109673243203817846737678116064900183384367454740171389474716012879141371 + -0.4143725757845268601359959883623735943487139086638386408239274178252921207587769 - 0.7408182206817178660668737793178168721822512319990063482953100668080982468773553a"
      ]
     },
     "metadata": {},
     "output_type": "display_data"
    }
   ],
   "source": [
    "der_val_l = substitute(der_l, (Dict(x=> BigInt(3)//BigInt(10))))"
   ]
  },
  {
   "cell_type": "code",
   "execution_count": 39,
   "metadata": {},
   "outputs": [
    {
     "data": {
      "text/latex": [
       "\\begin{equation}\n",
       "190000000000000000000 \\left( e^{ - \\frac{10}{3} x} \\right)^{19} x^{18} c - \\frac{1900000000000000000000}{3} \\left( e^{ - \\frac{10}{3} x} \\right)^{19} x^{19} c\n",
       "\\end{equation}\n"
      ],
      "text/plain": [
       "(190000000000000000000//1)*c*(x^18)*(exp((-10//3)*x)^19) - (1900000000000000000000//3)*c*(x^19)*(exp((-10//3)*x)^19)"
      ]
     },
     "metadata": {},
     "output_type": "display_data"
    }
   ],
   "source": [
    "der_r = expand_derivatives(D(expr_T_r))"
   ]
  },
  {
   "cell_type": "code",
   "execution_count": 40,
   "metadata": {},
   "outputs": [
    {
     "data": {
      "text/latex": [
       "\\begin{equation}\n",
       "0\n",
       "\\end{equation}\n"
      ],
      "text/plain": [
       "0"
      ]
     },
     "metadata": {},
     "output_type": "display_data"
    }
   ],
   "source": [
    "der_val_r = substitute(der_r, (Dict(x=> BigInt(3)//BigInt(10))))"
   ]
  },
  {
   "cell_type": "code",
   "execution_count": 33,
   "metadata": {},
   "outputs": [
    {
     "data": {
      "text/latex": [
       "\\begin{equation}\n",
       "0.5060735690368222645574810331055643267537768086550220088252712539778929548760316\n",
       "\\end{equation}\n"
      ],
      "text/plain": [
       "0.5060735690368222645574810331055643267537768086550220088252712539778929548760316"
      ]
     },
     "metadata": {},
     "output_type": "display_data"
    }
   ],
   "source": [
    "z = Symbolics.solve_for(der_eq, a)"
   ]
  },
  {
   "cell_type": "code",
   "execution_count": 35,
   "metadata": {},
   "outputs": [
    {
     "data": {
      "text/plain": [
       "Num"
      ]
     },
     "metadata": {},
     "output_type": "display_data"
    }
   ],
   "source": [
    "typeof(z)"
   ]
  },
  {
   "cell_type": "code",
   "execution_count": 47,
   "metadata": {},
   "outputs": [
    {
     "data": {
      "text/plain": [
       "RuntimeGeneratedFunction(#=in Symbolics=#, #=using Symbolics=#, :((a, x)->begin\n",
       "          #= /home/isaia/.julia/packages/SymbolicUtils/qulQp/src/code.jl:349 =#\n",
       "          #= /home/isaia/.julia/packages/SymbolicUtils/qulQp/src/code.jl:350 =#\n",
       "          #= /home/isaia/.julia/packages/SymbolicUtils/qulQp/src/code.jl:351 =#\n",
       "          (+)((*)((*)(-1, (+)(a, (^)((+)(-1//8, x), 1//3))), (exp)((*)(-1, x))), (*)((*)(1//3, (^)((inv)((+)(-1//8, x)), 2//3)), (exp)((*)(-1, x))))\n",
       "      end))"
      ]
     },
     "metadata": {},
     "output_type": "display_data"
    }
   ],
   "source": [
    "der_l_func = Symbolics.build_function(der_l, a, x, expression = Val(false))"
   ]
  },
  {
   "cell_type": "code",
   "execution_count": 55,
   "metadata": {},
   "outputs": [
    {
     "data": {
      "text/plain": [
       "val_der_func (generic function with 1 method)"
      ]
     },
     "metadata": {},
     "output_type": "display_data"
    }
   ],
   "source": [
    "using IntervalArithmetic\n",
    "\n",
    "val_der_l = der_l_func(a, Interval{BigFloat}(3)/10)\n",
    "val_der_func(a) = der_l_func(a, Interval{BigFloat}(3)/10)"
   ]
  },
  {
   "cell_type": "code",
   "execution_count": 58,
   "metadata": {},
   "outputs": [
    {
     "data": {
      "text/plain": [
       "val_der_der_a (generic function with 1 method)"
      ]
     },
     "metadata": {},
     "output_type": "display_data"
    }
   ],
   "source": [
    "using DualNumbers\n",
    "val_der_der_a(a) = val_der_func(Dual(a, 1)).epsilon"
   ]
  },
  {
   "cell_type": "code",
   "execution_count": 59,
   "metadata": {},
   "outputs": [
    {
     "data": {
      "text/plain": [
       "root (generic function with 1 method)"
      ]
     },
     "metadata": {},
     "output_type": "display_data"
    }
   ],
   "source": [
    "function root(f, f′, x, ϵ; max_iter = 100)\n",
    "\tfor i in 1:max_iter\n",
    "\t\tx_old = x\n",
    "\t\tx_mid = Interval(mid(x))\n",
    "\t\tx = intersect(x, x_mid - f′(x) \\ f(x_mid))\n",
    "\t\tif x_old == x || isempty(x) || diam(x) < ϵ\n",
    "\t\t\treturn x\n",
    "\t\tend\n",
    "\tend\n",
    "\t@info \"Maximum iterates reached\" max_iter, x, f(x)\n",
    "\treturn x\n",
    "end"
   ]
  },
  {
   "cell_type": "code",
   "execution_count": 65,
   "metadata": {},
   "outputs": [
    {
     "data": {
      "text/plain": [
       "[0.506073, 0.506074]₁₀₂₄"
      ]
     },
     "metadata": {},
     "output_type": "display_data"
    }
   ],
   "source": [
    "setprecision(BigFloat, 1024)\n",
    "A = root(val_der_func, val_der_der_a, Interval{BigFloat}(0,1), 10^(-30))"
   ]
  },
  {
   "cell_type": "code",
   "execution_count": 67,
   "metadata": {},
   "outputs": [
    {
     "data": {
      "text/plain": [
       "([0.506073, 0.506074]₁₀₂₄, 1.056910082790920656967860540732891930504127590719607619512830523021422106536611143030784500530942734767931986372242010227447406226737893551706605883054416440037119546927701106977814820035227227134162743397297689273748978244133159042912625500642233310485081028833037802056665806194815529895921683031225989500715e-307)"
      ]
     },
     "metadata": {},
     "output_type": "display_data"
    }
   ],
   "source": [
    "A, diam(A)"
   ]
  },
  {
   "cell_type": "code",
   "execution_count": 69,
   "metadata": {},
   "outputs": [
    {
     "data": {
      "text/latex": [
       "\\begin{equation}\n",
       "b + 6.511914406794438438226970607009915153990943146993446788572238848363428369686776726593025541176182495825888230805826962020754768304662501317099474517672789450016080360306263532818763543873136383969162510850081236786490723744691422325558960437774658203125 c = [0.789281, 0.789282]_{1 0 2 4} + b\n",
       "\\end{equation}\n"
      ],
      "text/plain": [
       "b + 6.511914406794438438226970607009915153990943146993446788572238848363428369686776726593025541176182495825888230805826962020754768304662501317099474517672789450016080360306263532818763543873136383969162510850081236786490723744691422325558960437774658203125c ~ [0.789281, 0.789282]₁₀₂₄ + b"
      ]
     },
     "metadata": {},
     "output_type": "display_data"
    }
   ],
   "source": [
    "sub_eq_val_A = substitute(eq_val, Dict(a=>A))"
   ]
  },
  {
   "cell_type": "code",
   "execution_count": 73,
   "metadata": {},
   "outputs": [
    {
     "data": {
      "text/latex": [
       "\\begin{equation}\n",
       "[0.121205, 0.121206]₁₀₂₄\n",
       "\\end{equation}\n"
      ],
      "text/plain": [
       "[0.121205, 0.121206]₁₀₂₄"
      ]
     },
     "metadata": {},
     "output_type": "display_data"
    }
   ],
   "source": [
    "z = Symbolics.solve_for(sub_eq_val_A, c)"
   ]
  },
  {
   "cell_type": "code",
   "execution_count": 74,
   "metadata": {},
   "outputs": [
    {
     "data": {
      "text/plain": [
       "[0.121205, 0.121206]₁₀₂₄"
      ]
     },
     "metadata": {},
     "output_type": "display_data"
    }
   ],
   "source": [
    "C = Symbolics.value(z)"
   ]
  },
  {
   "cell_type": "code",
   "execution_count": 76,
   "metadata": {},
   "outputs": [
    {
     "data": {
      "text/plain": [
       "([0.121205, 0.121206]₁₀₂₄, 1.390671161567000864431395448332752540137009987788957394095829635554502771758698872408926974382819387852542087331897381878220271350970912568035007740861074263206736245957501456549756342151614772544950978154339064833880234531754156635411349342950306987480369774780312897442981323940546749863054846093718407237782e-308)"
      ]
     },
     "metadata": {},
     "output_type": "display_data"
    }
   ],
   "source": [
    "C, diam(C)"
   ]
  },
  {
   "cell_type": "markdown",
   "metadata": {},
   "source": [
    "We have now found the value of $A$ and $C$"
   ]
  },
  {
   "cell_type": "markdown",
   "metadata": {},
   "source": []
  }
 ],
 "metadata": {
  "kernelspec": {
   "display_name": "Julia 1.8.3",
   "language": "julia",
   "name": "julia-1.8"
  },
  "language_info": {
   "file_extension": ".jl",
   "mimetype": "application/julia",
   "name": "julia",
   "version": "1.8.3"
  },
  "orig_nbformat": 4
 },
 "nbformat": 4,
 "nbformat_minor": 2
}
