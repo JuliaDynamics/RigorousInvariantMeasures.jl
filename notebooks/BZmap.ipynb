{
 "cells": [
  {
   "cell_type": "markdown",
   "metadata": {},
   "source": [
    "In this notebook we define the BZ map and its associated constants.\n",
    "\n",
    "The BZ map was introduced in [MT], it is a $C^1$ map on $[0, 1]$\n",
    "piecewise defined.\n",
    "\n",
    "We need to compute some constants to guarantee continuity of the derivative and some dynamical properties."
   ]
  },
  {
   "cell_type": "markdown",
   "metadata": {},
   "source": [
    "On $[0, \\frac{1}{8}]$ the map is defined by \n",
    "$$\n",
    "T_{a,b}(x)=\\left(a-\\left(\\frac{1}{8}-x\\right)^{\\frac{1}{3}} \\right)e^{-x}+b\n",
    "$$"
   ]
  },
  {
   "cell_type": "markdown",
   "metadata": {},
   "source": [
    "On $[\\frac{1}{8}, 0.3]$ the map is defined by\n",
    "$$\n",
    "T_{a,b}(x)=\\left(a+\\left(x-\\frac{1}{8}\\right)^{\\frac{1}{3}} \\right)e^{-x}+b\n",
    "$$"
   ]
  },
  {
   "cell_type": "markdown",
   "metadata": {},
   "source": [
    "On $[0.3, 1]$ it is defined by \n",
    "$$\n",
    "T_{b,c}(x)= c\\left(10x e^{\\frac{-10x}{3}}\\right)^{19}+b.\n",
    "$$"
   ]
  },
  {
   "cell_type": "markdown",
   "metadata": {},
   "source": [
    "We first compute $a, c$ such that $T$ and $T'$ are continuous\n",
    "in $0.3$."
   ]
  },
  {
   "cell_type": "code",
   "execution_count": null,
   "metadata": {},
   "outputs": [],
   "source": [
    "import Pkg; Pkg.activate(\"../\")"
   ]
  },
  {
   "cell_type": "code",
   "execution_count": null,
   "metadata": {},
   "outputs": [],
   "source": [
    "using Symbolics, IntervalArithmetic\n",
    "@variables a, b, c, x\n",
    "\n",
    "setprecision(BigFloat, 1024)\n",
    "\n",
    "expr_T_l = (a+(x-1//8)^(1//3))*exp(-x)+b"
   ]
  },
  {
   "cell_type": "code",
   "execution_count": null,
   "metadata": {},
   "outputs": [],
   "source": [
    "expr_T_r = c*(BigInt(10)*x*exp(-Interval{BigFloat}(10)/3*x))^(19)+b"
   ]
  },
  {
   "cell_type": "code",
   "execution_count": null,
   "metadata": {},
   "outputs": [],
   "source": [
    "val_l = substitute(expr_T_l, (Dict(x=> Interval{BigFloat}(3)/10)))"
   ]
  },
  {
   "cell_type": "code",
   "execution_count": null,
   "metadata": {},
   "outputs": [],
   "source": [
    "val_r = substitute(expr_T_r, (Dict(x=> Interval{BigFloat}(3)/10)))"
   ]
  },
  {
   "cell_type": "code",
   "execution_count": null,
   "metadata": {},
   "outputs": [],
   "source": [
    "eq_val = Equation(val_r, val_l)"
   ]
  },
  {
   "cell_type": "code",
   "execution_count": null,
   "metadata": {},
   "outputs": [],
   "source": [
    "D = Differential(x)\n",
    "\n",
    "der_l = expand_derivatives(D(expr_T_l))"
   ]
  },
  {
   "cell_type": "code",
   "execution_count": null,
   "metadata": {},
   "outputs": [],
   "source": [
    "der_val_l = substitute(der_l, (Dict(x=> Interval{BigFloat}(3)/10)))"
   ]
  },
  {
   "cell_type": "code",
   "execution_count": null,
   "metadata": {},
   "outputs": [],
   "source": [
    "der_r = expand_derivatives(D(expr_T_r))"
   ]
  },
  {
   "cell_type": "code",
   "execution_count": null,
   "metadata": {},
   "outputs": [],
   "source": [
    "der_val_r = substitute(der_r, (Dict(x=> Interval{BigFloat}(3)/10)))"
   ]
  },
  {
   "cell_type": "code",
   "execution_count": null,
   "metadata": {},
   "outputs": [],
   "source": [
    "der_eq = Equation(der_val_l, 0)"
   ]
  },
  {
   "cell_type": "code",
   "execution_count": null,
   "metadata": {},
   "outputs": [],
   "source": [
    "z = Symbolics.solve_for(der_eq, a)"
   ]
  },
  {
   "cell_type": "code",
   "execution_count": null,
   "metadata": {},
   "outputs": [],
   "source": [
    "typeof(z)\n",
    "Symbolics.value(z)"
   ]
  },
  {
   "cell_type": "code",
   "execution_count": null,
   "metadata": {},
   "outputs": [],
   "source": [
    "der_l_func = Symbolics.build_function(der_l, a, x, expression = Val(false))"
   ]
  },
  {
   "cell_type": "code",
   "execution_count": null,
   "metadata": {},
   "outputs": [],
   "source": [
    "using IntervalArithmetic\n",
    "\n",
    "val_der_l = der_l_func(a, Interval{BigFloat}(3)/10)\n",
    "val_der_func(a) = der_l_func(a, Interval{BigFloat}(3)/10)"
   ]
  },
  {
   "cell_type": "code",
   "execution_count": null,
   "metadata": {},
   "outputs": [],
   "source": [
    "using DualNumbers\n",
    "val_der_der_a(a) = val_der_func(Dual(a, 1)).epsilon"
   ]
  },
  {
   "cell_type": "code",
   "execution_count": null,
   "metadata": {},
   "outputs": [],
   "source": [
    "function root(f, f′, x, ϵ; max_iter = 100)\n",
    "\tfor i in 1:max_iter\n",
    "\t\tx_old = x\n",
    "\t\tx_mid = Interval(mid(x))\n",
    "\t\tx = intersect(x, x_mid - f′(x) \\ f(x_mid))\n",
    "\t\tif x_old == x || isempty(x) || diam(x) < ϵ\n",
    "\t\t\treturn x\n",
    "\t\tend\n",
    "\tend\n",
    "\t@info \"Maximum iterates reached\" max_iter, x, f(x)\n",
    "\treturn x\n",
    "end"
   ]
  },
  {
   "cell_type": "code",
   "execution_count": null,
   "metadata": {},
   "outputs": [],
   "source": [
    "setprecision(BigFloat, 1024)\n",
    "A = root(val_der_func, val_der_der_a, Interval{BigFloat}(0,1), 10^(-30))"
   ]
  },
  {
   "cell_type": "code",
   "execution_count": null,
   "metadata": {},
   "outputs": [],
   "source": [
    "using IntervalArithmetic\n",
    "A, diam(A)"
   ]
  },
  {
   "cell_type": "code",
   "execution_count": null,
   "metadata": {},
   "outputs": [],
   "source": [
    "sub_eq_val_A = substitute(eq_val, Dict(a=>A))"
   ]
  },
  {
   "cell_type": "code",
   "execution_count": null,
   "metadata": {},
   "outputs": [],
   "source": [
    "z = Symbolics.solve_for(sub_eq_val_A, c)"
   ]
  },
  {
   "cell_type": "code",
   "execution_count": null,
   "metadata": {},
   "outputs": [],
   "source": [
    "C = Symbolics.value(z)"
   ]
  },
  {
   "cell_type": "code",
   "execution_count": null,
   "metadata": {},
   "outputs": [],
   "source": [
    "C, diam(C)"
   ]
  },
  {
   "cell_type": "markdown",
   "metadata": {},
   "source": [
    "We have now found the value of $A$ and $C$"
   ]
  },
  {
   "cell_type": "code",
   "execution_count": null,
   "metadata": {},
   "outputs": [],
   "source": [
    "T_left_leq_1_8(x, b) = (A-abs(Interval{BigFloat}(1)/8-x)^(Interval{BigFloat}(1)/3))*exp(-x)+b"
   ]
  },
  {
   "cell_type": "code",
   "execution_count": null,
   "metadata": {},
   "outputs": [],
   "source": [
    "using Plots"
   ]
  },
  {
   "cell_type": "code",
   "execution_count": null,
   "metadata": {},
   "outputs": [],
   "source": [
    "plot(x->mid(T_left_leq_1_8(x, 0.023288528303070)), 0, 1//8)"
   ]
  },
  {
   "cell_type": "code",
   "execution_count": null,
   "metadata": {},
   "outputs": [],
   "source": [
    "T_left_geq_1_8(x, b) = (A+abs(Interval{BigFloat}(1)/8-x)^(Interval{BigFloat}(1)/3))*exp(-x)+b"
   ]
  },
  {
   "cell_type": "code",
   "execution_count": null,
   "metadata": {},
   "outputs": [],
   "source": [
    "plot!(x->mid(T_left_geq_1_8(x, 0.023288528303070)), 1//8, 0.3)"
   ]
  },
  {
   "cell_type": "code",
   "execution_count": null,
   "metadata": {},
   "outputs": [],
   "source": [
    "T_right(x, b) =C*(BigInt(10)*x*exp(-Interval{BigFloat}(10)/3*x))^(19)+b"
   ]
  },
  {
   "cell_type": "code",
   "execution_count": null,
   "metadata": {},
   "outputs": [],
   "source": [
    "plot!(x->mid(T_right(x, 0.023288528303070)), 0.3, 1)"
   ]
  },
  {
   "cell_type": "markdown",
   "metadata": {},
   "source": [
    "We want to certify now the value of $b$."
   ]
  },
  {
   "cell_type": "code",
   "execution_count": null,
   "metadata": {},
   "outputs": [],
   "source": [
    "function T(x, b)\n",
    "    if 0<=x<= 1//8\n",
    "        return T_left_leq_1_8(x, b)\n",
    "    elseif 1//8<x<0.3\n",
    "        return T_left_geq_1_8(x, b)\n",
    "    elseif x>=0.3\n",
    "        return T_right(x, b)\n",
    "    end\n",
    "end"
   ]
  },
  {
   "cell_type": "code",
   "execution_count": null,
   "metadata": {},
   "outputs": [],
   "source": [
    "plot(x->mid(T(x, 0.023288528303070)), 0, 1)"
   ]
  },
  {
   "cell_type": "markdown",
   "metadata": {},
   "source": [
    "We start with an educated guess, i.e., $b = 0.023288528303070$."
   ]
  },
  {
   "cell_type": "code",
   "execution_count": null,
   "metadata": {},
   "outputs": [],
   "source": [
    "zero_three = @biginterval 0.3"
   ]
  },
  {
   "cell_type": "code",
   "execution_count": null,
   "metadata": {},
   "outputs": [],
   "source": [
    "F(v) = [T(zero_three, v[1])-v[2]; T(v[2], v[1])-v[3]; T(v[3],v[1])-v[4]; T(v[4], v[1])-v[5]; T(v[5], v[1])-v[6]; T(v[6], v[1])-v[6]]"
   ]
  },
  {
   "cell_type": "code",
   "execution_count": null,
   "metadata": {},
   "outputs": [],
   "source": [
    "B = @biginterval 0.02328852830307032054478158044023918735669943648088852646123182739831022528\n",
    "B += 2^(-200)*Interval{BigFloat}(-1,1)\n",
    "B, diam(B)"
   ]
  },
  {
   "cell_type": "code",
   "execution_count": null,
   "metadata": {},
   "outputs": [],
   "source": [
    "x_test = @biginterval 0.4\n",
    "diam(T_right(x_test, B))"
   ]
  },
  {
   "cell_type": "code",
   "execution_count": null,
   "metadata": {},
   "outputs": [],
   "source": [
    "x1 = T(zero_three, B)\n",
    "x2 = T(x1, B)\n",
    "x3 = T(x2, B)\n",
    "x4 = T(x3, B)\n",
    "x5 = T(x4, B)\n",
    "\n",
    "v = [x1; x2; x3; x4; x5]\n",
    "v, maximum(diam.(v))"
   ]
  },
  {
   "cell_type": "code",
   "execution_count": null,
   "metadata": {},
   "outputs": [],
   "source": [
    "F([B; v])"
   ]
  },
  {
   "cell_type": "markdown",
   "metadata": {},
   "source": [
    "The vector $[b; v]$ is the starting point for our multivariate Newton Method.\n"
   ]
  },
  {
   "cell_type": "code",
   "execution_count": null,
   "metadata": {},
   "outputs": [],
   "source": [
    "der_r_fixed_c = substitute(der_r, (Dict(c => C)))\n",
    "func_der_r = Symbolics.build_function(der_r_fixed_c, x, expression = Val(false))\n",
    "expr_T_l_leq_1_8 = (A-(Interval{BigFloat}(1)/8-x)^(Interval{BigFloat}(1)/3))*exp(-x)+b\n",
    "der_expr_T_l_leq_1_8 = expand_derivatives(D(expr_T_l_leq_1_8))\n",
    "der_T_l_leq_1_8_func = Symbolics.build_function(der_expr_T_l_leq_1_8, x, expression = Val(false))\n",
    "expr_T_l_geq_1_8 = (A+(x-Interval{BigFloat}(1)/8)^(Interval{BigFloat}(1)/3))*exp(-x)+b\n",
    "der_expr_T_l_geq_1_8 = expand_derivatives(D(expr_T_l_geq_1_8))\n",
    "der_T_l_geq_1_8_func = Symbolics.build_function(der_expr_T_l_geq_1_8, x, expression = Val(false))\n",
    "\n",
    "function der_T(x)\n",
    "    if 0<=x<= 1//8\n",
    "        return der_T_l_leq_1_8_func(x)\n",
    "    elseif 1//8<x<0.3\n",
    "        return der_T_l_geq_1_8_func(x)\n",
    "    elseif x>=0.3\n",
    "        return func_der_r(x)\n",
    "    end\n",
    "end"
   ]
  },
  {
   "cell_type": "code",
   "execution_count": null,
   "metadata": {},
   "outputs": [],
   "source": [
    "diam(der_T(Interval{BigFloat}(1//8)))"
   ]
  },
  {
   "cell_type": "code",
   "execution_count": null,
   "metadata": {},
   "outputs": [],
   "source": [
    "function Jac(v)\n",
    "    n = length(v)\n",
    "    J = zeros(Interval{BigFloat}, (n,n))\n",
    "    J[:, 1] = ones(BigFloat, n)\n",
    "    for i in 1:(n-1)\n",
    "        J[i, i+1] = -1\n",
    "    end\n",
    "    J[n, n]= -1\n",
    "\n",
    "    for i in 2:n\n",
    "        J[i, i] += der_T(v[i])\n",
    "    end\n",
    "\n",
    "    return J\n",
    "end"
   ]
  },
  {
   "cell_type": "code",
   "execution_count": null,
   "metadata": {},
   "outputs": [],
   "source": [
    "w = [B; v]\n",
    "J = Jac(w)"
   ]
  },
  {
   "cell_type": "code",
   "execution_count": null,
   "metadata": {},
   "outputs": [],
   "source": [
    "maximum(diam.(Jac(w)))"
   ]
  },
  {
   "cell_type": "code",
   "execution_count": null,
   "metadata": {},
   "outputs": [],
   "source": [
    "w_next = mid.(w)-inv(Jac(w))*F(Interval{BigFloat}.(mid.(w)))\n",
    "w = w_next\n",
    "w, maximum(diam.(w))"
   ]
  },
  {
   "cell_type": "code",
   "execution_count": null,
   "metadata": {},
   "outputs": [],
   "source": [
    "using JLD2"
   ]
  },
  {
   "cell_type": "code",
   "execution_count": null,
   "metadata": {},
   "outputs": [],
   "source": [
    "BZcoeff = Dict(\"a\"=>A, \"b\"=> B, \"c\"=> C)\n",
    "save(\"bzmapcoeff.jld2\", BZcoeff)"
   ]
  },
  {
   "cell_type": "code",
   "execution_count": null,
   "metadata": {},
   "outputs": [],
   "source": [
    "using Plots"
   ]
  },
  {
   "cell_type": "code",
   "execution_count": null,
   "metadata": {},
   "outputs": [],
   "source": [
    "plot(x->mid(der_T(x)), 0, 1)"
   ]
  },
  {
   "cell_type": "code",
   "execution_count": null,
   "metadata": {},
   "outputs": [],
   "source": []
  }
 ],
 "metadata": {
  "kernelspec": {
   "display_name": "Julia (24 threads) 1.8.0",
   "language": "julia",
   "name": "julia-(24-threads)-1.8"
  },
  "language_info": {
   "file_extension": ".jl",
   "mimetype": "application/julia",
   "name": "julia",
   "version": "1.8.0"
  },
  "orig_nbformat": 4
 },
 "nbformat": 4,
 "nbformat_minor": 2
}
