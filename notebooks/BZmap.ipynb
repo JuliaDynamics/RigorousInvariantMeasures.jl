{
 "cells": [
  {
   "cell_type": "markdown",
   "metadata": {},
   "source": [
    "In this notebook we define the BZ map and its associated constants.\n",
    "\n",
    "The BZ map was introduced in [MT], it is a $C^1$ map on $[0, 1]$\n",
    "piecewise defined.\n",
    "\n",
    "We need to compute some constants to guarantee continuity of the derivative and some dynamical properties."
   ]
  },
  {
   "cell_type": "markdown",
   "metadata": {},
   "source": [
    "On $[0, \\frac{1}{8}]$ the map is defined by \n",
    "$$\n",
    "T_{a,b}(x)=\\left(a-\\left(\\frac{1}{8}-x\\right)^{\\frac{1}{3}} \\right)e^{-x}+b\n",
    "$$"
   ]
  },
  {
   "cell_type": "markdown",
   "metadata": {},
   "source": [
    "On $[\\frac{1}{8}, 0.3]$ the map is defined by\n",
    "$$\n",
    "T_{a,b}(x)=\\left(a+\\left(x-\\frac{1}{8}\\right)^{\\frac{1}{3}} \\right)e^{-x}+b\n",
    "$$"
   ]
  },
  {
   "cell_type": "markdown",
   "metadata": {},
   "source": [
    "On $[0.3, 1]$ it is defined by \n",
    "$$\n",
    "T_{b,c}(x)= c\\left(10x e^{\\frac{-10x}{3}}\\right)^{19}+b.\n",
    "$$"
   ]
  },
  {
   "cell_type": "markdown",
   "metadata": {},
   "source": [
    "We first compute $a, c$ such that $T$ and $T'$ are continuous\n",
    "in $0.3$."
   ]
  },
  {
   "cell_type": "code",
   "execution_count": 122,
   "metadata": {},
   "outputs": [
    {
     "name": "stderr",
     "output_type": "stream",
     "text": [
      "\u001b[32m\u001b[1m  Activating\u001b[22m\u001b[39m project at `~/code/RigorousInvariantMeasures.jl`\n"
     ]
    }
   ],
   "source": [
    "import Pkg; Pkg.activate(\"../\")"
   ]
  },
  {
   "cell_type": "code",
   "execution_count": 123,
   "metadata": {},
   "outputs": [
    {
     "data": {
      "text/latex": [
       "\\begin{equation}\n",
       "b + \\left( a + \\left( \\frac{-1}{8} + x \\right)^{\\frac{1}{3}} \\right) e^{ - x}\n",
       "\\end{equation}\n"
      ],
      "text/plain": [
       "b + (a + (x - (1//8))^(1//3))*exp(-x)"
      ]
     },
     "execution_count": 123,
     "metadata": {},
     "output_type": "execute_result"
    }
   ],
   "source": [
    "using Symbolics\n",
    "@variables a, b, c, x\n",
    "\n",
    "expr_T_l = (a+(x-1//8)^(1//3))*exp(-x)+b"
   ]
  },
  {
   "cell_type": "code",
   "execution_count": 225,
   "metadata": {},
   "outputs": [
    {
     "data": {
      "text/latex": [
       "\\begin{equation}\n",
       "b + 10000000000000000000 \\left( e^{ - [3.33333, 3.33334]_{1 0 2 4} x} \\right)^{19} x^{19} c\n",
       "\\end{equation}\n"
      ],
      "text/plain": [
       "b + (10000000000000000000//1)*c*(x^19)*(exp([-3.33334, -3.33333]₁₀₂₄x)^19)"
      ]
     },
     "execution_count": 225,
     "metadata": {},
     "output_type": "execute_result"
    }
   ],
   "source": [
    "expr_T_r = c*(BigInt(10)*x*exp(-Interval{BigFloat}(10)/3*x))^(19)+b"
   ]
  },
  {
   "cell_type": "code",
   "execution_count": 226,
   "metadata": {},
   "outputs": [
    {
     "data": {
      "text/latex": [
       "\\begin{equation}\n",
       "b + 0.41437257578452685 + 0.7408182206817179 a\n",
       "\\end{equation}\n"
      ],
      "text/plain": [
       "b + 0.41437257578452685 + 0.7408182206817179a"
      ]
     },
     "execution_count": 226,
     "metadata": {},
     "output_type": "execute_result"
    }
   ],
   "source": [
    "val_l = substitute(expr_T_l, (Dict(x=> 3//10)))"
   ]
  },
  {
   "cell_type": "code",
   "execution_count": 227,
   "metadata": {},
   "outputs": [
    {
     "data": {
      "text/latex": [
       "\\begin{equation}\n",
       "b + [6.51191, 6.51192]_{1 0 2 4} c\n",
       "\\end{equation}\n"
      ],
      "text/plain": [
       "b + [6.51191, 6.51192]₁₀₂₄c"
      ]
     },
     "execution_count": 227,
     "metadata": {},
     "output_type": "execute_result"
    }
   ],
   "source": [
    "val_r = substitute(expr_T_r, (Dict(x=> BigInt(3)//BigInt(10))))"
   ]
  },
  {
   "cell_type": "code",
   "execution_count": 228,
   "metadata": {},
   "outputs": [
    {
     "data": {
      "text/latex": [
       "\\begin{equation}\n",
       "b + [6.51191, 6.51192]_{1 0 2 4} c = b + 0.41437257578452685 + 0.7408182206817179 a\n",
       "\\end{equation}\n"
      ],
      "text/plain": [
       "b + [6.51191, 6.51192]₁₀₂₄c ~ b + 0.41437257578452685 + 0.7408182206817179a"
      ]
     },
     "execution_count": 228,
     "metadata": {},
     "output_type": "execute_result"
    }
   ],
   "source": [
    "eq_val = Equation(val_r, val_l)"
   ]
  },
  {
   "cell_type": "code",
   "execution_count": 229,
   "metadata": {},
   "outputs": [
    {
     "data": {
      "text/latex": [
       "\\begin{equation}\n",
       " - \\left( a + \\left( \\frac{-1}{8} + x \\right)^{\\frac{1}{3}} \\right) e^{ - x} + \\frac{\\frac{1}{3} e^{ - x}}{\\left( \\frac{-1}{8} + x \\right)^{\\frac{2}{3}}}\n",
       "\\end{equation}\n"
      ],
      "text/plain": [
       "(1//3)*((x - (1//8))^(-2//3))*exp(-x) - (a + (x - (1//8))^(1//3))*exp(-x)"
      ]
     },
     "execution_count": 229,
     "metadata": {},
     "output_type": "execute_result"
    }
   ],
   "source": [
    "D = Differential(x)\n",
    "\n",
    "der_l = expand_derivatives(D(expr_T_l))"
   ]
  },
  {
   "cell_type": "code",
   "execution_count": 230,
   "metadata": {},
   "outputs": [
    {
     "data": {
      "text/latex": [
       "\\begin{equation}\n",
       "0.7892810967324320381784673767811606490018338436745474017138947471601287914136967386557768568408771934653575171844460204125540521426432097883228079862053730678324876354931503438634545712704641447815601792204001932324679419878296398314943500205573421355692532594717650120251448464665081525197041449837562002611027 -0.4143725757845268601359959883623735943487139086638386408239274178252921207587749444227868590930023097214399121350615428164788416116347053663516921006631187585868482352302471247667524248720990636947017943757708733886928519842960794326377252781919613860753960697034597578904864704462029127261505510622045756945867 - 0.7408182206817178660668737793178168721822512319990063482953100668080982468773547710143739510096639709564605181002112681490924651726365380646988733107087985500318057152203012374338452128662074536217166657062898161274796579831351534167668675028095890837172971303967639760046449100717485978612091037249649270426333 a\n",
       "\\end{equation}\n"
      ],
      "text/plain": [
       "0.7892810967324320381784673767811606490018338436745474017138947471601287914136967386557768568408771934653575171844460204125540521426432097883228079862053730678324876354931503438634545712704641447815601792204001932324679419878296398314943500205573421355692532594717650120251448464665081525197041449837562002611027 + -0.4143725757845268601359959883623735943487139086638386408239274178252921207587749444227868590930023097214399121350615428164788416116347053663516921006631187585868482352302471247667524248720990636947017943757708733886928519842960794326377252781919613860753960697034597578904864704462029127261505510622045756945867 - 0.7408182206817178660668737793178168721822512319990063482953100668080982468773547710143739510096639709564605181002112681490924651726365380646988733107087985500318057152203012374338452128662074536217166657062898161274796579831351534167668675028095890837172971303967639760046449100717485978612091037249649270426333a"
      ]
     },
     "execution_count": 230,
     "metadata": {},
     "output_type": "execute_result"
    }
   ],
   "source": [
    "der_val_l = substitute(der_l, (Dict(x=> BigInt(3)//BigInt(10))))"
   ]
  },
  {
   "cell_type": "code",
   "execution_count": 231,
   "metadata": {},
   "outputs": [
    {
     "data": {
      "text/latex": [
       "\\begin{equation}\n",
       "190000000000000000000 \\left( e^{ - [3.33333, 3.33334]_{1 0 2 4} x} \\right)^{19} x^{18} c - [6.33333e+20, 6.33334e+20]_{1 0 2 4} \\left( e^{ - [3.33333, 3.33334]_{1 0 2 4} x} \\right)^{19} x^{19} c\n",
       "\\end{equation}\n"
      ],
      "text/plain": [
       "(190000000000000000000//1)*c*(x^18)*(exp([-3.33334, -3.33333]₁₀₂₄x)^19) - [6.33333e+20, 6.33334e+20]₁₀₂₄c*(x^19)*(exp([-3.33334, -3.33333]₁₀₂₄x)^19)"
      ]
     },
     "execution_count": 231,
     "metadata": {},
     "output_type": "execute_result"
    }
   ],
   "source": [
    "der_r = expand_derivatives(D(expr_T_r))"
   ]
  },
  {
   "cell_type": "code",
   "execution_count": 232,
   "metadata": {},
   "outputs": [
    {
     "data": {
      "text/latex": [
       "\\begin{equation}\n",
       "[0, 2.53481e-304]_{1 0 2 4} c\n",
       "\\end{equation}\n"
      ],
      "text/plain": [
       "[-2.53481e-304, 2.47785e-304]₁₀₂₄c"
      ]
     },
     "execution_count": 232,
     "metadata": {},
     "output_type": "execute_result"
    }
   ],
   "source": [
    "der_val_r = substitute(der_r, (Dict(x=> BigInt(3)//BigInt(10))))"
   ]
  },
  {
   "cell_type": "code",
   "execution_count": 233,
   "metadata": {},
   "outputs": [
    {
     "data": {
      "text/latex": [
       "\\begin{equation}\n",
       "0.7892810967324320381784673767811606490018338436745474017138947471601287914136967386557768568408771934653575171844460204125540521426432097883228079862053730678324876354931503438634545712704641447815601792204001932324679419878296398314943500205573421355692532594717650120251448464665081525197041449837562002611027 -0.4143725757845268601359959883623735943487139086638386408239274178252921207587749444227868590930023097214399121350615428164788416116347053663516921006631187585868482352302471247667524248720990636947017943757708733886928519842960794326377252781919613860753960697034597578904864704462029127261505510622045756945867 - 0.7408182206817178660668737793178168721822512319990063482953100668080982468773547710143739510096639709564605181002112681490924651726365380646988733107087985500318057152203012374338452128662074536217166657062898161274796579831351534167668675028095890837172971303967639760046449100717485978612091037249649270426333 a = [0, 2.53481e-304]_{1 0 2 4} c\n",
       "\\end{equation}\n"
      ],
      "text/plain": [
       "0.7892810967324320381784673767811606490018338436745474017138947471601287914136967386557768568408771934653575171844460204125540521426432097883228079862053730678324876354931503438634545712704641447815601792204001932324679419878296398314943500205573421355692532594717650120251448464665081525197041449837562002611027 + -0.4143725757845268601359959883623735943487139086638386408239274178252921207587749444227868590930023097214399121350615428164788416116347053663516921006631187585868482352302471247667524248720990636947017943757708733886928519842960794326377252781919613860753960697034597578904864704462029127261505510622045756945867 - 0.7408182206817178660668737793178168721822512319990063482953100668080982468773547710143739510096639709564605181002112681490924651726365380646988733107087985500318057152203012374338452128662074536217166657062898161274796579831351534167668675028095890837172971303967639760046449100717485978612091037249649270426333a ~ [-2.53481e-304, 2.47785e-304]₁₀₂₄c"
      ]
     },
     "execution_count": 233,
     "metadata": {},
     "output_type": "execute_result"
    }
   ],
   "source": [
    "der_eq = Equation(der_val_l, der_val_r)"
   ]
  },
  {
   "cell_type": "code",
   "execution_count": 234,
   "metadata": {},
   "outputs": [
    {
     "data": {
      "text/latex": [
       "\\begin{equation}\n",
       "[0.506073, 0.506074]_{1 0 2 4} + [0, 3.42163e-304]_{1 0 2 4} c\n",
       "\\end{equation}\n"
      ],
      "text/plain": [
       "[0.506073, 0.506074]₁₀₂₄ + [-3.34474e-304, 3.42163e-304]₁₀₂₄c"
      ]
     },
     "execution_count": 234,
     "metadata": {},
     "output_type": "execute_result"
    }
   ],
   "source": [
    "z = Symbolics.solve_for(der_eq, a)"
   ]
  },
  {
   "cell_type": "code",
   "execution_count": 235,
   "metadata": {},
   "outputs": [
    {
     "data": {
      "text/plain": [
       "Num"
      ]
     },
     "execution_count": 235,
     "metadata": {},
     "output_type": "execute_result"
    }
   ],
   "source": [
    "typeof(z)"
   ]
  },
  {
   "cell_type": "code",
   "execution_count": 236,
   "metadata": {},
   "outputs": [
    {
     "data": {
      "text/plain": [
       "RuntimeGeneratedFunction(#=in Symbolics=#, #=using Symbolics=#, :((a, x)->begin\n",
       "          #= /home/isaia/.julia/packages/SymbolicUtils/qulQp/src/code.jl:349 =#\n",
       "          #= /home/isaia/.julia/packages/SymbolicUtils/qulQp/src/code.jl:350 =#\n",
       "          #= /home/isaia/.julia/packages/SymbolicUtils/qulQp/src/code.jl:351 =#\n",
       "          (+)((*)((*)(-1, (+)(a, (^)((+)(-1//8, x), 1//3))), (exp)((*)(-1, x))), (*)((*)(1//3, (^)((inv)((+)(-1//8, x)), 2//3)), (exp)((*)(-1, x))))\n",
       "      end))"
      ]
     },
     "execution_count": 236,
     "metadata": {},
     "output_type": "execute_result"
    }
   ],
   "source": [
    "der_l_func = Symbolics.build_function(der_l, a, x, expression = Val(false))"
   ]
  },
  {
   "cell_type": "code",
   "execution_count": 237,
   "metadata": {},
   "outputs": [
    {
     "data": {
      "text/plain": [
       "val_der_func (generic function with 1 method)"
      ]
     },
     "execution_count": 237,
     "metadata": {},
     "output_type": "execute_result"
    }
   ],
   "source": [
    "using IntervalArithmetic\n",
    "\n",
    "val_der_l = der_l_func(a, Interval{BigFloat}(3)/10)\n",
    "val_der_func(a) = der_l_func(a, Interval{BigFloat}(3)/10)"
   ]
  },
  {
   "cell_type": "code",
   "execution_count": 238,
   "metadata": {},
   "outputs": [
    {
     "data": {
      "text/plain": [
       "val_der_der_a (generic function with 1 method)"
      ]
     },
     "execution_count": 238,
     "metadata": {},
     "output_type": "execute_result"
    }
   ],
   "source": [
    "using DualNumbers\n",
    "val_der_der_a(a) = val_der_func(Dual(a, 1)).epsilon"
   ]
  },
  {
   "cell_type": "code",
   "execution_count": 239,
   "metadata": {},
   "outputs": [
    {
     "data": {
      "text/plain": [
       "root (generic function with 1 method)"
      ]
     },
     "execution_count": 239,
     "metadata": {},
     "output_type": "execute_result"
    }
   ],
   "source": [
    "function root(f, f′, x, ϵ; max_iter = 100)\n",
    "\tfor i in 1:max_iter\n",
    "\t\tx_old = x\n",
    "\t\tx_mid = Interval(mid(x))\n",
    "\t\tx = intersect(x, x_mid - f′(x) \\ f(x_mid))\n",
    "\t\tif x_old == x || isempty(x) || diam(x) < ϵ\n",
    "\t\t\treturn x\n",
    "\t\tend\n",
    "\tend\n",
    "\t@info \"Maximum iterates reached\" max_iter, x, f(x)\n",
    "\treturn x\n",
    "end"
   ]
  },
  {
   "cell_type": "code",
   "execution_count": 240,
   "metadata": {},
   "outputs": [
    {
     "data": {
      "text/plain": [
       "[0.506073, 0.506074]₁₀₂₄"
      ]
     },
     "execution_count": 240,
     "metadata": {},
     "output_type": "execute_result"
    }
   ],
   "source": [
    "setprecision(BigFloat, 1024)\n",
    "A = root(val_der_func, val_der_der_a, Interval{BigFloat}(0,1), 10^(-30))"
   ]
  },
  {
   "cell_type": "code",
   "execution_count": 241,
   "metadata": {},
   "outputs": [
    {
     "data": {
      "text/plain": [
       "([0.506073, 0.506074]₁₀₂₄, 1.056910082790920656967860540732891930504127590719607619512830523021422106536611143030784500530942734767931986372242010227447406226737893551706605883054416440037119546927701106977814820035227227134162743397297689273748978244133159042912625500642233310485081028833037802056665806194815529895921683031225989500715e-307)"
      ]
     },
     "execution_count": 241,
     "metadata": {},
     "output_type": "execute_result"
    }
   ],
   "source": [
    "using IntervalArithmetic\n",
    "A, diam(A)"
   ]
  },
  {
   "cell_type": "code",
   "execution_count": 242,
   "metadata": {},
   "outputs": [
    {
     "data": {
      "text/latex": [
       "\\begin{equation}\n",
       "b + [6.51191, 6.51192]_{1 0 2 4} c = [0.789281, 0.789282]_{1 0 2 4} + b\n",
       "\\end{equation}\n"
      ],
      "text/plain": [
       "b + [6.51191, 6.51192]₁₀₂₄c ~ [0.789281, 0.789282]₁₀₂₄ + b"
      ]
     },
     "execution_count": 242,
     "metadata": {},
     "output_type": "execute_result"
    }
   ],
   "source": [
    "sub_eq_val_A = substitute(eq_val, Dict(a=>A))"
   ]
  },
  {
   "cell_type": "code",
   "execution_count": 243,
   "metadata": {},
   "outputs": [
    {
     "data": {
      "text/latex": [
       "\\begin{equation}\n",
       "[0.121205, 0.121206]₁₀₂₄\n",
       "\\end{equation}\n"
      ],
      "text/plain": [
       "[0.121205, 0.121206]₁₀₂₄"
      ]
     },
     "execution_count": 243,
     "metadata": {},
     "output_type": "execute_result"
    }
   ],
   "source": [
    "z = Symbolics.solve_for(sub_eq_val_A, c)"
   ]
  },
  {
   "cell_type": "code",
   "execution_count": 244,
   "metadata": {},
   "outputs": [
    {
     "data": {
      "text/plain": [
       "[0.121205, 0.121206]₁₀₂₄"
      ]
     },
     "execution_count": 244,
     "metadata": {},
     "output_type": "execute_result"
    }
   ],
   "source": [
    "C = Symbolics.value(z)"
   ]
  },
  {
   "cell_type": "code",
   "execution_count": 245,
   "metadata": {},
   "outputs": [
    {
     "data": {
      "text/plain": [
       "([0.121205, 0.121206]₁₀₂₄, 8.483094085558705273031512234829790494835760925512640103984560776882466907728063121694454543735198265900506732724574029457143655240922566665013547219252553005561091100340758884953513687124850112524200966741468295486669430643700355476009230991996872623630255626159908674402186076037335174164634561171682284150472e-308)"
      ]
     },
     "execution_count": 245,
     "metadata": {},
     "output_type": "execute_result"
    }
   ],
   "source": [
    "C, diam(C)"
   ]
  },
  {
   "cell_type": "markdown",
   "metadata": {},
   "source": [
    "We have now found the value of $A$ and $C$"
   ]
  },
  {
   "cell_type": "code",
   "execution_count": 246,
   "metadata": {},
   "outputs": [
    {
     "data": {
      "text/plain": [
       "T_left_leq_1_8 (generic function with 1 method)"
      ]
     },
     "execution_count": 246,
     "metadata": {},
     "output_type": "execute_result"
    }
   ],
   "source": [
    "T_left_leq_1_8(x, b) = (A-abs(1//8-x)^(Interval(1)/3))*exp(-x)+b"
   ]
  },
  {
   "cell_type": "code",
   "execution_count": 247,
   "metadata": {},
   "outputs": [],
   "source": [
    "using Plots"
   ]
  },
  {
   "cell_type": "code",
   "execution_count": 248,
   "metadata": {},
   "outputs": [
    {
     "data": {
      "image/svg+xml": "<?xml version=\"1.0\" encoding=\"utf-8\"?>\n<svg xmlns=\"http://www.w3.org/2000/svg\" xmlns:xlink=\"http://www.w3.org/1999/xlink\" width=\"600\" height=\"400\" viewBox=\"0 0 2400 1600\">\n<defs>\n  <clipPath id=\"clip510\">\n    <rect x=\"0\" y=\"0\" width=\"2400\" height=\"1600\"/>\n  </clipPath>\n</defs>\n<path clip-path=\"url(#clip510)\" d=\"\nM0 1600 L2400 1600 L2400 0 L0 0  Z\n  \" fill=\"#ffffff\" fill-rule=\"evenodd\" fill-opacity=\"1\"/>\n<defs>\n  <clipPath id=\"clip511\">\n    <rect x=\"480\" y=\"0\" width=\"1681\" height=\"1600\"/>\n  </clipPath>\n</defs>\n<path clip-path=\"url(#clip510)\" d=\"\nM156.598 1486.45 L2352.76 1486.45 L2352.76 47.2441 L156.598 47.2441  Z\n  \" fill=\"#ffffff\" fill-rule=\"evenodd\" fill-opacity=\"1\"/>\n<defs>\n  <clipPath id=\"clip512\">\n    <rect x=\"156\" y=\"47\" width=\"2197\" height=\"1440\"/>\n  </clipPath>\n</defs>\n<polyline clip-path=\"url(#clip512)\" style=\"stroke:#000000; stroke-linecap:butt; stroke-linejoin:round; stroke-width:2; stroke-opacity:0.1; fill:none\" points=\"\n  218.754,1486.45 218.754,47.2441 \n  \"/>\n<polyline clip-path=\"url(#clip512)\" style=\"stroke:#000000; stroke-linecap:butt; stroke-linejoin:round; stroke-width:2; stroke-opacity:0.1; fill:none\" points=\"\n  550.249,1486.45 550.249,47.2441 \n  \"/>\n<polyline clip-path=\"url(#clip512)\" style=\"stroke:#000000; stroke-linecap:butt; stroke-linejoin:round; stroke-width:2; stroke-opacity:0.1; fill:none\" points=\"\n  881.745,1486.45 881.745,47.2441 \n  \"/>\n<polyline clip-path=\"url(#clip512)\" style=\"stroke:#000000; stroke-linecap:butt; stroke-linejoin:round; stroke-width:2; stroke-opacity:0.1; fill:none\" points=\"\n  1213.24,1486.45 1213.24,47.2441 \n  \"/>\n<polyline clip-path=\"url(#clip512)\" style=\"stroke:#000000; stroke-linecap:butt; stroke-linejoin:round; stroke-width:2; stroke-opacity:0.1; fill:none\" points=\"\n  1544.74,1486.45 1544.74,47.2441 \n  \"/>\n<polyline clip-path=\"url(#clip512)\" style=\"stroke:#000000; stroke-linecap:butt; stroke-linejoin:round; stroke-width:2; stroke-opacity:0.1; fill:none\" points=\"\n  1876.23,1486.45 1876.23,47.2441 \n  \"/>\n<polyline clip-path=\"url(#clip512)\" style=\"stroke:#000000; stroke-linecap:butt; stroke-linejoin:round; stroke-width:2; stroke-opacity:0.1; fill:none\" points=\"\n  2207.73,1486.45 2207.73,47.2441 \n  \"/>\n<polyline clip-path=\"url(#clip510)\" style=\"stroke:#000000; stroke-linecap:butt; stroke-linejoin:round; stroke-width:4; stroke-opacity:1; fill:none\" points=\"\n  156.598,1486.45 2352.76,1486.45 \n  \"/>\n<polyline clip-path=\"url(#clip510)\" style=\"stroke:#000000; stroke-linecap:butt; stroke-linejoin:round; stroke-width:4; stroke-opacity:1; fill:none\" points=\"\n  218.754,1486.45 218.754,1467.55 \n  \"/>\n<polyline clip-path=\"url(#clip510)\" style=\"stroke:#000000; stroke-linecap:butt; stroke-linejoin:round; stroke-width:4; stroke-opacity:1; fill:none\" points=\"\n  550.249,1486.45 550.249,1467.55 \n  \"/>\n<polyline clip-path=\"url(#clip510)\" style=\"stroke:#000000; stroke-linecap:butt; stroke-linejoin:round; stroke-width:4; stroke-opacity:1; fill:none\" points=\"\n  881.745,1486.45 881.745,1467.55 \n  \"/>\n<polyline clip-path=\"url(#clip510)\" style=\"stroke:#000000; stroke-linecap:butt; stroke-linejoin:round; stroke-width:4; stroke-opacity:1; fill:none\" points=\"\n  1213.24,1486.45 1213.24,1467.55 \n  \"/>\n<polyline clip-path=\"url(#clip510)\" style=\"stroke:#000000; stroke-linecap:butt; stroke-linejoin:round; stroke-width:4; stroke-opacity:1; fill:none\" points=\"\n  1544.74,1486.45 1544.74,1467.55 \n  \"/>\n<polyline clip-path=\"url(#clip510)\" style=\"stroke:#000000; stroke-linecap:butt; stroke-linejoin:round; stroke-width:4; stroke-opacity:1; fill:none\" points=\"\n  1876.23,1486.45 1876.23,1467.55 \n  \"/>\n<polyline clip-path=\"url(#clip510)\" style=\"stroke:#000000; stroke-linecap:butt; stroke-linejoin:round; stroke-width:4; stroke-opacity:1; fill:none\" points=\"\n  2207.73,1486.45 2207.73,1467.55 \n  \"/>\n<path clip-path=\"url(#clip510)\" d=\"M181.057 1517.37 Q177.446 1517.37 175.617 1520.93 Q173.812 1524.47 173.812 1531.6 Q173.812 1538.71 175.617 1542.27 Q177.446 1545.82 181.057 1545.82 Q184.691 1545.82 186.497 1542.27 Q188.326 1538.71 188.326 1531.6 Q188.326 1524.47 186.497 1520.93 Q184.691 1517.37 181.057 1517.37 M181.057 1513.66 Q186.867 1513.66 189.923 1518.27 Q193.001 1522.85 193.001 1531.6 Q193.001 1540.33 189.923 1544.94 Q186.867 1549.52 181.057 1549.52 Q175.247 1549.52 172.168 1544.94 Q169.113 1540.33 169.113 1531.6 Q169.113 1522.85 172.168 1518.27 Q175.247 1513.66 181.057 1513.66 Z\" fill=\"#000000\" fill-rule=\"evenodd\" fill-opacity=\"1\" /><path clip-path=\"url(#clip510)\" d=\"M201.219 1542.97 L206.103 1542.97 L206.103 1548.85 L201.219 1548.85 L201.219 1542.97 Z\" fill=\"#000000\" fill-rule=\"evenodd\" fill-opacity=\"1\" /><path clip-path=\"url(#clip510)\" d=\"M226.288 1517.37 Q222.677 1517.37 220.849 1520.93 Q219.043 1524.47 219.043 1531.6 Q219.043 1538.71 220.849 1542.27 Q222.677 1545.82 226.288 1545.82 Q229.923 1545.82 231.728 1542.27 Q233.557 1538.71 233.557 1531.6 Q233.557 1524.47 231.728 1520.93 Q229.923 1517.37 226.288 1517.37 M226.288 1513.66 Q232.098 1513.66 235.154 1518.27 Q238.233 1522.85 238.233 1531.6 Q238.233 1540.33 235.154 1544.94 Q232.098 1549.52 226.288 1549.52 Q220.478 1549.52 217.399 1544.94 Q214.344 1540.33 214.344 1531.6 Q214.344 1522.85 217.399 1518.27 Q220.478 1513.66 226.288 1513.66 Z\" fill=\"#000000\" fill-rule=\"evenodd\" fill-opacity=\"1\" /><path clip-path=\"url(#clip510)\" d=\"M256.45 1517.37 Q252.839 1517.37 251.01 1520.93 Q249.205 1524.47 249.205 1531.6 Q249.205 1538.71 251.01 1542.27 Q252.839 1545.82 256.45 1545.82 Q260.084 1545.82 261.89 1542.27 Q263.719 1538.71 263.719 1531.6 Q263.719 1524.47 261.89 1520.93 Q260.084 1517.37 256.45 1517.37 M256.45 1513.66 Q262.26 1513.66 265.316 1518.27 Q268.395 1522.85 268.395 1531.6 Q268.395 1540.33 265.316 1544.94 Q262.26 1549.52 256.45 1549.52 Q250.64 1549.52 247.561 1544.94 Q244.506 1540.33 244.506 1531.6 Q244.506 1522.85 247.561 1518.27 Q250.64 1513.66 256.45 1513.66 Z\" fill=\"#000000\" fill-rule=\"evenodd\" fill-opacity=\"1\" /><path clip-path=\"url(#clip510)\" d=\"M513.351 1517.37 Q509.74 1517.37 507.911 1520.93 Q506.106 1524.47 506.106 1531.6 Q506.106 1538.71 507.911 1542.27 Q509.74 1545.82 513.351 1545.82 Q516.985 1545.82 518.791 1542.27 Q520.62 1538.71 520.62 1531.6 Q520.62 1524.47 518.791 1520.93 Q516.985 1517.37 513.351 1517.37 M513.351 1513.66 Q519.161 1513.66 522.217 1518.27 Q525.296 1522.85 525.296 1531.6 Q525.296 1540.33 522.217 1544.94 Q519.161 1549.52 513.351 1549.52 Q507.541 1549.52 504.462 1544.94 Q501.407 1540.33 501.407 1531.6 Q501.407 1522.85 504.462 1518.27 Q507.541 1513.66 513.351 1513.66 Z\" fill=\"#000000\" fill-rule=\"evenodd\" fill-opacity=\"1\" /><path clip-path=\"url(#clip510)\" d=\"M533.513 1542.97 L538.397 1542.97 L538.397 1548.85 L533.513 1548.85 L533.513 1542.97 Z\" fill=\"#000000\" fill-rule=\"evenodd\" fill-opacity=\"1\" /><path clip-path=\"url(#clip510)\" d=\"M558.582 1517.37 Q554.971 1517.37 553.143 1520.93 Q551.337 1524.47 551.337 1531.6 Q551.337 1538.71 553.143 1542.27 Q554.971 1545.82 558.582 1545.82 Q562.217 1545.82 564.022 1542.27 Q565.851 1538.71 565.851 1531.6 Q565.851 1524.47 564.022 1520.93 Q562.217 1517.37 558.582 1517.37 M558.582 1513.66 Q564.393 1513.66 567.448 1518.27 Q570.527 1522.85 570.527 1531.6 Q570.527 1540.33 567.448 1544.94 Q564.393 1549.52 558.582 1549.52 Q552.772 1549.52 549.694 1544.94 Q546.638 1540.33 546.638 1531.6 Q546.638 1522.85 549.694 1518.27 Q552.772 1513.66 558.582 1513.66 Z\" fill=\"#000000\" fill-rule=\"evenodd\" fill-opacity=\"1\" /><path clip-path=\"url(#clip510)\" d=\"M582.772 1544.91 L599.091 1544.91 L599.091 1548.85 L577.147 1548.85 L577.147 1544.91 Q579.809 1542.16 584.392 1537.53 Q588.999 1532.88 590.179 1531.53 Q592.425 1529.01 593.304 1527.27 Q594.207 1525.51 594.207 1523.82 Q594.207 1521.07 592.263 1519.33 Q590.342 1517.6 587.24 1517.6 Q585.041 1517.6 582.587 1518.36 Q580.156 1519.13 577.379 1520.68 L577.379 1515.95 Q580.203 1514.82 582.656 1514.24 Q585.11 1513.66 587.147 1513.66 Q592.517 1513.66 595.712 1516.35 Q598.906 1519.03 598.906 1523.52 Q598.906 1525.65 598.096 1527.57 Q597.309 1529.47 595.203 1532.07 Q594.624 1532.74 591.522 1535.95 Q588.42 1539.15 582.772 1544.91 Z\" fill=\"#000000\" fill-rule=\"evenodd\" fill-opacity=\"1\" /><path clip-path=\"url(#clip510)\" d=\"M843.805 1517.37 Q840.194 1517.37 838.365 1520.93 Q836.56 1524.47 836.56 1531.6 Q836.56 1538.71 838.365 1542.27 Q840.194 1545.82 843.805 1545.82 Q847.439 1545.82 849.245 1542.27 Q851.074 1538.71 851.074 1531.6 Q851.074 1524.47 849.245 1520.93 Q847.439 1517.37 843.805 1517.37 M843.805 1513.66 Q849.615 1513.66 852.671 1518.27 Q855.749 1522.85 855.749 1531.6 Q855.749 1540.33 852.671 1544.94 Q849.615 1549.52 843.805 1549.52 Q837.995 1549.52 834.916 1544.94 Q831.861 1540.33 831.861 1531.6 Q831.861 1522.85 834.916 1518.27 Q837.995 1513.66 843.805 1513.66 Z\" fill=\"#000000\" fill-rule=\"evenodd\" fill-opacity=\"1\" /><path clip-path=\"url(#clip510)\" d=\"M863.967 1542.97 L868.851 1542.97 L868.851 1548.85 L863.967 1548.85 L863.967 1542.97 Z\" fill=\"#000000\" fill-rule=\"evenodd\" fill-opacity=\"1\" /><path clip-path=\"url(#clip510)\" d=\"M889.036 1517.37 Q885.425 1517.37 883.596 1520.93 Q881.791 1524.47 881.791 1531.6 Q881.791 1538.71 883.596 1542.27 Q885.425 1545.82 889.036 1545.82 Q892.671 1545.82 894.476 1542.27 Q896.305 1538.71 896.305 1531.6 Q896.305 1524.47 894.476 1520.93 Q892.671 1517.37 889.036 1517.37 M889.036 1513.66 Q894.846 1513.66 897.902 1518.27 Q900.981 1522.85 900.981 1531.6 Q900.981 1540.33 897.902 1544.94 Q894.846 1549.52 889.036 1549.52 Q883.226 1549.52 880.147 1544.94 Q877.092 1540.33 877.092 1531.6 Q877.092 1522.85 880.147 1518.27 Q883.226 1513.66 889.036 1513.66 Z\" fill=\"#000000\" fill-rule=\"evenodd\" fill-opacity=\"1\" /><path clip-path=\"url(#clip510)\" d=\"M922.045 1518.36 L910.24 1536.81 L922.045 1536.81 L922.045 1518.36 M920.819 1514.29 L926.698 1514.29 L926.698 1536.81 L931.629 1536.81 L931.629 1540.7 L926.698 1540.7 L926.698 1548.85 L922.045 1548.85 L922.045 1540.7 L906.444 1540.7 L906.444 1536.19 L920.819 1514.29 Z\" fill=\"#000000\" fill-rule=\"evenodd\" fill-opacity=\"1\" /><path clip-path=\"url(#clip510)\" d=\"M1175.46 1517.37 Q1171.85 1517.37 1170.02 1520.93 Q1168.22 1524.47 1168.22 1531.6 Q1168.22 1538.71 1170.02 1542.27 Q1171.85 1545.82 1175.46 1545.82 Q1179.1 1545.82 1180.9 1542.27 Q1182.73 1538.71 1182.73 1531.6 Q1182.73 1524.47 1180.9 1520.93 Q1179.1 1517.37 1175.46 1517.37 M1175.46 1513.66 Q1181.27 1513.66 1184.33 1518.27 Q1187.41 1522.85 1187.41 1531.6 Q1187.41 1540.33 1184.33 1544.94 Q1181.27 1549.52 1175.46 1549.52 Q1169.65 1549.52 1166.57 1544.94 Q1163.52 1540.33 1163.52 1531.6 Q1163.52 1522.85 1166.57 1518.27 Q1169.65 1513.66 1175.46 1513.66 Z\" fill=\"#000000\" fill-rule=\"evenodd\" fill-opacity=\"1\" /><path clip-path=\"url(#clip510)\" d=\"M1195.62 1542.97 L1200.51 1542.97 L1200.51 1548.85 L1195.62 1548.85 L1195.62 1542.97 Z\" fill=\"#000000\" fill-rule=\"evenodd\" fill-opacity=\"1\" /><path clip-path=\"url(#clip510)\" d=\"M1220.69 1517.37 Q1217.08 1517.37 1215.25 1520.93 Q1213.45 1524.47 1213.45 1531.6 Q1213.45 1538.71 1215.25 1542.27 Q1217.08 1545.82 1220.69 1545.82 Q1224.33 1545.82 1226.13 1542.27 Q1227.96 1538.71 1227.96 1531.6 Q1227.96 1524.47 1226.13 1520.93 Q1224.33 1517.37 1220.69 1517.37 M1220.69 1513.66 Q1226.5 1513.66 1229.56 1518.27 Q1232.64 1522.85 1232.64 1531.6 Q1232.64 1540.33 1229.56 1544.94 Q1226.5 1549.52 1220.69 1549.52 Q1214.88 1549.52 1211.8 1544.94 Q1208.75 1540.33 1208.75 1531.6 Q1208.75 1522.85 1211.8 1518.27 Q1214.88 1513.66 1220.69 1513.66 Z\" fill=\"#000000\" fill-rule=\"evenodd\" fill-opacity=\"1\" /><path clip-path=\"url(#clip510)\" d=\"M1251.43 1529.7 Q1248.29 1529.7 1246.43 1531.86 Q1244.61 1534.01 1244.61 1537.76 Q1244.61 1541.49 1246.43 1543.66 Q1248.29 1545.82 1251.43 1545.82 Q1254.58 1545.82 1256.41 1543.66 Q1258.26 1541.49 1258.26 1537.76 Q1258.26 1534.01 1256.41 1531.86 Q1254.58 1529.7 1251.43 1529.7 M1260.72 1515.05 L1260.72 1519.31 Q1258.96 1518.48 1257.15 1518.04 Q1255.37 1517.6 1253.61 1517.6 Q1248.98 1517.6 1246.53 1520.72 Q1244.1 1523.85 1243.75 1530.17 Q1245.11 1528.15 1247.18 1527.09 Q1249.24 1526 1251.71 1526 Q1256.92 1526 1259.93 1529.17 Q1262.96 1532.32 1262.96 1537.76 Q1262.96 1543.08 1259.81 1546.3 Q1256.67 1549.52 1251.43 1549.52 Q1245.44 1549.52 1242.27 1544.94 Q1239.1 1540.33 1239.1 1531.6 Q1239.1 1523.41 1242.99 1518.55 Q1246.87 1513.66 1253.43 1513.66 Q1255.18 1513.66 1256.97 1514.01 Q1258.77 1514.36 1260.72 1515.05 Z\" fill=\"#000000\" fill-rule=\"evenodd\" fill-opacity=\"1\" /><path clip-path=\"url(#clip510)\" d=\"M1507.09 1517.37 Q1503.47 1517.37 1501.65 1520.93 Q1499.84 1524.47 1499.84 1531.6 Q1499.84 1538.71 1501.65 1542.27 Q1503.47 1545.82 1507.09 1545.82 Q1510.72 1545.82 1512.53 1542.27 Q1514.35 1538.71 1514.35 1531.6 Q1514.35 1524.47 1512.53 1520.93 Q1510.72 1517.37 1507.09 1517.37 M1507.09 1513.66 Q1512.9 1513.66 1515.95 1518.27 Q1519.03 1522.85 1519.03 1531.6 Q1519.03 1540.33 1515.95 1544.94 Q1512.9 1549.52 1507.09 1549.52 Q1501.28 1549.52 1498.2 1544.94 Q1495.14 1540.33 1495.14 1531.6 Q1495.14 1522.85 1498.2 1518.27 Q1501.28 1513.66 1507.09 1513.66 Z\" fill=\"#000000\" fill-rule=\"evenodd\" fill-opacity=\"1\" /><path clip-path=\"url(#clip510)\" d=\"M1527.25 1542.97 L1532.13 1542.97 L1532.13 1548.85 L1527.25 1548.85 L1527.25 1542.97 Z\" fill=\"#000000\" fill-rule=\"evenodd\" fill-opacity=\"1\" /><path clip-path=\"url(#clip510)\" d=\"M1552.32 1517.37 Q1548.71 1517.37 1546.88 1520.93 Q1545.07 1524.47 1545.07 1531.6 Q1545.07 1538.71 1546.88 1542.27 Q1548.71 1545.82 1552.32 1545.82 Q1555.95 1545.82 1557.76 1542.27 Q1559.59 1538.71 1559.59 1531.6 Q1559.59 1524.47 1557.76 1520.93 Q1555.95 1517.37 1552.32 1517.37 M1552.32 1513.66 Q1558.13 1513.66 1561.18 1518.27 Q1564.26 1522.85 1564.26 1531.6 Q1564.26 1540.33 1561.18 1544.94 Q1558.13 1549.52 1552.32 1549.52 Q1546.51 1549.52 1543.43 1544.94 Q1540.37 1540.33 1540.37 1531.6 Q1540.37 1522.85 1543.43 1518.27 Q1546.51 1513.66 1552.32 1513.66 Z\" fill=\"#000000\" fill-rule=\"evenodd\" fill-opacity=\"1\" /><path clip-path=\"url(#clip510)\" d=\"M1582.48 1532.44 Q1579.15 1532.44 1577.22 1534.22 Q1575.33 1536 1575.33 1539.13 Q1575.33 1542.25 1577.22 1544.03 Q1579.15 1545.82 1582.48 1545.82 Q1585.81 1545.82 1587.73 1544.03 Q1589.65 1542.23 1589.65 1539.13 Q1589.65 1536 1587.73 1534.22 Q1585.83 1532.44 1582.48 1532.44 M1577.8 1530.45 Q1574.79 1529.7 1573.1 1527.64 Q1571.44 1525.58 1571.44 1522.62 Q1571.44 1518.48 1574.38 1516.07 Q1577.34 1513.66 1582.48 1513.66 Q1587.64 1513.66 1590.58 1516.07 Q1593.52 1518.48 1593.52 1522.62 Q1593.52 1525.58 1591.83 1527.64 Q1590.16 1529.7 1587.18 1530.45 Q1590.56 1531.23 1592.43 1533.52 Q1594.33 1535.82 1594.33 1539.13 Q1594.33 1544.15 1591.25 1546.83 Q1588.2 1549.52 1582.48 1549.52 Q1576.76 1549.52 1573.68 1546.83 Q1570.63 1544.15 1570.63 1539.13 Q1570.63 1535.82 1572.52 1533.52 Q1574.42 1531.23 1577.8 1530.45 M1576.09 1523.06 Q1576.09 1525.75 1577.76 1527.25 Q1579.45 1528.76 1582.48 1528.76 Q1585.49 1528.76 1587.18 1527.25 Q1588.89 1525.75 1588.89 1523.06 Q1588.89 1520.38 1587.18 1518.87 Q1585.49 1517.37 1582.48 1517.37 Q1579.45 1517.37 1577.76 1518.87 Q1576.09 1520.38 1576.09 1523.06 Z\" fill=\"#000000\" fill-rule=\"evenodd\" fill-opacity=\"1\" /><path clip-path=\"url(#clip510)\" d=\"M1838.53 1517.37 Q1834.92 1517.37 1833.09 1520.93 Q1831.29 1524.47 1831.29 1531.6 Q1831.29 1538.71 1833.09 1542.27 Q1834.92 1545.82 1838.53 1545.82 Q1842.17 1545.82 1843.97 1542.27 Q1845.8 1538.71 1845.8 1531.6 Q1845.8 1524.47 1843.97 1520.93 Q1842.17 1517.37 1838.53 1517.37 M1838.53 1513.66 Q1844.34 1513.66 1847.4 1518.27 Q1850.48 1522.85 1850.48 1531.6 Q1850.48 1540.33 1847.4 1544.94 Q1844.34 1549.52 1838.53 1549.52 Q1832.72 1549.52 1829.65 1544.94 Q1826.59 1540.33 1826.59 1531.6 Q1826.59 1522.85 1829.65 1518.27 Q1832.72 1513.66 1838.53 1513.66 Z\" fill=\"#000000\" fill-rule=\"evenodd\" fill-opacity=\"1\" /><path clip-path=\"url(#clip510)\" d=\"M1858.7 1542.97 L1863.58 1542.97 L1863.58 1548.85 L1858.7 1548.85 L1858.7 1542.97 Z\" fill=\"#000000\" fill-rule=\"evenodd\" fill-opacity=\"1\" /><path clip-path=\"url(#clip510)\" d=\"M1874.58 1544.91 L1882.21 1544.91 L1882.21 1518.55 L1873.9 1520.21 L1873.9 1515.95 L1882.17 1514.29 L1886.84 1514.29 L1886.84 1544.91 L1894.48 1544.91 L1894.48 1548.85 L1874.58 1548.85 L1874.58 1544.91 Z\" fill=\"#000000\" fill-rule=\"evenodd\" fill-opacity=\"1\" /><path clip-path=\"url(#clip510)\" d=\"M1913.93 1517.37 Q1910.32 1517.37 1908.49 1520.93 Q1906.68 1524.47 1906.68 1531.6 Q1906.68 1538.71 1908.49 1542.27 Q1910.32 1545.82 1913.93 1545.82 Q1917.56 1545.82 1919.37 1542.27 Q1921.2 1538.71 1921.2 1531.6 Q1921.2 1524.47 1919.37 1520.93 Q1917.56 1517.37 1913.93 1517.37 M1913.93 1513.66 Q1919.74 1513.66 1922.79 1518.27 Q1925.87 1522.85 1925.87 1531.6 Q1925.87 1540.33 1922.79 1544.94 Q1919.74 1549.52 1913.93 1549.52 Q1908.12 1549.52 1905.04 1544.94 Q1901.98 1540.33 1901.98 1531.6 Q1901.98 1522.85 1905.04 1518.27 Q1908.12 1513.66 1913.93 1513.66 Z\" fill=\"#000000\" fill-rule=\"evenodd\" fill-opacity=\"1\" /><path clip-path=\"url(#clip510)\" d=\"M2170.83 1517.37 Q2167.22 1517.37 2165.39 1520.93 Q2163.58 1524.47 2163.58 1531.6 Q2163.58 1538.71 2165.39 1542.27 Q2167.22 1545.82 2170.83 1545.82 Q2174.46 1545.82 2176.27 1542.27 Q2178.1 1538.71 2178.1 1531.6 Q2178.1 1524.47 2176.27 1520.93 Q2174.46 1517.37 2170.83 1517.37 M2170.83 1513.66 Q2176.64 1513.66 2179.69 1518.27 Q2182.77 1522.85 2182.77 1531.6 Q2182.77 1540.33 2179.69 1544.94 Q2176.64 1549.52 2170.83 1549.52 Q2165.02 1549.52 2161.94 1544.94 Q2158.88 1540.33 2158.88 1531.6 Q2158.88 1522.85 2161.94 1518.27 Q2165.02 1513.66 2170.83 1513.66 Z\" fill=\"#000000\" fill-rule=\"evenodd\" fill-opacity=\"1\" /><path clip-path=\"url(#clip510)\" d=\"M2190.99 1542.97 L2195.87 1542.97 L2195.87 1548.85 L2190.99 1548.85 L2190.99 1542.97 Z\" fill=\"#000000\" fill-rule=\"evenodd\" fill-opacity=\"1\" /><path clip-path=\"url(#clip510)\" d=\"M2206.87 1544.91 L2214.51 1544.91 L2214.51 1518.55 L2206.2 1520.21 L2206.2 1515.95 L2214.46 1514.29 L2219.14 1514.29 L2219.14 1544.91 L2226.78 1544.91 L2226.78 1548.85 L2206.87 1548.85 L2206.87 1544.91 Z\" fill=\"#000000\" fill-rule=\"evenodd\" fill-opacity=\"1\" /><path clip-path=\"url(#clip510)\" d=\"M2240.25 1544.91 L2256.57 1544.91 L2256.57 1548.85 L2234.62 1548.85 L2234.62 1544.91 Q2237.29 1542.16 2241.87 1537.53 Q2246.48 1532.88 2247.66 1531.53 Q2249.9 1529.01 2250.78 1527.27 Q2251.68 1525.51 2251.68 1523.82 Q2251.68 1521.07 2249.74 1519.33 Q2247.82 1517.6 2244.72 1517.6 Q2242.52 1517.6 2240.06 1518.36 Q2237.63 1519.13 2234.86 1520.68 L2234.86 1515.95 Q2237.68 1514.82 2240.13 1514.24 Q2242.59 1513.66 2244.62 1513.66 Q2249.99 1513.66 2253.19 1516.35 Q2256.38 1519.03 2256.38 1523.52 Q2256.38 1525.65 2255.57 1527.57 Q2254.79 1529.47 2252.68 1532.07 Q2252.1 1532.74 2249 1535.95 Q2245.9 1539.15 2240.25 1544.91 Z\" fill=\"#000000\" fill-rule=\"evenodd\" fill-opacity=\"1\" /><polyline clip-path=\"url(#clip512)\" style=\"stroke:#000000; stroke-linecap:butt; stroke-linejoin:round; stroke-width:2; stroke-opacity:0.1; fill:none\" points=\"\n  156.598,1228.01 2352.76,1228.01 \n  \"/>\n<polyline clip-path=\"url(#clip512)\" style=\"stroke:#000000; stroke-linecap:butt; stroke-linejoin:round; stroke-width:2; stroke-opacity:0.1; fill:none\" points=\"\n  156.598,919.805 2352.76,919.805 \n  \"/>\n<polyline clip-path=\"url(#clip512)\" style=\"stroke:#000000; stroke-linecap:butt; stroke-linejoin:round; stroke-width:2; stroke-opacity:0.1; fill:none\" points=\"\n  156.598,611.603 2352.76,611.603 \n  \"/>\n<polyline clip-path=\"url(#clip512)\" style=\"stroke:#000000; stroke-linecap:butt; stroke-linejoin:round; stroke-width:2; stroke-opacity:0.1; fill:none\" points=\"\n  156.598,303.4 2352.76,303.4 \n  \"/>\n<polyline clip-path=\"url(#clip510)\" style=\"stroke:#000000; stroke-linecap:butt; stroke-linejoin:round; stroke-width:4; stroke-opacity:1; fill:none\" points=\"\n  156.598,1486.45 156.598,47.2441 \n  \"/>\n<polyline clip-path=\"url(#clip510)\" style=\"stroke:#000000; stroke-linecap:butt; stroke-linejoin:round; stroke-width:4; stroke-opacity:1; fill:none\" points=\"\n  156.598,1228.01 175.496,1228.01 \n  \"/>\n<polyline clip-path=\"url(#clip510)\" style=\"stroke:#000000; stroke-linecap:butt; stroke-linejoin:round; stroke-width:4; stroke-opacity:1; fill:none\" points=\"\n  156.598,919.805 175.496,919.805 \n  \"/>\n<polyline clip-path=\"url(#clip510)\" style=\"stroke:#000000; stroke-linecap:butt; stroke-linejoin:round; stroke-width:4; stroke-opacity:1; fill:none\" points=\"\n  156.598,611.603 175.496,611.603 \n  \"/>\n<polyline clip-path=\"url(#clip510)\" style=\"stroke:#000000; stroke-linecap:butt; stroke-linejoin:round; stroke-width:4; stroke-opacity:1; fill:none\" points=\"\n  156.598,303.4 175.496,303.4 \n  \"/>\n<path clip-path=\"url(#clip510)\" d=\"M64.6495 1213.81 Q61.0384 1213.81 59.2097 1217.37 Q57.4041 1220.91 57.4041 1228.04 Q57.4041 1235.15 59.2097 1238.71 Q61.0384 1242.26 64.6495 1242.26 Q68.2837 1242.26 70.0892 1238.71 Q71.9179 1235.15 71.9179 1228.04 Q71.9179 1220.91 70.0892 1217.37 Q68.2837 1213.81 64.6495 1213.81 M64.6495 1210.1 Q70.4596 1210.1 73.5152 1214.71 Q76.5938 1219.29 76.5938 1228.04 Q76.5938 1236.77 73.5152 1241.38 Q70.4596 1245.96 64.6495 1245.96 Q58.8393 1245.96 55.7606 1241.38 Q52.7051 1236.77 52.7051 1228.04 Q52.7051 1219.29 55.7606 1214.71 Q58.8393 1210.1 64.6495 1210.1 Z\" fill=\"#000000\" fill-rule=\"evenodd\" fill-opacity=\"1\" /><path clip-path=\"url(#clip510)\" d=\"M84.8114 1239.41 L89.6956 1239.41 L89.6956 1245.29 L84.8114 1245.29 L84.8114 1239.41 Z\" fill=\"#000000\" fill-rule=\"evenodd\" fill-opacity=\"1\" /><path clip-path=\"url(#clip510)\" d=\"M100.691 1241.35 L108.33 1241.35 L108.33 1214.99 L100.02 1216.65 L100.02 1212.39 L108.283 1210.73 L112.959 1210.73 L112.959 1241.35 L120.598 1241.35 L120.598 1245.29 L100.691 1245.29 L100.691 1241.35 Z\" fill=\"#000000\" fill-rule=\"evenodd\" fill-opacity=\"1\" /><path clip-path=\"url(#clip510)\" d=\"M65.0198 905.604 Q61.4087 905.604 59.58 909.169 Q57.7745 912.71 57.7745 919.84 Q57.7745 926.947 59.58 930.511 Q61.4087 934.053 65.0198 934.053 Q68.6541 934.053 70.4596 930.511 Q72.2883 926.947 72.2883 919.84 Q72.2883 912.71 70.4596 909.169 Q68.6541 905.604 65.0198 905.604 M65.0198 901.9 Q70.83 901.9 73.8855 906.507 Q76.9642 911.09 76.9642 919.84 Q76.9642 928.567 73.8855 933.173 Q70.83 937.757 65.0198 937.757 Q59.2097 937.757 56.131 933.173 Q53.0754 928.567 53.0754 919.84 Q53.0754 911.09 56.131 906.507 Q59.2097 901.9 65.0198 901.9 Z\" fill=\"#000000\" fill-rule=\"evenodd\" fill-opacity=\"1\" /><path clip-path=\"url(#clip510)\" d=\"M85.1818 931.206 L90.066 931.206 L90.066 937.085 L85.1818 937.085 L85.1818 931.206 Z\" fill=\"#000000\" fill-rule=\"evenodd\" fill-opacity=\"1\" /><path clip-path=\"url(#clip510)\" d=\"M104.279 933.15 L120.598 933.15 L120.598 937.085 L98.6539 937.085 L98.6539 933.15 Q101.316 930.396 105.899 925.766 Q110.506 921.113 111.686 919.771 Q113.932 917.247 114.811 915.511 Q115.714 913.752 115.714 912.062 Q115.714 909.308 113.77 907.572 Q111.848 905.836 108.746 905.836 Q106.547 905.836 104.094 906.599 Q101.663 907.363 98.8854 908.914 L98.8854 904.192 Q101.709 903.058 104.163 902.479 Q106.617 901.9 108.654 901.9 Q114.024 901.9 117.219 904.586 Q120.413 907.271 120.413 911.761 Q120.413 913.891 119.603 915.812 Q118.816 917.71 116.709 920.303 Q116.131 920.974 113.029 924.192 Q109.927 927.386 104.279 933.15 Z\" fill=\"#000000\" fill-rule=\"evenodd\" fill-opacity=\"1\" /><path clip-path=\"url(#clip510)\" d=\"M64.0708 597.401 Q60.4597 597.401 58.631 600.966 Q56.8254 604.508 56.8254 611.638 Q56.8254 618.744 58.631 622.309 Q60.4597 625.85 64.0708 625.85 Q67.705 625.85 69.5105 622.309 Q71.3392 618.744 71.3392 611.638 Q71.3392 604.508 69.5105 600.966 Q67.705 597.401 64.0708 597.401 M64.0708 593.698 Q69.8809 593.698 72.9365 598.304 Q76.0151 602.888 76.0151 611.638 Q76.0151 620.364 72.9365 624.971 Q69.8809 629.554 64.0708 629.554 Q58.2606 629.554 55.1819 624.971 Q52.1264 620.364 52.1264 611.638 Q52.1264 602.888 55.1819 598.304 Q58.2606 593.698 64.0708 593.698 Z\" fill=\"#000000\" fill-rule=\"evenodd\" fill-opacity=\"1\" /><path clip-path=\"url(#clip510)\" d=\"M84.2327 623.003 L89.1169 623.003 L89.1169 628.883 L84.2327 628.883 L84.2327 623.003 Z\" fill=\"#000000\" fill-rule=\"evenodd\" fill-opacity=\"1\" /><path clip-path=\"url(#clip510)\" d=\"M113.469 610.249 Q116.825 610.966 118.7 613.235 Q120.598 615.503 120.598 618.837 Q120.598 623.952 117.08 626.753 Q113.561 629.554 107.08 629.554 Q104.904 629.554 102.589 629.114 Q100.297 628.698 97.8437 627.841 L97.8437 623.327 Q99.7882 624.462 102.103 625.04 Q104.418 625.619 106.941 625.619 Q111.339 625.619 113.631 623.883 Q115.945 622.147 115.945 618.837 Q115.945 615.781 113.793 614.068 Q111.663 612.332 107.844 612.332 L103.816 612.332 L103.816 608.489 L108.029 608.489 Q111.478 608.489 113.307 607.124 Q115.135 605.735 115.135 603.142 Q115.135 600.48 113.237 599.068 Q111.362 597.633 107.844 597.633 Q105.922 597.633 103.723 598.05 Q101.524 598.466 98.8854 599.346 L98.8854 595.179 Q101.547 594.439 103.862 594.068 Q106.2 593.698 108.26 593.698 Q113.584 593.698 116.686 596.128 Q119.788 598.536 119.788 602.656 Q119.788 605.526 118.145 607.517 Q116.501 609.485 113.469 610.249 Z\" fill=\"#000000\" fill-rule=\"evenodd\" fill-opacity=\"1\" /><path clip-path=\"url(#clip510)\" d=\"M62.9365 289.199 Q59.3254 289.199 57.4967 292.764 Q55.6912 296.305 55.6912 303.435 Q55.6912 310.541 57.4967 314.106 Q59.3254 317.648 62.9365 317.648 Q66.5707 317.648 68.3763 314.106 Q70.205 310.541 70.205 303.435 Q70.205 296.305 68.3763 292.764 Q66.5707 289.199 62.9365 289.199 M62.9365 285.495 Q68.7467 285.495 71.8022 290.102 Q74.8809 294.685 74.8809 303.435 Q74.8809 312.162 71.8022 316.768 Q68.7467 321.352 62.9365 321.352 Q57.1264 321.352 54.0477 316.768 Q50.9921 312.162 50.9921 303.435 Q50.9921 294.685 54.0477 290.102 Q57.1264 285.495 62.9365 285.495 Z\" fill=\"#000000\" fill-rule=\"evenodd\" fill-opacity=\"1\" /><path clip-path=\"url(#clip510)\" d=\"M83.0984 314.801 L87.9827 314.801 L87.9827 320.68 L83.0984 320.68 L83.0984 314.801 Z\" fill=\"#000000\" fill-rule=\"evenodd\" fill-opacity=\"1\" /><path clip-path=\"url(#clip510)\" d=\"M111.015 290.194 L99.2095 308.643 L111.015 308.643 L111.015 290.194 M109.788 286.12 L115.668 286.12 L115.668 308.643 L120.598 308.643 L120.598 312.532 L115.668 312.532 L115.668 320.68 L111.015 320.68 L111.015 312.532 L95.4132 312.532 L95.4132 308.018 L109.788 286.12 Z\" fill=\"#000000\" fill-rule=\"evenodd\" fill-opacity=\"1\" /><polyline clip-path=\"url(#clip512)\" style=\"stroke:#009af9; stroke-linecap:butt; stroke-linejoin:round; stroke-width:4; stroke-opacity:1; fill:none\" points=\"\n  218.754,1445.72 232.242,1442.38 356.966,1411.1 431.92,1391.88 495.293,1375.35 564.133,1357.09 627.598,1339.95 695.639,1321.22 774.471,1299.01 844.528,1278.79 \n  905.961,1260.64 972.94,1240.36 1040.32,1219.39 1114.81,1195.49 1185.69,1171.95 1259.39,1146.55 1321.42,1124.35 1397.17,1096.08 1466.55,1068.91 1530.63,1042.56 \n  1595.54,1014.44 1668.29,980.915 1734.21,948.329 1771.95,928.554 1809.69,907.832 1844.63,887.686 1879.57,866.484 1914.02,844.393 1948.47,820.93 1981.92,796.603 \n  2015.36,770.456 2049.65,741.348 2083.94,709.316 2102.72,690.23 2121.5,669.811 2140.29,647.8 2159.07,623.844 2172.71,604.952 2186.35,584.517 2200,562.182 \n  2213.64,537.439 2220.46,523.939 2227.28,509.519 2234.1,494.006 2240.92,477.168 2247.75,458.685 2254.57,438.092 2257.98,426.793 2261.39,414.666 2264.8,401.543 \n  2268.21,387.191 2271.01,374.268 2273.81,360.033 2276.61,344.099 2279.41,325.848 2280.8,315.549 2282.2,304.208 2283.6,291.516 2285,276.985 2285.7,268.787 \n  2286.4,259.761 2287.1,249.663 2287.8,238.104 2288.15,231.584 2288.5,224.407 2288.85,216.379 2289.2,207.191 2289.55,196.306 2289.9,182.627 2290.25,163.116 \n  2290.6,87.9763 \n  \"/>\n<path clip-path=\"url(#clip510)\" d=\"\nM1983.1 198.898 L2279.55 198.898 L2279.55 95.2176 L1983.1 95.2176  Z\n  \" fill=\"#ffffff\" fill-rule=\"evenodd\" fill-opacity=\"1\"/>\n<polyline clip-path=\"url(#clip510)\" style=\"stroke:#000000; stroke-linecap:butt; stroke-linejoin:round; stroke-width:4; stroke-opacity:1; fill:none\" points=\"\n  1983.1,198.898 2279.55,198.898 2279.55,95.2176 1983.1,95.2176 1983.1,198.898 \n  \"/>\n<polyline clip-path=\"url(#clip510)\" style=\"stroke:#009af9; stroke-linecap:butt; stroke-linejoin:round; stroke-width:4; stroke-opacity:1; fill:none\" points=\"\n  2007.5,147.058 2153.92,147.058 \n  \"/>\n<path clip-path=\"url(#clip510)\" d=\"M2192.16 166.745 Q2190.35 171.375 2188.64 172.787 Q2186.93 174.199 2184.06 174.199 L2180.65 174.199 L2180.65 170.634 L2183.15 170.634 Q2184.91 170.634 2185.89 169.8 Q2186.86 168.967 2188.04 165.865 L2188.8 163.921 L2178.32 138.412 L2182.83 138.412 L2190.93 158.689 L2199.03 138.412 L2203.55 138.412 L2192.16 166.745 Z\" fill=\"#000000\" fill-rule=\"evenodd\" fill-opacity=\"1\" /><path clip-path=\"url(#clip510)\" d=\"M2210.84 160.402 L2218.48 160.402 L2218.48 134.037 L2210.17 135.703 L2210.17 131.444 L2218.43 129.778 L2223.11 129.778 L2223.11 160.402 L2230.75 160.402 L2230.75 164.338 L2210.84 164.338 L2210.84 160.402 Z\" fill=\"#000000\" fill-rule=\"evenodd\" fill-opacity=\"1\" /></svg>\n"
     },
     "execution_count": 248,
     "metadata": {},
     "output_type": "execute_result"
    }
   ],
   "source": [
    "plot(x->mid(T_left_leq_1_8(x, 0.023288528303070)), 0, 1//8)"
   ]
  },
  {
   "cell_type": "code",
   "execution_count": 249,
   "metadata": {},
   "outputs": [
    {
     "data": {
      "text/plain": [
       "T_left_geq_1_8 (generic function with 1 method)"
      ]
     },
     "execution_count": 249,
     "metadata": {},
     "output_type": "execute_result"
    }
   ],
   "source": [
    "T_left_geq_1_8(x, b) = (A+abs(1//8-x)^(Interval(1)/3))*exp(-x)+b"
   ]
  },
  {
   "cell_type": "code",
   "execution_count": 250,
   "metadata": {},
   "outputs": [
    {
     "data": {
      "image/svg+xml": "<?xml version=\"1.0\" encoding=\"utf-8\"?>\n<svg xmlns=\"http://www.w3.org/2000/svg\" xmlns:xlink=\"http://www.w3.org/1999/xlink\" width=\"600\" height=\"400\" viewBox=\"0 0 2400 1600\">\n<defs>\n  <clipPath id=\"clip550\">\n    <rect x=\"0\" y=\"0\" width=\"2400\" height=\"1600\"/>\n  </clipPath>\n</defs>\n<path clip-path=\"url(#clip550)\" d=\"\nM0 1600 L2400 1600 L2400 0 L0 0  Z\n  \" fill=\"#ffffff\" fill-rule=\"evenodd\" fill-opacity=\"1\"/>\n<defs>\n  <clipPath id=\"clip551\">\n    <rect x=\"480\" y=\"0\" width=\"1681\" height=\"1600\"/>\n  </clipPath>\n</defs>\n<path clip-path=\"url(#clip550)\" d=\"\nM156.598 1486.45 L2352.76 1486.45 L2352.76 47.2441 L156.598 47.2441  Z\n  \" fill=\"#ffffff\" fill-rule=\"evenodd\" fill-opacity=\"1\"/>\n<defs>\n  <clipPath id=\"clip552\">\n    <rect x=\"156\" y=\"47\" width=\"2197\" height=\"1440\"/>\n  </clipPath>\n</defs>\n<polyline clip-path=\"url(#clip552)\" style=\"stroke:#000000; stroke-linecap:butt; stroke-linejoin:round; stroke-width:2; stroke-opacity:0.1; fill:none\" points=\"\n  218.754,1486.45 218.754,47.2441 \n  \"/>\n<polyline clip-path=\"url(#clip552)\" style=\"stroke:#000000; stroke-linecap:butt; stroke-linejoin:round; stroke-width:2; stroke-opacity:0.1; fill:none\" points=\"\n  909.369,1486.45 909.369,47.2441 \n  \"/>\n<polyline clip-path=\"url(#clip552)\" style=\"stroke:#000000; stroke-linecap:butt; stroke-linejoin:round; stroke-width:2; stroke-opacity:0.1; fill:none\" points=\"\n  1599.98,1486.45 1599.98,47.2441 \n  \"/>\n<polyline clip-path=\"url(#clip552)\" style=\"stroke:#000000; stroke-linecap:butt; stroke-linejoin:round; stroke-width:2; stroke-opacity:0.1; fill:none\" points=\"\n  2290.6,1486.45 2290.6,47.2441 \n  \"/>\n<polyline clip-path=\"url(#clip550)\" style=\"stroke:#000000; stroke-linecap:butt; stroke-linejoin:round; stroke-width:4; stroke-opacity:1; fill:none\" points=\"\n  156.598,1486.45 2352.76,1486.45 \n  \"/>\n<polyline clip-path=\"url(#clip550)\" style=\"stroke:#000000; stroke-linecap:butt; stroke-linejoin:round; stroke-width:4; stroke-opacity:1; fill:none\" points=\"\n  218.754,1486.45 218.754,1467.55 \n  \"/>\n<polyline clip-path=\"url(#clip550)\" style=\"stroke:#000000; stroke-linecap:butt; stroke-linejoin:round; stroke-width:4; stroke-opacity:1; fill:none\" points=\"\n  909.369,1486.45 909.369,1467.55 \n  \"/>\n<polyline clip-path=\"url(#clip550)\" style=\"stroke:#000000; stroke-linecap:butt; stroke-linejoin:round; stroke-width:4; stroke-opacity:1; fill:none\" points=\"\n  1599.98,1486.45 1599.98,1467.55 \n  \"/>\n<polyline clip-path=\"url(#clip550)\" style=\"stroke:#000000; stroke-linecap:butt; stroke-linejoin:round; stroke-width:4; stroke-opacity:1; fill:none\" points=\"\n  2290.6,1486.45 2290.6,1467.55 \n  \"/>\n<path clip-path=\"url(#clip550)\" d=\"M196.138 1517.37 Q192.527 1517.37 190.698 1520.93 Q188.893 1524.47 188.893 1531.6 Q188.893 1538.71 190.698 1542.27 Q192.527 1545.82 196.138 1545.82 Q199.772 1545.82 201.578 1542.27 Q203.407 1538.71 203.407 1531.6 Q203.407 1524.47 201.578 1520.93 Q199.772 1517.37 196.138 1517.37 M196.138 1513.66 Q201.948 1513.66 205.004 1518.27 Q208.082 1522.85 208.082 1531.6 Q208.082 1540.33 205.004 1544.94 Q201.948 1549.52 196.138 1549.52 Q190.328 1549.52 187.249 1544.94 Q184.194 1540.33 184.194 1531.6 Q184.194 1522.85 187.249 1518.27 Q190.328 1513.66 196.138 1513.66 Z\" fill=\"#000000\" fill-rule=\"evenodd\" fill-opacity=\"1\" /><path clip-path=\"url(#clip550)\" d=\"M216.3 1542.97 L221.184 1542.97 L221.184 1548.85 L216.3 1548.85 L216.3 1542.97 Z\" fill=\"#000000\" fill-rule=\"evenodd\" fill-opacity=\"1\" /><path clip-path=\"url(#clip550)\" d=\"M241.369 1517.37 Q237.758 1517.37 235.929 1520.93 Q234.124 1524.47 234.124 1531.6 Q234.124 1538.71 235.929 1542.27 Q237.758 1545.82 241.369 1545.82 Q245.003 1545.82 246.809 1542.27 Q248.638 1538.71 248.638 1531.6 Q248.638 1524.47 246.809 1520.93 Q245.003 1517.37 241.369 1517.37 M241.369 1513.66 Q247.179 1513.66 250.235 1518.27 Q253.314 1522.85 253.314 1531.6 Q253.314 1540.33 250.235 1544.94 Q247.179 1549.52 241.369 1549.52 Q235.559 1549.52 232.48 1544.94 Q229.425 1540.33 229.425 1531.6 Q229.425 1522.85 232.48 1518.27 Q235.559 1513.66 241.369 1513.66 Z\" fill=\"#000000\" fill-rule=\"evenodd\" fill-opacity=\"1\" /><path clip-path=\"url(#clip550)\" d=\"M887.367 1517.37 Q883.756 1517.37 881.927 1520.93 Q880.122 1524.47 880.122 1531.6 Q880.122 1538.71 881.927 1542.27 Q883.756 1545.82 887.367 1545.82 Q891.001 1545.82 892.807 1542.27 Q894.636 1538.71 894.636 1531.6 Q894.636 1524.47 892.807 1520.93 Q891.001 1517.37 887.367 1517.37 M887.367 1513.66 Q893.177 1513.66 896.233 1518.27 Q899.311 1522.85 899.311 1531.6 Q899.311 1540.33 896.233 1544.94 Q893.177 1549.52 887.367 1549.52 Q881.557 1549.52 878.478 1544.94 Q875.423 1540.33 875.423 1531.6 Q875.423 1522.85 878.478 1518.27 Q881.557 1513.66 887.367 1513.66 Z\" fill=\"#000000\" fill-rule=\"evenodd\" fill-opacity=\"1\" /><path clip-path=\"url(#clip550)\" d=\"M907.529 1542.97 L912.413 1542.97 L912.413 1548.85 L907.529 1548.85 L907.529 1542.97 Z\" fill=\"#000000\" fill-rule=\"evenodd\" fill-opacity=\"1\" /><path clip-path=\"url(#clip550)\" d=\"M923.409 1544.91 L931.047 1544.91 L931.047 1518.55 L922.737 1520.21 L922.737 1515.95 L931.001 1514.29 L935.677 1514.29 L935.677 1544.91 L943.316 1544.91 L943.316 1548.85 L923.409 1548.85 L923.409 1544.91 Z\" fill=\"#000000\" fill-rule=\"evenodd\" fill-opacity=\"1\" /><path clip-path=\"url(#clip550)\" d=\"M1578.17 1517.37 Q1574.56 1517.37 1572.73 1520.93 Q1570.92 1524.47 1570.92 1531.6 Q1570.92 1538.71 1572.73 1542.27 Q1574.56 1545.82 1578.17 1545.82 Q1581.8 1545.82 1583.61 1542.27 Q1585.44 1538.71 1585.44 1531.6 Q1585.44 1524.47 1583.61 1520.93 Q1581.8 1517.37 1578.17 1517.37 M1578.17 1513.66 Q1583.98 1513.66 1587.03 1518.27 Q1590.11 1522.85 1590.11 1531.6 Q1590.11 1540.33 1587.03 1544.94 Q1583.98 1549.52 1578.17 1549.52 Q1572.36 1549.52 1569.28 1544.94 Q1566.22 1540.33 1566.22 1531.6 Q1566.22 1522.85 1569.28 1518.27 Q1572.36 1513.66 1578.17 1513.66 Z\" fill=\"#000000\" fill-rule=\"evenodd\" fill-opacity=\"1\" /><path clip-path=\"url(#clip550)\" d=\"M1598.33 1542.97 L1603.21 1542.97 L1603.21 1548.85 L1598.33 1548.85 L1598.33 1542.97 Z\" fill=\"#000000\" fill-rule=\"evenodd\" fill-opacity=\"1\" /><path clip-path=\"url(#clip550)\" d=\"M1617.43 1544.91 L1633.75 1544.91 L1633.75 1548.85 L1611.8 1548.85 L1611.8 1544.91 Q1614.46 1542.16 1619.05 1537.53 Q1623.65 1532.88 1624.83 1531.53 Q1627.08 1529.01 1627.96 1527.27 Q1628.86 1525.51 1628.86 1523.82 Q1628.86 1521.07 1626.92 1519.33 Q1625 1517.6 1621.89 1517.6 Q1619.7 1517.6 1617.24 1518.36 Q1614.81 1519.13 1612.03 1520.68 L1612.03 1515.95 Q1614.86 1514.82 1617.31 1514.24 Q1619.76 1513.66 1621.8 1513.66 Q1627.17 1513.66 1630.37 1516.35 Q1633.56 1519.03 1633.56 1523.52 Q1633.56 1525.65 1632.75 1527.57 Q1631.96 1529.47 1629.86 1532.07 Q1629.28 1532.74 1626.18 1535.95 Q1623.08 1539.15 1617.43 1544.91 Z\" fill=\"#000000\" fill-rule=\"evenodd\" fill-opacity=\"1\" /><path clip-path=\"url(#clip550)\" d=\"M2268.31 1517.37 Q2264.7 1517.37 2262.87 1520.93 Q2261.06 1524.47 2261.06 1531.6 Q2261.06 1538.71 2262.87 1542.27 Q2264.7 1545.82 2268.31 1545.82 Q2271.94 1545.82 2273.75 1542.27 Q2275.58 1538.71 2275.58 1531.6 Q2275.58 1524.47 2273.75 1520.93 Q2271.94 1517.37 2268.31 1517.37 M2268.31 1513.66 Q2274.12 1513.66 2277.17 1518.27 Q2280.25 1522.85 2280.25 1531.6 Q2280.25 1540.33 2277.17 1544.94 Q2274.12 1549.52 2268.31 1549.52 Q2262.5 1549.52 2259.42 1544.94 Q2256.36 1540.33 2256.36 1531.6 Q2256.36 1522.85 2259.42 1518.27 Q2262.5 1513.66 2268.31 1513.66 Z\" fill=\"#000000\" fill-rule=\"evenodd\" fill-opacity=\"1\" /><path clip-path=\"url(#clip550)\" d=\"M2288.47 1542.97 L2293.36 1542.97 L2293.36 1548.85 L2288.47 1548.85 L2288.47 1542.97 Z\" fill=\"#000000\" fill-rule=\"evenodd\" fill-opacity=\"1\" /><path clip-path=\"url(#clip550)\" d=\"M2317.71 1530.21 Q2321.06 1530.93 2322.94 1533.2 Q2324.84 1535.47 2324.84 1538.8 Q2324.84 1543.92 2321.32 1546.72 Q2317.8 1549.52 2311.32 1549.52 Q2309.14 1549.52 2306.83 1549.08 Q2304.54 1548.66 2302.08 1547.81 L2302.08 1543.29 Q2304.03 1544.43 2306.34 1545.01 Q2308.66 1545.58 2311.18 1545.58 Q2315.58 1545.58 2317.87 1543.85 Q2320.18 1542.11 2320.18 1538.8 Q2320.18 1535.75 2318.03 1534.03 Q2315.9 1532.3 2312.08 1532.3 L2308.05 1532.3 L2308.05 1528.45 L2312.27 1528.45 Q2315.72 1528.45 2317.54 1527.09 Q2319.37 1525.7 2319.37 1523.11 Q2319.37 1520.45 2317.48 1519.03 Q2315.6 1517.6 2312.08 1517.6 Q2310.16 1517.6 2307.96 1518.01 Q2305.76 1518.43 2303.12 1519.31 L2303.12 1515.14 Q2305.79 1514.4 2308.1 1514.03 Q2310.44 1513.66 2312.5 1513.66 Q2317.82 1513.66 2320.92 1516.09 Q2324.03 1518.5 2324.03 1522.62 Q2324.03 1525.49 2322.38 1527.48 Q2320.74 1529.45 2317.71 1530.21 Z\" fill=\"#000000\" fill-rule=\"evenodd\" fill-opacity=\"1\" /><polyline clip-path=\"url(#clip552)\" style=\"stroke:#000000; stroke-linecap:butt; stroke-linejoin:round; stroke-width:2; stroke-opacity:0.1; fill:none\" points=\"\n  156.598,1149.9 2352.76,1149.9 \n  \"/>\n<polyline clip-path=\"url(#clip552)\" style=\"stroke:#000000; stroke-linecap:butt; stroke-linejoin:round; stroke-width:2; stroke-opacity:0.1; fill:none\" points=\"\n  156.598,803.192 2352.76,803.192 \n  \"/>\n<polyline clip-path=\"url(#clip552)\" style=\"stroke:#000000; stroke-linecap:butt; stroke-linejoin:round; stroke-width:2; stroke-opacity:0.1; fill:none\" points=\"\n  156.598,456.479 2352.76,456.479 \n  \"/>\n<polyline clip-path=\"url(#clip552)\" style=\"stroke:#000000; stroke-linecap:butt; stroke-linejoin:round; stroke-width:2; stroke-opacity:0.1; fill:none\" points=\"\n  156.598,109.767 2352.76,109.767 \n  \"/>\n<polyline clip-path=\"url(#clip550)\" style=\"stroke:#000000; stroke-linecap:butt; stroke-linejoin:round; stroke-width:4; stroke-opacity:1; fill:none\" points=\"\n  156.598,1486.45 156.598,47.2441 \n  \"/>\n<polyline clip-path=\"url(#clip550)\" style=\"stroke:#000000; stroke-linecap:butt; stroke-linejoin:round; stroke-width:4; stroke-opacity:1; fill:none\" points=\"\n  156.598,1149.9 175.496,1149.9 \n  \"/>\n<polyline clip-path=\"url(#clip550)\" style=\"stroke:#000000; stroke-linecap:butt; stroke-linejoin:round; stroke-width:4; stroke-opacity:1; fill:none\" points=\"\n  156.598,803.192 175.496,803.192 \n  \"/>\n<polyline clip-path=\"url(#clip550)\" style=\"stroke:#000000; stroke-linecap:butt; stroke-linejoin:round; stroke-width:4; stroke-opacity:1; fill:none\" points=\"\n  156.598,456.479 175.496,456.479 \n  \"/>\n<polyline clip-path=\"url(#clip550)\" style=\"stroke:#000000; stroke-linecap:butt; stroke-linejoin:round; stroke-width:4; stroke-opacity:1; fill:none\" points=\"\n  156.598,109.767 175.496,109.767 \n  \"/>\n<path clip-path=\"url(#clip550)\" d=\"M65.0198 1135.7 Q61.4087 1135.7 59.58 1139.27 Q57.7745 1142.81 57.7745 1149.94 Q57.7745 1157.05 59.58 1160.61 Q61.4087 1164.15 65.0198 1164.15 Q68.6541 1164.15 70.4596 1160.61 Q72.2883 1157.05 72.2883 1149.94 Q72.2883 1142.81 70.4596 1139.27 Q68.6541 1135.7 65.0198 1135.7 M65.0198 1132 Q70.83 1132 73.8855 1136.61 Q76.9642 1141.19 76.9642 1149.94 Q76.9642 1158.67 73.8855 1163.27 Q70.83 1167.86 65.0198 1167.86 Q59.2097 1167.86 56.131 1163.27 Q53.0754 1158.67 53.0754 1149.94 Q53.0754 1141.19 56.131 1136.61 Q59.2097 1132 65.0198 1132 Z\" fill=\"#000000\" fill-rule=\"evenodd\" fill-opacity=\"1\" /><path clip-path=\"url(#clip550)\" d=\"M85.1818 1161.3 L90.066 1161.3 L90.066 1167.18 L85.1818 1167.18 L85.1818 1161.3 Z\" fill=\"#000000\" fill-rule=\"evenodd\" fill-opacity=\"1\" /><path clip-path=\"url(#clip550)\" d=\"M104.279 1163.25 L120.598 1163.25 L120.598 1167.18 L98.6539 1167.18 L98.6539 1163.25 Q101.316 1160.49 105.899 1155.86 Q110.506 1151.21 111.686 1149.87 Q113.932 1147.35 114.811 1145.61 Q115.714 1143.85 115.714 1142.16 Q115.714 1139.41 113.77 1137.67 Q111.848 1135.93 108.746 1135.93 Q106.547 1135.93 104.094 1136.7 Q101.663 1137.46 98.8854 1139.01 L98.8854 1134.29 Q101.709 1133.16 104.163 1132.58 Q106.617 1132 108.654 1132 Q114.024 1132 117.219 1134.68 Q120.413 1137.37 120.413 1141.86 Q120.413 1143.99 119.603 1145.91 Q118.816 1147.81 116.709 1150.4 Q116.131 1151.07 113.029 1154.29 Q109.927 1157.49 104.279 1163.25 Z\" fill=\"#000000\" fill-rule=\"evenodd\" fill-opacity=\"1\" /><path clip-path=\"url(#clip550)\" d=\"M62.9365 788.99 Q59.3254 788.99 57.4967 792.555 Q55.6912 796.097 55.6912 803.226 Q55.6912 810.333 57.4967 813.898 Q59.3254 817.439 62.9365 817.439 Q66.5707 817.439 68.3763 813.898 Q70.205 810.333 70.205 803.226 Q70.205 796.097 68.3763 792.555 Q66.5707 788.99 62.9365 788.99 M62.9365 785.287 Q68.7467 785.287 71.8022 789.893 Q74.8809 794.476 74.8809 803.226 Q74.8809 811.953 71.8022 816.56 Q68.7467 821.143 62.9365 821.143 Q57.1264 821.143 54.0477 816.56 Q50.9921 811.953 50.9921 803.226 Q50.9921 794.476 54.0477 789.893 Q57.1264 785.287 62.9365 785.287 Z\" fill=\"#000000\" fill-rule=\"evenodd\" fill-opacity=\"1\" /><path clip-path=\"url(#clip550)\" d=\"M83.0984 814.592 L87.9827 814.592 L87.9827 820.472 L83.0984 820.472 L83.0984 814.592 Z\" fill=\"#000000\" fill-rule=\"evenodd\" fill-opacity=\"1\" /><path clip-path=\"url(#clip550)\" d=\"M111.015 789.986 L99.2095 808.435 L111.015 808.435 L111.015 789.986 M109.788 785.912 L115.668 785.912 L115.668 808.435 L120.598 808.435 L120.598 812.324 L115.668 812.324 L115.668 820.472 L111.015 820.472 L111.015 812.324 L95.4132 812.324 L95.4132 807.81 L109.788 785.912 Z\" fill=\"#000000\" fill-rule=\"evenodd\" fill-opacity=\"1\" /><path clip-path=\"url(#clip550)\" d=\"M63.2606 442.278 Q59.6495 442.278 57.8208 445.843 Q56.0152 449.384 56.0152 456.514 Q56.0152 463.62 57.8208 467.185 Q59.6495 470.727 63.2606 470.727 Q66.8948 470.727 68.7004 467.185 Q70.5291 463.62 70.5291 456.514 Q70.5291 449.384 68.7004 445.843 Q66.8948 442.278 63.2606 442.278 M63.2606 438.574 Q69.0707 438.574 72.1263 443.181 Q75.205 447.764 75.205 456.514 Q75.205 465.241 72.1263 469.847 Q69.0707 474.43 63.2606 474.43 Q57.4504 474.43 54.3717 469.847 Q51.3162 465.241 51.3162 456.514 Q51.3162 447.764 54.3717 443.181 Q57.4504 438.574 63.2606 438.574 Z\" fill=\"#000000\" fill-rule=\"evenodd\" fill-opacity=\"1\" /><path clip-path=\"url(#clip550)\" d=\"M83.4225 467.879 L88.3067 467.879 L88.3067 473.759 L83.4225 473.759 L83.4225 467.879 Z\" fill=\"#000000\" fill-rule=\"evenodd\" fill-opacity=\"1\" /><path clip-path=\"url(#clip550)\" d=\"M109.071 454.616 Q105.922 454.616 104.071 456.768 Q102.242 458.921 102.242 462.671 Q102.242 466.398 104.071 468.574 Q105.922 470.727 109.071 470.727 Q112.219 470.727 114.047 468.574 Q115.899 466.398 115.899 462.671 Q115.899 458.921 114.047 456.768 Q112.219 454.616 109.071 454.616 M118.353 439.963 L118.353 444.222 Q116.594 443.389 114.788 442.949 Q113.006 442.509 111.246 442.509 Q106.617 442.509 104.163 445.634 Q101.733 448.759 101.385 455.079 Q102.751 453.065 104.811 452 Q106.871 450.912 109.348 450.912 Q114.557 450.912 117.566 454.083 Q120.598 457.231 120.598 462.671 Q120.598 467.995 117.45 471.213 Q114.302 474.43 109.071 474.43 Q103.075 474.43 99.9039 469.847 Q96.7326 465.241 96.7326 456.514 Q96.7326 448.319 100.621 443.458 Q104.51 438.574 111.061 438.574 Q112.82 438.574 114.603 438.921 Q116.408 439.269 118.353 439.963 Z\" fill=\"#000000\" fill-rule=\"evenodd\" fill-opacity=\"1\" /><path clip-path=\"url(#clip550)\" d=\"M63.5152 95.5652 Q59.9041 95.5652 58.0754 99.13 Q56.2699 102.672 56.2699 109.801 Q56.2699 116.908 58.0754 120.472 Q59.9041 124.014 63.5152 124.014 Q67.1494 124.014 68.955 120.472 Q70.7837 116.908 70.7837 109.801 Q70.7837 102.672 68.955 99.13 Q67.1494 95.5652 63.5152 95.5652 M63.5152 91.8615 Q69.3254 91.8615 72.3809 96.468 Q75.4596 101.051 75.4596 109.801 Q75.4596 118.528 72.3809 123.134 Q69.3254 127.718 63.5152 127.718 Q57.7051 127.718 54.6264 123.134 Q51.5708 118.528 51.5708 109.801 Q51.5708 101.051 54.6264 96.468 Q57.7051 91.8615 63.5152 91.8615 Z\" fill=\"#000000\" fill-rule=\"evenodd\" fill-opacity=\"1\" /><path clip-path=\"url(#clip550)\" d=\"M83.6771 121.167 L88.5614 121.167 L88.5614 127.047 L83.6771 127.047 L83.6771 121.167 Z\" fill=\"#000000\" fill-rule=\"evenodd\" fill-opacity=\"1\" /><path clip-path=\"url(#clip550)\" d=\"M108.746 110.635 Q105.413 110.635 103.492 112.417 Q101.594 114.199 101.594 117.324 Q101.594 120.449 103.492 122.232 Q105.413 124.014 108.746 124.014 Q112.08 124.014 114.001 122.232 Q115.922 120.426 115.922 117.324 Q115.922 114.199 114.001 112.417 Q112.103 110.635 108.746 110.635 M104.071 108.644 Q101.061 107.903 99.3715 105.843 Q97.7048 103.783 97.7048 100.82 Q97.7048 96.6763 100.645 94.2689 Q103.608 91.8615 108.746 91.8615 Q113.908 91.8615 116.848 94.2689 Q119.788 96.6763 119.788 100.82 Q119.788 103.783 118.098 105.843 Q116.432 107.903 113.445 108.644 Q116.825 109.431 118.7 111.723 Q120.598 114.014 120.598 117.324 Q120.598 122.347 117.52 125.033 Q114.464 127.718 108.746 127.718 Q103.029 127.718 99.9502 125.033 Q96.8947 122.347 96.8947 117.324 Q96.8947 114.014 98.7928 111.723 Q100.691 109.431 104.071 108.644 M102.358 101.26 Q102.358 103.945 104.024 105.449 Q105.714 106.954 108.746 106.954 Q111.756 106.954 113.445 105.449 Q115.158 103.945 115.158 101.26 Q115.158 98.5744 113.445 97.0698 Q111.756 95.5652 108.746 95.5652 Q105.714 95.5652 104.024 97.0698 Q102.358 98.5744 102.358 101.26 Z\" fill=\"#000000\" fill-rule=\"evenodd\" fill-opacity=\"1\" /><polyline clip-path=\"url(#clip552)\" style=\"stroke:#009af9; stroke-linecap:butt; stroke-linejoin:round; stroke-width:4; stroke-opacity:1; fill:none\" points=\"\n  218.754,1445.72 224.374,1443.84 276.342,1426.25 307.573,1415.43 333.978,1406.14 362.662,1395.87 389.105,1386.22 417.456,1375.69 450.302,1363.2 479.493,1351.82 \n  505.09,1341.61 532.998,1330.21 561.072,1318.41 592.111,1304.97 621.644,1291.73 652.351,1277.44 678.2,1264.95 709.759,1249.06 738.669,1233.77 765.369,1218.95 \n  792.416,1203.14 822.728,1184.28 850.195,1165.95 865.919,1154.83 881.643,1143.17 896.202,1131.84 910.761,1119.91 925.115,1107.49 939.469,1094.29 953.405,1080.61 \n  967.341,1065.9 981.627,1049.53 995.914,1031.51 1003.74,1020.77 1011.57,1009.29 1019.39,996.908 1027.22,983.434 1032.9,972.807 1038.59,961.313 1044.27,948.75 \n  1049.96,934.833 1052.8,927.239 1055.64,919.128 1058.48,910.402 1061.32,900.932 1064.17,890.536 1067.01,878.952 1068.43,872.597 1069.85,865.776 1071.27,858.394 \n  1072.69,850.322 1073.86,843.053 1075.03,835.046 1076.19,826.084 1077.36,815.818 1077.94,810.025 1078.52,803.646 1079.11,796.507 1079.69,788.333 1079.98,783.722 \n  1080.27,778.646 1080.57,772.966 1080.86,766.464 1081,762.797 1081.15,758.76 1081.29,754.244 1081.44,749.076 1081.59,742.954 1081.73,735.26 1081.88,724.285 \n  1082.02,682.021 \n  \"/>\n<polyline clip-path=\"url(#clip552)\" style=\"stroke:#e26f46; stroke-linecap:butt; stroke-linejoin:round; stroke-width:4; stroke-opacity:1; fill:none\" points=\"\n  1082.02,682.021 1082.08,650.323 1082.15,642.089 1082.21,636.316 1082.27,631.721 1082.33,627.842 1082.39,624.453 1082.45,621.423 1082.51,618.67 1082.64,613.789 \n  1082.76,609.524 1082.88,605.712 1083.01,602.25 1083.25,596.112 1083.5,590.751 1083.74,585.961 1083.99,581.611 1084.48,573.904 1084.97,567.175 1085.47,561.166 \n  1085.96,555.712 1086.94,546.054 1087.92,537.631 1088.42,533.775 1088.91,530.115 1089.4,526.629 1089.89,523.299 1091.03,516.11 1092.17,509.519 1093.3,503.416 \n  1094.44,497.724 1096.71,487.337 1098.99,478.012 1101.26,469.52 1103.53,461.703 1105.81,454.447 1108.08,447.665 1112.63,435.269 1117.18,424.126 1121.72,413.977 \n  1126.27,404.64 1130.82,395.98 1135.36,387.896 1139.91,380.309 1144.46,373.156 1153.55,359.955 1162.65,347.982 1168.11,341.283 1173.58,334.908 1179.04,328.828 \n  1184.51,323.015 1195.44,312.1 1206.37,302.015 1215.61,294.046 1224.85,286.53 1234.1,279.419 1243.34,272.673 1263.42,259.122 1283.49,246.868 1302.01,236.541 \n  1320.52,227.017 1340.36,217.586 1360.21,208.866 1383.2,199.544 1406.19,190.965 1426.62,183.897 1447.06,177.299 1464.98,171.867 1482.89,166.74 1521.97,156.515 \n  1561.27,147.397 1604.72,138.498 1646.07,131.036 1689.06,124.192 1725.25,119.075 1769.43,113.546 1809.9,109.107 1847.28,105.49 1885.15,102.26 1927.59,99.1168 \n  1966.04,96.67 2010.07,94.3003 2050.83,92.4866 2091.02,91.0303 2130.05,89.9104 2170.05,89.0433 2213.87,88.3986 2277.54,87.9881 2290.6,87.9763 \n  \"/>\n<path clip-path=\"url(#clip550)\" d=\"\nM1983.1 250.738 L2279.55 250.738 L2279.55 95.2176 L1983.1 95.2176  Z\n  \" fill=\"#ffffff\" fill-rule=\"evenodd\" fill-opacity=\"1\"/>\n<polyline clip-path=\"url(#clip550)\" style=\"stroke:#000000; stroke-linecap:butt; stroke-linejoin:round; stroke-width:4; stroke-opacity:1; fill:none\" points=\"\n  1983.1,250.738 2279.55,250.738 2279.55,95.2176 1983.1,95.2176 1983.1,250.738 \n  \"/>\n<polyline clip-path=\"url(#clip550)\" style=\"stroke:#009af9; stroke-linecap:butt; stroke-linejoin:round; stroke-width:4; stroke-opacity:1; fill:none\" points=\"\n  2007.5,147.058 2153.92,147.058 \n  \"/>\n<path clip-path=\"url(#clip550)\" d=\"M2192.16 166.745 Q2190.35 171.375 2188.64 172.787 Q2186.93 174.199 2184.06 174.199 L2180.65 174.199 L2180.65 170.634 L2183.15 170.634 Q2184.91 170.634 2185.89 169.8 Q2186.86 168.967 2188.04 165.865 L2188.8 163.921 L2178.32 138.412 L2182.83 138.412 L2190.93 158.689 L2199.03 138.412 L2203.55 138.412 L2192.16 166.745 Z\" fill=\"#000000\" fill-rule=\"evenodd\" fill-opacity=\"1\" /><path clip-path=\"url(#clip550)\" d=\"M2210.84 160.402 L2218.48 160.402 L2218.48 134.037 L2210.17 135.703 L2210.17 131.444 L2218.43 129.778 L2223.11 129.778 L2223.11 160.402 L2230.75 160.402 L2230.75 164.338 L2210.84 164.338 L2210.84 160.402 Z\" fill=\"#000000\" fill-rule=\"evenodd\" fill-opacity=\"1\" /><polyline clip-path=\"url(#clip550)\" style=\"stroke:#e26f46; stroke-linecap:butt; stroke-linejoin:round; stroke-width:4; stroke-opacity:1; fill:none\" points=\"\n  2007.5,198.898 2153.92,198.898 \n  \"/>\n<path clip-path=\"url(#clip550)\" d=\"M2192.16 218.585 Q2190.35 223.215 2188.64 224.627 Q2186.93 226.039 2184.06 226.039 L2180.65 226.039 L2180.65 222.474 L2183.15 222.474 Q2184.91 222.474 2185.89 221.64 Q2186.86 220.807 2188.04 217.705 L2188.8 215.761 L2178.32 190.252 L2182.83 190.252 L2190.93 210.529 L2199.03 190.252 L2203.55 190.252 L2192.16 218.585 Z\" fill=\"#000000\" fill-rule=\"evenodd\" fill-opacity=\"1\" /><path clip-path=\"url(#clip550)\" d=\"M2214.06 212.242 L2230.38 212.242 L2230.38 216.178 L2208.43 216.178 L2208.43 212.242 Q2211.09 209.488 2215.68 204.858 Q2220.28 200.205 2221.46 198.863 Q2223.71 196.34 2224.59 194.604 Q2225.49 192.844 2225.49 191.155 Q2225.49 188.4 2223.55 186.664 Q2221.63 184.928 2218.52 184.928 Q2216.33 184.928 2213.87 185.692 Q2211.44 186.455 2208.66 188.006 L2208.66 183.284 Q2211.49 182.15 2213.94 181.571 Q2216.4 180.993 2218.43 180.993 Q2223.8 180.993 2227 183.678 Q2230.19 186.363 2230.19 190.854 Q2230.19 192.983 2229.38 194.905 Q2228.59 196.803 2226.49 199.395 Q2225.91 200.067 2222.81 203.284 Q2219.71 206.479 2214.06 212.242 Z\" fill=\"#000000\" fill-rule=\"evenodd\" fill-opacity=\"1\" /></svg>\n"
     },
     "execution_count": 250,
     "metadata": {},
     "output_type": "execute_result"
    }
   ],
   "source": [
    "plot!(x->mid(T_left_geq_1_8(x, 0.023288528303070)), 1//8, 0.3)"
   ]
  },
  {
   "cell_type": "code",
   "execution_count": 251,
   "metadata": {},
   "outputs": [
    {
     "data": {
      "text/plain": [
       "T_right (generic function with 1 method)"
      ]
     },
     "execution_count": 251,
     "metadata": {},
     "output_type": "execute_result"
    }
   ],
   "source": [
    "T_right(x, b) =C*(BigInt(10)*x*exp(-10//3*x))^(19)+b"
   ]
  },
  {
   "cell_type": "code",
   "execution_count": 252,
   "metadata": {},
   "outputs": [
    {
     "data": {
      "image/svg+xml": "<?xml version=\"1.0\" encoding=\"utf-8\"?>\n<svg xmlns=\"http://www.w3.org/2000/svg\" xmlns:xlink=\"http://www.w3.org/1999/xlink\" width=\"600\" height=\"400\" viewBox=\"0 0 2400 1600\">\n<defs>\n  <clipPath id=\"clip590\">\n    <rect x=\"0\" y=\"0\" width=\"2400\" height=\"1600\"/>\n  </clipPath>\n</defs>\n<path clip-path=\"url(#clip590)\" d=\"\nM0 1600 L2400 1600 L2400 0 L0 0  Z\n  \" fill=\"#ffffff\" fill-rule=\"evenodd\" fill-opacity=\"1\"/>\n<defs>\n  <clipPath id=\"clip591\">\n    <rect x=\"480\" y=\"0\" width=\"1681\" height=\"1600\"/>\n  </clipPath>\n</defs>\n<path clip-path=\"url(#clip590)\" d=\"\nM156.598 1486.45 L2352.76 1486.45 L2352.76 47.2441 L156.598 47.2441  Z\n  \" fill=\"#ffffff\" fill-rule=\"evenodd\" fill-opacity=\"1\"/>\n<defs>\n  <clipPath id=\"clip592\">\n    <rect x=\"156\" y=\"47\" width=\"2197\" height=\"1440\"/>\n  </clipPath>\n</defs>\n<polyline clip-path=\"url(#clip592)\" style=\"stroke:#000000; stroke-linecap:butt; stroke-linejoin:round; stroke-width:2; stroke-opacity:0.1; fill:none\" points=\"\n  218.754,1486.45 218.754,47.2441 \n  \"/>\n<polyline clip-path=\"url(#clip592)\" style=\"stroke:#000000; stroke-linecap:butt; stroke-linejoin:round; stroke-width:2; stroke-opacity:0.1; fill:none\" points=\"\n  736.715,1486.45 736.715,47.2441 \n  \"/>\n<polyline clip-path=\"url(#clip592)\" style=\"stroke:#000000; stroke-linecap:butt; stroke-linejoin:round; stroke-width:2; stroke-opacity:0.1; fill:none\" points=\"\n  1254.68,1486.45 1254.68,47.2441 \n  \"/>\n<polyline clip-path=\"url(#clip592)\" style=\"stroke:#000000; stroke-linecap:butt; stroke-linejoin:round; stroke-width:2; stroke-opacity:0.1; fill:none\" points=\"\n  1772.64,1486.45 1772.64,47.2441 \n  \"/>\n<polyline clip-path=\"url(#clip592)\" style=\"stroke:#000000; stroke-linecap:butt; stroke-linejoin:round; stroke-width:2; stroke-opacity:0.1; fill:none\" points=\"\n  2290.6,1486.45 2290.6,47.2441 \n  \"/>\n<polyline clip-path=\"url(#clip590)\" style=\"stroke:#000000; stroke-linecap:butt; stroke-linejoin:round; stroke-width:4; stroke-opacity:1; fill:none\" points=\"\n  156.598,1486.45 2352.76,1486.45 \n  \"/>\n<polyline clip-path=\"url(#clip590)\" style=\"stroke:#000000; stroke-linecap:butt; stroke-linejoin:round; stroke-width:4; stroke-opacity:1; fill:none\" points=\"\n  218.754,1486.45 218.754,1467.55 \n  \"/>\n<polyline clip-path=\"url(#clip590)\" style=\"stroke:#000000; stroke-linecap:butt; stroke-linejoin:round; stroke-width:4; stroke-opacity:1; fill:none\" points=\"\n  736.715,1486.45 736.715,1467.55 \n  \"/>\n<polyline clip-path=\"url(#clip590)\" style=\"stroke:#000000; stroke-linecap:butt; stroke-linejoin:round; stroke-width:4; stroke-opacity:1; fill:none\" points=\"\n  1254.68,1486.45 1254.68,1467.55 \n  \"/>\n<polyline clip-path=\"url(#clip590)\" style=\"stroke:#000000; stroke-linecap:butt; stroke-linejoin:round; stroke-width:4; stroke-opacity:1; fill:none\" points=\"\n  1772.64,1486.45 1772.64,1467.55 \n  \"/>\n<polyline clip-path=\"url(#clip590)\" style=\"stroke:#000000; stroke-linecap:butt; stroke-linejoin:round; stroke-width:4; stroke-opacity:1; fill:none\" points=\"\n  2290.6,1486.45 2290.6,1467.55 \n  \"/>\n<path clip-path=\"url(#clip590)\" d=\"M181.057 1517.37 Q177.446 1517.37 175.617 1520.93 Q173.812 1524.47 173.812 1531.6 Q173.812 1538.71 175.617 1542.27 Q177.446 1545.82 181.057 1545.82 Q184.691 1545.82 186.497 1542.27 Q188.326 1538.71 188.326 1531.6 Q188.326 1524.47 186.497 1520.93 Q184.691 1517.37 181.057 1517.37 M181.057 1513.66 Q186.867 1513.66 189.923 1518.27 Q193.001 1522.85 193.001 1531.6 Q193.001 1540.33 189.923 1544.94 Q186.867 1549.52 181.057 1549.52 Q175.247 1549.52 172.168 1544.94 Q169.113 1540.33 169.113 1531.6 Q169.113 1522.85 172.168 1518.27 Q175.247 1513.66 181.057 1513.66 Z\" fill=\"#000000\" fill-rule=\"evenodd\" fill-opacity=\"1\" /><path clip-path=\"url(#clip590)\" d=\"M201.219 1542.97 L206.103 1542.97 L206.103 1548.85 L201.219 1548.85 L201.219 1542.97 Z\" fill=\"#000000\" fill-rule=\"evenodd\" fill-opacity=\"1\" /><path clip-path=\"url(#clip590)\" d=\"M226.288 1517.37 Q222.677 1517.37 220.849 1520.93 Q219.043 1524.47 219.043 1531.6 Q219.043 1538.71 220.849 1542.27 Q222.677 1545.82 226.288 1545.82 Q229.923 1545.82 231.728 1542.27 Q233.557 1538.71 233.557 1531.6 Q233.557 1524.47 231.728 1520.93 Q229.923 1517.37 226.288 1517.37 M226.288 1513.66 Q232.098 1513.66 235.154 1518.27 Q238.233 1522.85 238.233 1531.6 Q238.233 1540.33 235.154 1544.94 Q232.098 1549.52 226.288 1549.52 Q220.478 1549.52 217.399 1544.94 Q214.344 1540.33 214.344 1531.6 Q214.344 1522.85 217.399 1518.27 Q220.478 1513.66 226.288 1513.66 Z\" fill=\"#000000\" fill-rule=\"evenodd\" fill-opacity=\"1\" /><path clip-path=\"url(#clip590)\" d=\"M256.45 1517.37 Q252.839 1517.37 251.01 1520.93 Q249.205 1524.47 249.205 1531.6 Q249.205 1538.71 251.01 1542.27 Q252.839 1545.82 256.45 1545.82 Q260.084 1545.82 261.89 1542.27 Q263.719 1538.71 263.719 1531.6 Q263.719 1524.47 261.89 1520.93 Q260.084 1517.37 256.45 1517.37 M256.45 1513.66 Q262.26 1513.66 265.316 1518.27 Q268.395 1522.85 268.395 1531.6 Q268.395 1540.33 265.316 1544.94 Q262.26 1549.52 256.45 1549.52 Q250.64 1549.52 247.561 1544.94 Q244.506 1540.33 244.506 1531.6 Q244.506 1522.85 247.561 1518.27 Q250.64 1513.66 256.45 1513.66 Z\" fill=\"#000000\" fill-rule=\"evenodd\" fill-opacity=\"1\" /><path clip-path=\"url(#clip590)\" d=\"M699.516 1517.37 Q695.905 1517.37 694.077 1520.93 Q692.271 1524.47 692.271 1531.6 Q692.271 1538.71 694.077 1542.27 Q695.905 1545.82 699.516 1545.82 Q703.151 1545.82 704.956 1542.27 Q706.785 1538.71 706.785 1531.6 Q706.785 1524.47 704.956 1520.93 Q703.151 1517.37 699.516 1517.37 M699.516 1513.66 Q705.327 1513.66 708.382 1518.27 Q711.461 1522.85 711.461 1531.6 Q711.461 1540.33 708.382 1544.94 Q705.327 1549.52 699.516 1549.52 Q693.706 1549.52 690.628 1544.94 Q687.572 1540.33 687.572 1531.6 Q687.572 1522.85 690.628 1518.27 Q693.706 1513.66 699.516 1513.66 Z\" fill=\"#000000\" fill-rule=\"evenodd\" fill-opacity=\"1\" /><path clip-path=\"url(#clip590)\" d=\"M719.678 1542.97 L724.563 1542.97 L724.563 1548.85 L719.678 1548.85 L719.678 1542.97 Z\" fill=\"#000000\" fill-rule=\"evenodd\" fill-opacity=\"1\" /><path clip-path=\"url(#clip590)\" d=\"M738.776 1544.91 L755.095 1544.91 L755.095 1548.85 L733.151 1548.85 L733.151 1544.91 Q735.813 1542.16 740.396 1537.53 Q745.002 1532.88 746.183 1531.53 Q748.428 1529.01 749.308 1527.27 Q750.211 1525.51 750.211 1523.82 Q750.211 1521.07 748.266 1519.33 Q746.345 1517.6 743.243 1517.6 Q741.044 1517.6 738.59 1518.36 Q736.16 1519.13 733.382 1520.68 L733.382 1515.95 Q736.206 1514.82 738.66 1514.24 Q741.113 1513.66 743.151 1513.66 Q748.521 1513.66 751.715 1516.35 Q754.91 1519.03 754.91 1523.52 Q754.91 1525.65 754.1 1527.57 Q753.312 1529.47 751.206 1532.07 Q750.627 1532.74 747.525 1535.95 Q744.424 1539.15 738.776 1544.91 Z\" fill=\"#000000\" fill-rule=\"evenodd\" fill-opacity=\"1\" /><path clip-path=\"url(#clip590)\" d=\"M764.956 1514.29 L783.312 1514.29 L783.312 1518.22 L769.238 1518.22 L769.238 1526.7 Q770.257 1526.35 771.275 1526.19 Q772.294 1526 773.312 1526 Q779.099 1526 782.479 1529.17 Q785.859 1532.34 785.859 1537.76 Q785.859 1543.34 782.386 1546.44 Q778.914 1549.52 772.595 1549.52 Q770.419 1549.52 768.15 1549.15 Q765.905 1548.78 763.498 1548.04 L763.498 1543.34 Q765.581 1544.47 767.803 1545.03 Q770.025 1545.58 772.502 1545.58 Q776.507 1545.58 778.845 1543.48 Q781.183 1541.37 781.183 1537.76 Q781.183 1534.15 778.845 1532.04 Q776.507 1529.94 772.502 1529.94 Q770.627 1529.94 768.752 1530.35 Q766.9 1530.77 764.956 1531.65 L764.956 1514.29 Z\" fill=\"#000000\" fill-rule=\"evenodd\" fill-opacity=\"1\" /><path clip-path=\"url(#clip590)\" d=\"M1216.98 1517.37 Q1213.37 1517.37 1211.54 1520.93 Q1209.74 1524.47 1209.74 1531.6 Q1209.74 1538.71 1211.54 1542.27 Q1213.37 1545.82 1216.98 1545.82 Q1220.61 1545.82 1222.42 1542.27 Q1224.25 1538.71 1224.25 1531.6 Q1224.25 1524.47 1222.42 1520.93 Q1220.61 1517.37 1216.98 1517.37 M1216.98 1513.66 Q1222.79 1513.66 1225.85 1518.27 Q1228.92 1522.85 1228.92 1531.6 Q1228.92 1540.33 1225.85 1544.94 Q1222.79 1549.52 1216.98 1549.52 Q1211.17 1549.52 1208.09 1544.94 Q1205.04 1540.33 1205.04 1531.6 Q1205.04 1522.85 1208.09 1518.27 Q1211.17 1513.66 1216.98 1513.66 Z\" fill=\"#000000\" fill-rule=\"evenodd\" fill-opacity=\"1\" /><path clip-path=\"url(#clip590)\" d=\"M1237.14 1542.97 L1242.03 1542.97 L1242.03 1548.85 L1237.14 1548.85 L1237.14 1542.97 Z\" fill=\"#000000\" fill-rule=\"evenodd\" fill-opacity=\"1\" /><path clip-path=\"url(#clip590)\" d=\"M1252.26 1514.29 L1270.61 1514.29 L1270.61 1518.22 L1256.54 1518.22 L1256.54 1526.7 Q1257.56 1526.35 1258.58 1526.19 Q1259.6 1526 1260.61 1526 Q1266.4 1526 1269.78 1529.17 Q1273.16 1532.34 1273.16 1537.76 Q1273.16 1543.34 1269.69 1546.44 Q1266.22 1549.52 1259.9 1549.52 Q1257.72 1549.52 1255.45 1549.15 Q1253.21 1548.78 1250.8 1548.04 L1250.8 1543.34 Q1252.88 1544.47 1255.11 1545.03 Q1257.33 1545.58 1259.8 1545.58 Q1263.81 1545.58 1266.15 1543.48 Q1268.48 1541.37 1268.48 1537.76 Q1268.48 1534.15 1266.15 1532.04 Q1263.81 1529.94 1259.8 1529.94 Q1257.93 1529.94 1256.05 1530.35 Q1254.2 1530.77 1252.26 1531.65 L1252.26 1514.29 Z\" fill=\"#000000\" fill-rule=\"evenodd\" fill-opacity=\"1\" /><path clip-path=\"url(#clip590)\" d=\"M1292.37 1517.37 Q1288.76 1517.37 1286.93 1520.93 Q1285.13 1524.47 1285.13 1531.6 Q1285.13 1538.71 1286.93 1542.27 Q1288.76 1545.82 1292.37 1545.82 Q1296.01 1545.82 1297.81 1542.27 Q1299.64 1538.71 1299.64 1531.6 Q1299.64 1524.47 1297.81 1520.93 Q1296.01 1517.37 1292.37 1517.37 M1292.37 1513.66 Q1298.18 1513.66 1301.24 1518.27 Q1304.32 1522.85 1304.32 1531.6 Q1304.32 1540.33 1301.24 1544.94 Q1298.18 1549.52 1292.37 1549.52 Q1286.56 1549.52 1283.48 1544.94 Q1280.43 1540.33 1280.43 1531.6 Q1280.43 1522.85 1283.48 1518.27 Q1286.56 1513.66 1292.37 1513.66 Z\" fill=\"#000000\" fill-rule=\"evenodd\" fill-opacity=\"1\" /><path clip-path=\"url(#clip590)\" d=\"M1735.44 1517.37 Q1731.83 1517.37 1730 1520.93 Q1728.19 1524.47 1728.19 1531.6 Q1728.19 1538.71 1730 1542.27 Q1731.83 1545.82 1735.44 1545.82 Q1739.07 1545.82 1740.88 1542.27 Q1742.71 1538.71 1742.71 1531.6 Q1742.71 1524.47 1740.88 1520.93 Q1739.07 1517.37 1735.44 1517.37 M1735.44 1513.66 Q1741.25 1513.66 1744.31 1518.27 Q1747.38 1522.85 1747.38 1531.6 Q1747.38 1540.33 1744.31 1544.94 Q1741.25 1549.52 1735.44 1549.52 Q1729.63 1549.52 1726.55 1544.94 Q1723.5 1540.33 1723.5 1531.6 Q1723.5 1522.85 1726.55 1518.27 Q1729.63 1513.66 1735.44 1513.66 Z\" fill=\"#000000\" fill-rule=\"evenodd\" fill-opacity=\"1\" /><path clip-path=\"url(#clip590)\" d=\"M1755.6 1542.97 L1760.49 1542.97 L1760.49 1548.85 L1755.6 1548.85 L1755.6 1542.97 Z\" fill=\"#000000\" fill-rule=\"evenodd\" fill-opacity=\"1\" /><path clip-path=\"url(#clip590)\" d=\"M1769.49 1514.29 L1791.71 1514.29 L1791.71 1516.28 L1779.17 1548.85 L1774.28 1548.85 L1786.09 1518.22 L1769.49 1518.22 L1769.49 1514.29 Z\" fill=\"#000000\" fill-rule=\"evenodd\" fill-opacity=\"1\" /><path clip-path=\"url(#clip590)\" d=\"M1800.88 1514.29 L1819.24 1514.29 L1819.24 1518.22 L1805.16 1518.22 L1805.16 1526.7 Q1806.18 1526.35 1807.2 1526.19 Q1808.22 1526 1809.24 1526 Q1815.02 1526 1818.4 1529.17 Q1821.78 1532.34 1821.78 1537.76 Q1821.78 1543.34 1818.31 1546.44 Q1814.84 1549.52 1808.52 1549.52 Q1806.34 1549.52 1804.07 1549.15 Q1801.83 1548.78 1799.42 1548.04 L1799.42 1543.34 Q1801.5 1544.47 1803.73 1545.03 Q1805.95 1545.58 1808.43 1545.58 Q1812.43 1545.58 1814.77 1543.48 Q1817.11 1541.37 1817.11 1537.76 Q1817.11 1534.15 1814.77 1532.04 Q1812.43 1529.94 1808.43 1529.94 Q1806.55 1529.94 1804.68 1530.35 Q1802.82 1530.77 1800.88 1531.65 L1800.88 1514.29 Z\" fill=\"#000000\" fill-rule=\"evenodd\" fill-opacity=\"1\" /><path clip-path=\"url(#clip590)\" d=\"M2242.67 1544.91 L2250.31 1544.91 L2250.31 1518.55 L2242 1520.21 L2242 1515.95 L2250.27 1514.29 L2254.94 1514.29 L2254.94 1544.91 L2262.58 1544.91 L2262.58 1548.85 L2242.67 1548.85 L2242.67 1544.91 Z\" fill=\"#000000\" fill-rule=\"evenodd\" fill-opacity=\"1\" /><path clip-path=\"url(#clip590)\" d=\"M2272.02 1542.97 L2276.91 1542.97 L2276.91 1548.85 L2272.02 1548.85 L2272.02 1542.97 Z\" fill=\"#000000\" fill-rule=\"evenodd\" fill-opacity=\"1\" /><path clip-path=\"url(#clip590)\" d=\"M2297.09 1517.37 Q2293.48 1517.37 2291.65 1520.93 Q2289.85 1524.47 2289.85 1531.6 Q2289.85 1538.71 2291.65 1542.27 Q2293.48 1545.82 2297.09 1545.82 Q2300.73 1545.82 2302.53 1542.27 Q2304.36 1538.71 2304.36 1531.6 Q2304.36 1524.47 2302.53 1520.93 Q2300.73 1517.37 2297.09 1517.37 M2297.09 1513.66 Q2302.9 1513.66 2305.96 1518.27 Q2309.04 1522.85 2309.04 1531.6 Q2309.04 1540.33 2305.96 1544.94 Q2302.9 1549.52 2297.09 1549.52 Q2291.28 1549.52 2288.2 1544.94 Q2285.15 1540.33 2285.15 1531.6 Q2285.15 1522.85 2288.2 1518.27 Q2291.28 1513.66 2297.09 1513.66 Z\" fill=\"#000000\" fill-rule=\"evenodd\" fill-opacity=\"1\" /><path clip-path=\"url(#clip590)\" d=\"M2327.26 1517.37 Q2323.64 1517.37 2321.82 1520.93 Q2320.01 1524.47 2320.01 1531.6 Q2320.01 1538.71 2321.82 1542.27 Q2323.64 1545.82 2327.26 1545.82 Q2330.89 1545.82 2332.7 1542.27 Q2334.52 1538.71 2334.52 1531.6 Q2334.52 1524.47 2332.7 1520.93 Q2330.89 1517.37 2327.26 1517.37 M2327.26 1513.66 Q2333.07 1513.66 2336.12 1518.27 Q2339.2 1522.85 2339.2 1531.6 Q2339.2 1540.33 2336.12 1544.94 Q2333.07 1549.52 2327.26 1549.52 Q2321.45 1549.52 2318.37 1544.94 Q2315.31 1540.33 2315.31 1531.6 Q2315.31 1522.85 2318.37 1518.27 Q2321.45 1513.66 2327.26 1513.66 Z\" fill=\"#000000\" fill-rule=\"evenodd\" fill-opacity=\"1\" /><polyline clip-path=\"url(#clip592)\" style=\"stroke:#000000; stroke-linecap:butt; stroke-linejoin:round; stroke-width:2; stroke-opacity:0.1; fill:none\" points=\"\n  156.598,1485.78 2352.76,1485.78 \n  \"/>\n<polyline clip-path=\"url(#clip592)\" style=\"stroke:#000000; stroke-linecap:butt; stroke-linejoin:round; stroke-width:2; stroke-opacity:0.1; fill:none\" points=\"\n  156.598,1141.73 2352.76,1141.73 \n  \"/>\n<polyline clip-path=\"url(#clip592)\" style=\"stroke:#000000; stroke-linecap:butt; stroke-linejoin:round; stroke-width:2; stroke-opacity:0.1; fill:none\" points=\"\n  156.598,797.688 2352.76,797.688 \n  \"/>\n<polyline clip-path=\"url(#clip592)\" style=\"stroke:#000000; stroke-linecap:butt; stroke-linejoin:round; stroke-width:2; stroke-opacity:0.1; fill:none\" points=\"\n  156.598,453.643 2352.76,453.643 \n  \"/>\n<polyline clip-path=\"url(#clip592)\" style=\"stroke:#000000; stroke-linecap:butt; stroke-linejoin:round; stroke-width:2; stroke-opacity:0.1; fill:none\" points=\"\n  156.598,109.599 2352.76,109.599 \n  \"/>\n<polyline clip-path=\"url(#clip590)\" style=\"stroke:#000000; stroke-linecap:butt; stroke-linejoin:round; stroke-width:4; stroke-opacity:1; fill:none\" points=\"\n  156.598,1486.45 156.598,47.2441 \n  \"/>\n<polyline clip-path=\"url(#clip590)\" style=\"stroke:#000000; stroke-linecap:butt; stroke-linejoin:round; stroke-width:4; stroke-opacity:1; fill:none\" points=\"\n  156.598,1485.78 175.496,1485.78 \n  \"/>\n<polyline clip-path=\"url(#clip590)\" style=\"stroke:#000000; stroke-linecap:butt; stroke-linejoin:round; stroke-width:4; stroke-opacity:1; fill:none\" points=\"\n  156.598,1141.73 175.496,1141.73 \n  \"/>\n<polyline clip-path=\"url(#clip590)\" style=\"stroke:#000000; stroke-linecap:butt; stroke-linejoin:round; stroke-width:4; stroke-opacity:1; fill:none\" points=\"\n  156.598,797.688 175.496,797.688 \n  \"/>\n<polyline clip-path=\"url(#clip590)\" style=\"stroke:#000000; stroke-linecap:butt; stroke-linejoin:round; stroke-width:4; stroke-opacity:1; fill:none\" points=\"\n  156.598,453.643 175.496,453.643 \n  \"/>\n<polyline clip-path=\"url(#clip590)\" style=\"stroke:#000000; stroke-linecap:butt; stroke-linejoin:round; stroke-width:4; stroke-opacity:1; fill:none\" points=\"\n  156.598,109.599 175.496,109.599 \n  \"/>\n<path clip-path=\"url(#clip590)\" d=\"M63.4226 1471.58 Q59.8115 1471.58 57.9828 1475.14 Q56.1773 1478.68 56.1773 1485.81 Q56.1773 1492.92 57.9828 1496.48 Q59.8115 1500.02 63.4226 1500.02 Q67.0569 1500.02 68.8624 1496.48 Q70.6911 1492.92 70.6911 1485.81 Q70.6911 1478.68 68.8624 1475.14 Q67.0569 1471.58 63.4226 1471.58 M63.4226 1467.87 Q69.2328 1467.87 72.2883 1472.48 Q75.367 1477.06 75.367 1485.81 Q75.367 1494.54 72.2883 1499.15 Q69.2328 1503.73 63.4226 1503.73 Q57.6125 1503.73 54.5338 1499.15 Q51.4782 1494.54 51.4782 1485.81 Q51.4782 1477.06 54.5338 1472.48 Q57.6125 1467.87 63.4226 1467.87 Z\" fill=\"#000000\" fill-rule=\"evenodd\" fill-opacity=\"1\" /><path clip-path=\"url(#clip590)\" d=\"M83.5845 1497.18 L88.4688 1497.18 L88.4688 1503.06 L83.5845 1503.06 L83.5845 1497.18 Z\" fill=\"#000000\" fill-rule=\"evenodd\" fill-opacity=\"1\" /><path clip-path=\"url(#clip590)\" d=\"M108.654 1471.58 Q105.043 1471.58 103.214 1475.14 Q101.409 1478.68 101.409 1485.81 Q101.409 1492.92 103.214 1496.48 Q105.043 1500.02 108.654 1500.02 Q112.288 1500.02 114.094 1496.48 Q115.922 1492.92 115.922 1485.81 Q115.922 1478.68 114.094 1475.14 Q112.288 1471.58 108.654 1471.58 M108.654 1467.87 Q114.464 1467.87 117.52 1472.48 Q120.598 1477.06 120.598 1485.81 Q120.598 1494.54 117.52 1499.15 Q114.464 1503.73 108.654 1503.73 Q102.844 1503.73 99.765 1499.15 Q96.7095 1494.54 96.7095 1485.81 Q96.7095 1477.06 99.765 1472.48 Q102.844 1467.87 108.654 1467.87 Z\" fill=\"#000000\" fill-rule=\"evenodd\" fill-opacity=\"1\" /><path clip-path=\"url(#clip590)\" d=\"M65.0198 1127.53 Q61.4087 1127.53 59.58 1131.1 Q57.7745 1134.64 57.7745 1141.77 Q57.7745 1148.87 59.58 1152.44 Q61.4087 1155.98 65.0198 1155.98 Q68.6541 1155.98 70.4596 1152.44 Q72.2883 1148.87 72.2883 1141.77 Q72.2883 1134.64 70.4596 1131.1 Q68.6541 1127.53 65.0198 1127.53 M65.0198 1123.83 Q70.83 1123.83 73.8855 1128.43 Q76.9642 1133.02 76.9642 1141.77 Q76.9642 1150.49 73.8855 1155.1 Q70.83 1159.68 65.0198 1159.68 Q59.2097 1159.68 56.131 1155.1 Q53.0754 1150.49 53.0754 1141.77 Q53.0754 1133.02 56.131 1128.43 Q59.2097 1123.83 65.0198 1123.83 Z\" fill=\"#000000\" fill-rule=\"evenodd\" fill-opacity=\"1\" /><path clip-path=\"url(#clip590)\" d=\"M85.1818 1153.13 L90.066 1153.13 L90.066 1159.01 L85.1818 1159.01 L85.1818 1153.13 Z\" fill=\"#000000\" fill-rule=\"evenodd\" fill-opacity=\"1\" /><path clip-path=\"url(#clip590)\" d=\"M104.279 1155.08 L120.598 1155.08 L120.598 1159.01 L98.6539 1159.01 L98.6539 1155.08 Q101.316 1152.32 105.899 1147.69 Q110.506 1143.04 111.686 1141.7 Q113.932 1139.17 114.811 1137.44 Q115.714 1135.68 115.714 1133.99 Q115.714 1131.23 113.77 1129.5 Q111.848 1127.76 108.746 1127.76 Q106.547 1127.76 104.094 1128.53 Q101.663 1129.29 98.8854 1130.84 L98.8854 1126.12 Q101.709 1124.98 104.163 1124.41 Q106.617 1123.83 108.654 1123.83 Q114.024 1123.83 117.219 1126.51 Q120.413 1129.2 120.413 1133.69 Q120.413 1135.82 119.603 1137.74 Q118.816 1139.64 116.709 1142.23 Q116.131 1142.9 113.029 1146.12 Q109.927 1149.31 104.279 1155.08 Z\" fill=\"#000000\" fill-rule=\"evenodd\" fill-opacity=\"1\" /><path clip-path=\"url(#clip590)\" d=\"M62.9365 783.487 Q59.3254 783.487 57.4967 787.051 Q55.6912 790.593 55.6912 797.723 Q55.6912 804.829 57.4967 808.394 Q59.3254 811.936 62.9365 811.936 Q66.5707 811.936 68.3763 808.394 Q70.205 804.829 70.205 797.723 Q70.205 790.593 68.3763 787.051 Q66.5707 783.487 62.9365 783.487 M62.9365 779.783 Q68.7467 779.783 71.8022 784.389 Q74.8809 788.973 74.8809 797.723 Q74.8809 806.45 71.8022 811.056 Q68.7467 815.639 62.9365 815.639 Q57.1264 815.639 54.0477 811.056 Q50.9921 806.45 50.9921 797.723 Q50.9921 788.973 54.0477 784.389 Q57.1264 779.783 62.9365 779.783 Z\" fill=\"#000000\" fill-rule=\"evenodd\" fill-opacity=\"1\" /><path clip-path=\"url(#clip590)\" d=\"M83.0984 809.088 L87.9827 809.088 L87.9827 814.968 L83.0984 814.968 L83.0984 809.088 Z\" fill=\"#000000\" fill-rule=\"evenodd\" fill-opacity=\"1\" /><path clip-path=\"url(#clip590)\" d=\"M111.015 784.482 L99.2095 802.931 L111.015 802.931 L111.015 784.482 M109.788 780.408 L115.668 780.408 L115.668 802.931 L120.598 802.931 L120.598 806.82 L115.668 806.82 L115.668 814.968 L111.015 814.968 L111.015 806.82 L95.4132 806.82 L95.4132 802.306 L109.788 780.408 Z\" fill=\"#000000\" fill-rule=\"evenodd\" fill-opacity=\"1\" /><path clip-path=\"url(#clip590)\" d=\"M63.2606 439.442 Q59.6495 439.442 57.8208 443.007 Q56.0152 446.549 56.0152 453.678 Q56.0152 460.785 57.8208 464.349 Q59.6495 467.891 63.2606 467.891 Q66.8948 467.891 68.7004 464.349 Q70.5291 460.785 70.5291 453.678 Q70.5291 446.549 68.7004 443.007 Q66.8948 439.442 63.2606 439.442 M63.2606 435.738 Q69.0707 435.738 72.1263 440.345 Q75.205 444.928 75.205 453.678 Q75.205 462.405 72.1263 467.011 Q69.0707 471.595 63.2606 471.595 Q57.4504 471.595 54.3717 467.011 Q51.3162 462.405 51.3162 453.678 Q51.3162 444.928 54.3717 440.345 Q57.4504 435.738 63.2606 435.738 Z\" fill=\"#000000\" fill-rule=\"evenodd\" fill-opacity=\"1\" /><path clip-path=\"url(#clip590)\" d=\"M83.4225 465.044 L88.3067 465.044 L88.3067 470.923 L83.4225 470.923 L83.4225 465.044 Z\" fill=\"#000000\" fill-rule=\"evenodd\" fill-opacity=\"1\" /><path clip-path=\"url(#clip590)\" d=\"M109.071 451.78 Q105.922 451.78 104.071 453.933 Q102.242 456.086 102.242 459.836 Q102.242 463.562 104.071 465.738 Q105.922 467.891 109.071 467.891 Q112.219 467.891 114.047 465.738 Q115.899 463.562 115.899 459.836 Q115.899 456.086 114.047 453.933 Q112.219 451.78 109.071 451.78 M118.353 437.127 L118.353 441.387 Q116.594 440.553 114.788 440.113 Q113.006 439.674 111.246 439.674 Q106.617 439.674 104.163 442.799 Q101.733 445.924 101.385 452.243 Q102.751 450.229 104.811 449.164 Q106.871 448.076 109.348 448.076 Q114.557 448.076 117.566 451.248 Q120.598 454.396 120.598 459.836 Q120.598 465.16 117.45 468.377 Q114.302 471.595 109.071 471.595 Q103.075 471.595 99.9039 467.011 Q96.7326 462.405 96.7326 453.678 Q96.7326 445.484 100.621 440.623 Q104.51 435.738 111.061 435.738 Q112.82 435.738 114.603 436.086 Q116.408 436.433 118.353 437.127 Z\" fill=\"#000000\" fill-rule=\"evenodd\" fill-opacity=\"1\" /><path clip-path=\"url(#clip590)\" d=\"M63.5152 95.3975 Q59.9041 95.3975 58.0754 98.9623 Q56.2699 102.504 56.2699 109.634 Q56.2699 116.74 58.0754 120.305 Q59.9041 123.846 63.5152 123.846 Q67.1494 123.846 68.955 120.305 Q70.7837 116.74 70.7837 109.634 Q70.7837 102.504 68.955 98.9623 Q67.1494 95.3975 63.5152 95.3975 M63.5152 91.6938 Q69.3254 91.6938 72.3809 96.3003 Q75.4596 100.884 75.4596 109.634 Q75.4596 118.36 72.3809 122.967 Q69.3254 127.55 63.5152 127.55 Q57.7051 127.55 54.6264 122.967 Q51.5708 118.36 51.5708 109.634 Q51.5708 100.884 54.6264 96.3003 Q57.7051 91.6938 63.5152 91.6938 Z\" fill=\"#000000\" fill-rule=\"evenodd\" fill-opacity=\"1\" /><path clip-path=\"url(#clip590)\" d=\"M83.6771 120.999 L88.5614 120.999 L88.5614 126.879 L83.6771 126.879 L83.6771 120.999 Z\" fill=\"#000000\" fill-rule=\"evenodd\" fill-opacity=\"1\" /><path clip-path=\"url(#clip590)\" d=\"M108.746 110.467 Q105.413 110.467 103.492 112.249 Q101.594 114.032 101.594 117.157 Q101.594 120.282 103.492 122.064 Q105.413 123.846 108.746 123.846 Q112.08 123.846 114.001 122.064 Q115.922 120.258 115.922 117.157 Q115.922 114.032 114.001 112.249 Q112.103 110.467 108.746 110.467 M104.071 108.476 Q101.061 107.735 99.3715 105.675 Q97.7048 103.615 97.7048 100.652 Q97.7048 96.5086 100.645 94.1012 Q103.608 91.6938 108.746 91.6938 Q113.908 91.6938 116.848 94.1012 Q119.788 96.5086 119.788 100.652 Q119.788 103.615 118.098 105.675 Q116.432 107.735 113.445 108.476 Q116.825 109.263 118.7 111.555 Q120.598 113.846 120.598 117.157 Q120.598 122.18 117.52 124.865 Q114.464 127.55 108.746 127.55 Q103.029 127.55 99.9502 124.865 Q96.8947 122.18 96.8947 117.157 Q96.8947 113.846 98.7928 111.555 Q100.691 109.263 104.071 108.476 M102.358 101.092 Q102.358 103.777 104.024 105.282 Q105.714 106.786 108.746 106.786 Q111.756 106.786 113.445 105.282 Q115.158 103.777 115.158 101.092 Q115.158 98.4068 113.445 96.9021 Q111.756 95.3975 108.746 95.3975 Q105.714 95.3975 104.024 96.9021 Q102.358 98.4068 102.358 101.092 Z\" fill=\"#000000\" fill-rule=\"evenodd\" fill-opacity=\"1\" /><polyline clip-path=\"url(#clip592)\" style=\"stroke:#009af9; stroke-linecap:butt; stroke-linejoin:round; stroke-width:4; stroke-opacity:1; fill:none\" points=\"\n  218.754,1435.27 220.44,1433.41 236.03,1415.95 245.399,1405.22 253.321,1396 261.926,1385.8 269.859,1376.23 278.364,1365.78 288.218,1353.39 296.975,1342.1 \n  304.655,1331.97 313.027,1320.65 321.449,1308.95 330.761,1295.6 339.621,1282.46 348.833,1268.29 356.588,1255.9 366.055,1240.12 374.728,1224.96 382.738,1210.25 \n  390.852,1194.55 399.946,1175.84 408.186,1157.65 412.903,1146.62 417.621,1135.05 421.988,1123.81 426.356,1111.97 430.662,1099.64 434.968,1086.55 439.149,1072.97 \n  443.33,1058.37 447.616,1042.13 451.902,1024.25 454.25,1013.6 456.597,1002.2 458.945,989.914 461.293,976.543 462.998,965.998 464.704,954.592 466.409,942.126 \n  468.114,928.316 468.967,920.781 469.82,912.732 470.672,904.074 471.525,894.676 472.378,884.36 473.23,872.866 473.657,866.559 474.083,859.791 474.509,852.466 \n  474.936,844.455 475.286,837.242 475.635,829.298 475.985,820.404 476.335,810.217 476.51,804.469 476.685,798.139 476.86,791.055 477.035,782.944 477.122,778.368 \n  477.21,773.331 477.297,767.694 477.385,761.243 477.428,757.604 477.472,753.598 477.516,749.117 477.56,743.989 477.603,737.914 477.647,730.279 477.691,719.389 \n  477.734,677.45 \n  \"/>\n<polyline clip-path=\"url(#clip592)\" style=\"stroke:#e26f46; stroke-linecap:butt; stroke-linejoin:round; stroke-width:4; stroke-opacity:1; fill:none\" points=\"\n  477.734,677.45 477.753,645.995 477.771,637.825 477.79,632.096 477.808,627.537 477.827,623.688 477.845,620.324 477.864,617.318 477.882,614.586 477.919,609.742 \n  477.956,605.511 477.993,601.728 478.03,598.292 478.103,592.202 478.177,586.883 478.251,582.129 478.325,577.813 478.472,570.165 478.62,563.488 478.767,557.525 \n  478.915,552.113 479.21,542.53 479.505,534.171 479.652,530.344 479.8,526.713 479.948,523.254 480.095,519.949 480.436,512.816 480.777,506.275 481.118,500.22 \n  481.459,494.571 482.141,484.264 482.823,475.01 483.505,466.584 484.188,458.828 484.87,451.627 485.552,444.897 486.916,432.596 488.28,421.539 489.644,411.468 \n  491.008,402.203 492.373,393.61 493.737,385.588 495.101,378.06 496.465,370.961 499.193,357.862 501.922,345.981 503.561,339.333 505.201,333.008 506.841,326.975 \n  508.48,321.206 511.759,310.376 515.039,300.368 517.811,292.461 520.584,285.002 523.356,277.946 526.129,271.252 532.152,257.805 538.176,245.645 543.729,235.398 \n  549.282,225.947 555.236,216.589 561.189,207.935 568.087,198.686 574.985,190.173 581.115,183.159 587.245,176.611 592.62,171.221 597.996,166.134 609.717,155.987 \n  621.508,146.94 634.544,138.109 646.948,130.704 659.845,123.913 670.702,118.836 683.957,113.349 696.099,108.944 707.313,105.355 718.673,102.15 731.404,99.0311 \n  742.94,96.6031 756.148,94.2516 768.378,92.4519 780.435,91.0068 792.141,89.8955 804.142,89.0351 817.29,88.3954 836.389,87.988 840.308,87.9763 \n  \"/>\n<polyline clip-path=\"url(#clip592)\" style=\"stroke:#3da44d; stroke-linecap:butt; stroke-linejoin:round; stroke-width:4; stroke-opacity:1; fill:none\" points=\"\n  840.308,87.9763 842.668,88.1618 845.029,88.7165 847.389,89.637 849.75,90.9199 855.207,95.2516 860.663,101.448 866.12,109.452 871.577,119.201 877.033,130.625 \n  882.49,143.652 887.947,158.204 893.403,174.202 898.86,191.56 904.317,210.193 909.773,230.014 915.23,250.933 926.143,295.708 937.057,343.8 943.615,374.001 \n  950.174,404.994 956.732,436.634 963.291,468.779 976.407,534.048 989.524,599.788 1000.61,655.066 1011.7,709.551 1022.79,762.825 1033.89,814.529 1045.93,868.572 \n  1057.98,920.11 1070.03,968.916 1082.07,1014.83 1093.18,1054.52 1104.29,1091.64 1115.39,1126.2 1126.5,1158.22 1138.41,1189.8 1150.31,1218.64 1162.22,1244.86 \n  1174.13,1268.58 1187.92,1293.15 1201.72,1314.82 1215.51,1333.82 1229.31,1350.42 1241.57,1363.34 1253.83,1374.7 1266.09,1384.65 1278.35,1393.35 1299.85,1405.96 \n  1321.35,1415.76 1344.8,1423.9 1368.24,1429.95 1391.82,1434.44 1415.4,1437.71 1467.55,1442.06 1517.16,1444.03 1568.75,1444.99 1612.18,1445.36 1665.2,1445.57 \n  1713.76,1445.66 1758.62,1445.69 1804.06,1445.7 1854.98,1445.71 1901.13,1445.71 1953.96,1445.72 2002.88,1445.72 2051.11,1445.72 2097.93,1445.72 2145.94,1445.72 \n  2198.53,1445.72 2274.93,1445.72 2290.6,1445.72 \n  \"/>\n<path clip-path=\"url(#clip590)\" d=\"\nM1982.52 302.578 L2279.55 302.578 L2279.55 95.2176 L1982.52 95.2176  Z\n  \" fill=\"#ffffff\" fill-rule=\"evenodd\" fill-opacity=\"1\"/>\n<polyline clip-path=\"url(#clip590)\" style=\"stroke:#000000; stroke-linecap:butt; stroke-linejoin:round; stroke-width:4; stroke-opacity:1; fill:none\" points=\"\n  1982.52,302.578 2279.55,302.578 2279.55,95.2176 1982.52,95.2176 1982.52,302.578 \n  \"/>\n<polyline clip-path=\"url(#clip590)\" style=\"stroke:#009af9; stroke-linecap:butt; stroke-linejoin:round; stroke-width:4; stroke-opacity:1; fill:none\" points=\"\n  2006.93,147.058 2153.34,147.058 \n  \"/>\n<path clip-path=\"url(#clip590)\" d=\"M2191.58 166.745 Q2189.78 171.375 2188.06 172.787 Q2186.35 174.199 2183.48 174.199 L2180.08 174.199 L2180.08 170.634 L2182.58 170.634 Q2184.34 170.634 2185.31 169.8 Q2186.28 168.967 2187.46 165.865 L2188.22 163.921 L2177.74 138.412 L2182.25 138.412 L2190.35 158.689 L2198.46 138.412 L2202.97 138.412 L2191.58 166.745 Z\" fill=\"#000000\" fill-rule=\"evenodd\" fill-opacity=\"1\" /><path clip-path=\"url(#clip590)\" d=\"M2210.26 160.402 L2217.9 160.402 L2217.9 134.037 L2209.59 135.703 L2209.59 131.444 L2217.85 129.778 L2222.53 129.778 L2222.53 160.402 L2230.17 160.402 L2230.17 164.338 L2210.26 164.338 L2210.26 160.402 Z\" fill=\"#000000\" fill-rule=\"evenodd\" fill-opacity=\"1\" /><polyline clip-path=\"url(#clip590)\" style=\"stroke:#e26f46; stroke-linecap:butt; stroke-linejoin:round; stroke-width:4; stroke-opacity:1; fill:none\" points=\"\n  2006.93,198.898 2153.34,198.898 \n  \"/>\n<path clip-path=\"url(#clip590)\" d=\"M2191.58 218.585 Q2189.78 223.215 2188.06 224.627 Q2186.35 226.039 2183.48 226.039 L2180.08 226.039 L2180.08 222.474 L2182.58 222.474 Q2184.34 222.474 2185.31 221.64 Q2186.28 220.807 2187.46 217.705 L2188.22 215.761 L2177.74 190.252 L2182.25 190.252 L2190.35 210.529 L2198.46 190.252 L2202.97 190.252 L2191.58 218.585 Z\" fill=\"#000000\" fill-rule=\"evenodd\" fill-opacity=\"1\" /><path clip-path=\"url(#clip590)\" d=\"M2213.48 212.242 L2229.8 212.242 L2229.8 216.178 L2207.85 216.178 L2207.85 212.242 Q2210.52 209.488 2215.1 204.858 Q2219.71 200.205 2220.89 198.863 Q2223.13 196.34 2224.01 194.604 Q2224.91 192.844 2224.91 191.155 Q2224.91 188.4 2222.97 186.664 Q2221.05 184.928 2217.95 184.928 Q2215.75 184.928 2213.29 185.692 Q2210.86 186.455 2208.09 188.006 L2208.09 183.284 Q2210.91 182.15 2213.36 181.571 Q2215.82 180.993 2217.85 180.993 Q2223.22 180.993 2226.42 183.678 Q2229.61 186.363 2229.61 190.854 Q2229.61 192.983 2228.8 194.905 Q2228.02 196.803 2225.91 199.395 Q2225.33 200.067 2222.23 203.284 Q2219.13 206.479 2213.48 212.242 Z\" fill=\"#000000\" fill-rule=\"evenodd\" fill-opacity=\"1\" /><polyline clip-path=\"url(#clip590)\" style=\"stroke:#3da44d; stroke-linecap:butt; stroke-linejoin:round; stroke-width:4; stroke-opacity:1; fill:none\" points=\"\n  2006.93,250.738 2153.34,250.738 \n  \"/>\n<path clip-path=\"url(#clip590)\" d=\"M2191.58 270.425 Q2189.78 275.055 2188.06 276.467 Q2186.35 277.879 2183.48 277.879 L2180.08 277.879 L2180.08 274.314 L2182.58 274.314 Q2184.34 274.314 2185.31 273.48 Q2186.28 272.647 2187.46 269.545 L2188.22 267.601 L2177.74 242.092 L2182.25 242.092 L2190.35 262.369 L2198.46 242.092 L2202.97 242.092 L2191.58 270.425 Z\" fill=\"#000000\" fill-rule=\"evenodd\" fill-opacity=\"1\" /><path clip-path=\"url(#clip590)\" d=\"M2223.62 249.383 Q2226.97 250.101 2228.85 252.369 Q2230.75 254.638 2230.75 257.971 Q2230.75 263.087 2227.23 265.888 Q2223.71 268.689 2217.23 268.689 Q2215.05 268.689 2212.74 268.249 Q2210.45 267.832 2207.99 266.976 L2207.99 262.462 Q2209.94 263.596 2212.25 264.175 Q2214.57 264.754 2217.09 264.754 Q2221.49 264.754 2223.78 263.018 Q2226.09 261.281 2226.09 257.971 Q2226.09 254.916 2223.94 253.203 Q2221.81 251.467 2217.99 251.467 L2213.96 251.467 L2213.96 247.624 L2218.18 247.624 Q2221.63 247.624 2223.46 246.258 Q2225.28 244.87 2225.28 242.277 Q2225.28 239.615 2223.39 238.203 Q2221.51 236.768 2217.99 236.768 Q2216.07 236.768 2213.87 237.184 Q2211.67 237.601 2209.03 238.481 L2209.03 234.314 Q2211.7 233.573 2214.01 233.203 Q2216.35 232.833 2218.41 232.833 Q2223.73 232.833 2226.84 235.263 Q2229.94 237.67 2229.94 241.791 Q2229.94 244.661 2228.29 246.652 Q2226.65 248.62 2223.62 249.383 Z\" fill=\"#000000\" fill-rule=\"evenodd\" fill-opacity=\"1\" /></svg>\n"
     },
     "execution_count": 252,
     "metadata": {},
     "output_type": "execute_result"
    }
   ],
   "source": [
    "plot!(x->mid(T_right(x, 0.023288528303070)), 0.3, 1)"
   ]
  },
  {
   "cell_type": "markdown",
   "metadata": {},
   "source": [
    "We want to certify now the value of $b$."
   ]
  },
  {
   "cell_type": "code",
   "execution_count": 253,
   "metadata": {},
   "outputs": [
    {
     "data": {
      "text/plain": [
       "T (generic function with 1 method)"
      ]
     },
     "execution_count": 253,
     "metadata": {},
     "output_type": "execute_result"
    }
   ],
   "source": [
    "function T(x, b)\n",
    "    if 0<=x<= 1//8\n",
    "        return T_left_leq_1_8(x, b)\n",
    "    elseif 1//8<x<0.3\n",
    "        return T_left_geq_1_8(x, b)\n",
    "    elseif x>=0.3\n",
    "        return T_right(x, b)\n",
    "    end\n",
    "end"
   ]
  },
  {
   "cell_type": "code",
   "execution_count": 254,
   "metadata": {},
   "outputs": [
    {
     "data": {
      "image/svg+xml": "<?xml version=\"1.0\" encoding=\"utf-8\"?>\n<svg xmlns=\"http://www.w3.org/2000/svg\" xmlns:xlink=\"http://www.w3.org/1999/xlink\" width=\"600\" height=\"400\" viewBox=\"0 0 2400 1600\">\n<defs>\n  <clipPath id=\"clip630\">\n    <rect x=\"0\" y=\"0\" width=\"2400\" height=\"1600\"/>\n  </clipPath>\n</defs>\n<path clip-path=\"url(#clip630)\" d=\"\nM0 1600 L2400 1600 L2400 0 L0 0  Z\n  \" fill=\"#ffffff\" fill-rule=\"evenodd\" fill-opacity=\"1\"/>\n<defs>\n  <clipPath id=\"clip631\">\n    <rect x=\"480\" y=\"0\" width=\"1681\" height=\"1600\"/>\n  </clipPath>\n</defs>\n<path clip-path=\"url(#clip630)\" d=\"\nM156.598 1486.45 L2352.76 1486.45 L2352.76 47.2441 L156.598 47.2441  Z\n  \" fill=\"#ffffff\" fill-rule=\"evenodd\" fill-opacity=\"1\"/>\n<defs>\n  <clipPath id=\"clip632\">\n    <rect x=\"156\" y=\"47\" width=\"2197\" height=\"1440\"/>\n  </clipPath>\n</defs>\n<polyline clip-path=\"url(#clip632)\" style=\"stroke:#000000; stroke-linecap:butt; stroke-linejoin:round; stroke-width:2; stroke-opacity:0.1; fill:none\" points=\"\n  218.754,1486.45 218.754,47.2441 \n  \"/>\n<polyline clip-path=\"url(#clip632)\" style=\"stroke:#000000; stroke-linecap:butt; stroke-linejoin:round; stroke-width:2; stroke-opacity:0.1; fill:none\" points=\"\n  736.715,1486.45 736.715,47.2441 \n  \"/>\n<polyline clip-path=\"url(#clip632)\" style=\"stroke:#000000; stroke-linecap:butt; stroke-linejoin:round; stroke-width:2; stroke-opacity:0.1; fill:none\" points=\"\n  1254.68,1486.45 1254.68,47.2441 \n  \"/>\n<polyline clip-path=\"url(#clip632)\" style=\"stroke:#000000; stroke-linecap:butt; stroke-linejoin:round; stroke-width:2; stroke-opacity:0.1; fill:none\" points=\"\n  1772.64,1486.45 1772.64,47.2441 \n  \"/>\n<polyline clip-path=\"url(#clip632)\" style=\"stroke:#000000; stroke-linecap:butt; stroke-linejoin:round; stroke-width:2; stroke-opacity:0.1; fill:none\" points=\"\n  2290.6,1486.45 2290.6,47.2441 \n  \"/>\n<polyline clip-path=\"url(#clip630)\" style=\"stroke:#000000; stroke-linecap:butt; stroke-linejoin:round; stroke-width:4; stroke-opacity:1; fill:none\" points=\"\n  156.598,1486.45 2352.76,1486.45 \n  \"/>\n<polyline clip-path=\"url(#clip630)\" style=\"stroke:#000000; stroke-linecap:butt; stroke-linejoin:round; stroke-width:4; stroke-opacity:1; fill:none\" points=\"\n  218.754,1486.45 218.754,1467.55 \n  \"/>\n<polyline clip-path=\"url(#clip630)\" style=\"stroke:#000000; stroke-linecap:butt; stroke-linejoin:round; stroke-width:4; stroke-opacity:1; fill:none\" points=\"\n  736.715,1486.45 736.715,1467.55 \n  \"/>\n<polyline clip-path=\"url(#clip630)\" style=\"stroke:#000000; stroke-linecap:butt; stroke-linejoin:round; stroke-width:4; stroke-opacity:1; fill:none\" points=\"\n  1254.68,1486.45 1254.68,1467.55 \n  \"/>\n<polyline clip-path=\"url(#clip630)\" style=\"stroke:#000000; stroke-linecap:butt; stroke-linejoin:round; stroke-width:4; stroke-opacity:1; fill:none\" points=\"\n  1772.64,1486.45 1772.64,1467.55 \n  \"/>\n<polyline clip-path=\"url(#clip630)\" style=\"stroke:#000000; stroke-linecap:butt; stroke-linejoin:round; stroke-width:4; stroke-opacity:1; fill:none\" points=\"\n  2290.6,1486.45 2290.6,1467.55 \n  \"/>\n<path clip-path=\"url(#clip630)\" d=\"M181.057 1517.37 Q177.446 1517.37 175.617 1520.93 Q173.812 1524.47 173.812 1531.6 Q173.812 1538.71 175.617 1542.27 Q177.446 1545.82 181.057 1545.82 Q184.691 1545.82 186.497 1542.27 Q188.326 1538.71 188.326 1531.6 Q188.326 1524.47 186.497 1520.93 Q184.691 1517.37 181.057 1517.37 M181.057 1513.66 Q186.867 1513.66 189.923 1518.27 Q193.001 1522.85 193.001 1531.6 Q193.001 1540.33 189.923 1544.94 Q186.867 1549.52 181.057 1549.52 Q175.247 1549.52 172.168 1544.94 Q169.113 1540.33 169.113 1531.6 Q169.113 1522.85 172.168 1518.27 Q175.247 1513.66 181.057 1513.66 Z\" fill=\"#000000\" fill-rule=\"evenodd\" fill-opacity=\"1\" /><path clip-path=\"url(#clip630)\" d=\"M201.219 1542.97 L206.103 1542.97 L206.103 1548.85 L201.219 1548.85 L201.219 1542.97 Z\" fill=\"#000000\" fill-rule=\"evenodd\" fill-opacity=\"1\" /><path clip-path=\"url(#clip630)\" d=\"M226.288 1517.37 Q222.677 1517.37 220.849 1520.93 Q219.043 1524.47 219.043 1531.6 Q219.043 1538.71 220.849 1542.27 Q222.677 1545.82 226.288 1545.82 Q229.923 1545.82 231.728 1542.27 Q233.557 1538.71 233.557 1531.6 Q233.557 1524.47 231.728 1520.93 Q229.923 1517.37 226.288 1517.37 M226.288 1513.66 Q232.098 1513.66 235.154 1518.27 Q238.233 1522.85 238.233 1531.6 Q238.233 1540.33 235.154 1544.94 Q232.098 1549.52 226.288 1549.52 Q220.478 1549.52 217.399 1544.94 Q214.344 1540.33 214.344 1531.6 Q214.344 1522.85 217.399 1518.27 Q220.478 1513.66 226.288 1513.66 Z\" fill=\"#000000\" fill-rule=\"evenodd\" fill-opacity=\"1\" /><path clip-path=\"url(#clip630)\" d=\"M256.45 1517.37 Q252.839 1517.37 251.01 1520.93 Q249.205 1524.47 249.205 1531.6 Q249.205 1538.71 251.01 1542.27 Q252.839 1545.82 256.45 1545.82 Q260.084 1545.82 261.89 1542.27 Q263.719 1538.71 263.719 1531.6 Q263.719 1524.47 261.89 1520.93 Q260.084 1517.37 256.45 1517.37 M256.45 1513.66 Q262.26 1513.66 265.316 1518.27 Q268.395 1522.85 268.395 1531.6 Q268.395 1540.33 265.316 1544.94 Q262.26 1549.52 256.45 1549.52 Q250.64 1549.52 247.561 1544.94 Q244.506 1540.33 244.506 1531.6 Q244.506 1522.85 247.561 1518.27 Q250.64 1513.66 256.45 1513.66 Z\" fill=\"#000000\" fill-rule=\"evenodd\" fill-opacity=\"1\" /><path clip-path=\"url(#clip630)\" d=\"M699.516 1517.37 Q695.905 1517.37 694.077 1520.93 Q692.271 1524.47 692.271 1531.6 Q692.271 1538.71 694.077 1542.27 Q695.905 1545.82 699.516 1545.82 Q703.151 1545.82 704.956 1542.27 Q706.785 1538.71 706.785 1531.6 Q706.785 1524.47 704.956 1520.93 Q703.151 1517.37 699.516 1517.37 M699.516 1513.66 Q705.327 1513.66 708.382 1518.27 Q711.461 1522.85 711.461 1531.6 Q711.461 1540.33 708.382 1544.94 Q705.327 1549.52 699.516 1549.52 Q693.706 1549.52 690.628 1544.94 Q687.572 1540.33 687.572 1531.6 Q687.572 1522.85 690.628 1518.27 Q693.706 1513.66 699.516 1513.66 Z\" fill=\"#000000\" fill-rule=\"evenodd\" fill-opacity=\"1\" /><path clip-path=\"url(#clip630)\" d=\"M719.678 1542.97 L724.563 1542.97 L724.563 1548.85 L719.678 1548.85 L719.678 1542.97 Z\" fill=\"#000000\" fill-rule=\"evenodd\" fill-opacity=\"1\" /><path clip-path=\"url(#clip630)\" d=\"M738.776 1544.91 L755.095 1544.91 L755.095 1548.85 L733.151 1548.85 L733.151 1544.91 Q735.813 1542.16 740.396 1537.53 Q745.002 1532.88 746.183 1531.53 Q748.428 1529.01 749.308 1527.27 Q750.211 1525.51 750.211 1523.82 Q750.211 1521.07 748.266 1519.33 Q746.345 1517.6 743.243 1517.6 Q741.044 1517.6 738.59 1518.36 Q736.16 1519.13 733.382 1520.68 L733.382 1515.95 Q736.206 1514.82 738.66 1514.24 Q741.113 1513.66 743.151 1513.66 Q748.521 1513.66 751.715 1516.35 Q754.91 1519.03 754.91 1523.52 Q754.91 1525.65 754.1 1527.57 Q753.312 1529.47 751.206 1532.07 Q750.627 1532.74 747.525 1535.95 Q744.424 1539.15 738.776 1544.91 Z\" fill=\"#000000\" fill-rule=\"evenodd\" fill-opacity=\"1\" /><path clip-path=\"url(#clip630)\" d=\"M764.956 1514.29 L783.312 1514.29 L783.312 1518.22 L769.238 1518.22 L769.238 1526.7 Q770.257 1526.35 771.275 1526.19 Q772.294 1526 773.312 1526 Q779.099 1526 782.479 1529.17 Q785.859 1532.34 785.859 1537.76 Q785.859 1543.34 782.386 1546.44 Q778.914 1549.52 772.595 1549.52 Q770.419 1549.52 768.15 1549.15 Q765.905 1548.78 763.498 1548.04 L763.498 1543.34 Q765.581 1544.47 767.803 1545.03 Q770.025 1545.58 772.502 1545.58 Q776.507 1545.58 778.845 1543.48 Q781.183 1541.37 781.183 1537.76 Q781.183 1534.15 778.845 1532.04 Q776.507 1529.94 772.502 1529.94 Q770.627 1529.94 768.752 1530.35 Q766.9 1530.77 764.956 1531.65 L764.956 1514.29 Z\" fill=\"#000000\" fill-rule=\"evenodd\" fill-opacity=\"1\" /><path clip-path=\"url(#clip630)\" d=\"M1216.98 1517.37 Q1213.37 1517.37 1211.54 1520.93 Q1209.74 1524.47 1209.74 1531.6 Q1209.74 1538.71 1211.54 1542.27 Q1213.37 1545.82 1216.98 1545.82 Q1220.61 1545.82 1222.42 1542.27 Q1224.25 1538.71 1224.25 1531.6 Q1224.25 1524.47 1222.42 1520.93 Q1220.61 1517.37 1216.98 1517.37 M1216.98 1513.66 Q1222.79 1513.66 1225.85 1518.27 Q1228.92 1522.85 1228.92 1531.6 Q1228.92 1540.33 1225.85 1544.94 Q1222.79 1549.52 1216.98 1549.52 Q1211.17 1549.52 1208.09 1544.94 Q1205.04 1540.33 1205.04 1531.6 Q1205.04 1522.85 1208.09 1518.27 Q1211.17 1513.66 1216.98 1513.66 Z\" fill=\"#000000\" fill-rule=\"evenodd\" fill-opacity=\"1\" /><path clip-path=\"url(#clip630)\" d=\"M1237.14 1542.97 L1242.03 1542.97 L1242.03 1548.85 L1237.14 1548.85 L1237.14 1542.97 Z\" fill=\"#000000\" fill-rule=\"evenodd\" fill-opacity=\"1\" /><path clip-path=\"url(#clip630)\" d=\"M1252.26 1514.29 L1270.61 1514.29 L1270.61 1518.22 L1256.54 1518.22 L1256.54 1526.7 Q1257.56 1526.35 1258.58 1526.19 Q1259.6 1526 1260.61 1526 Q1266.4 1526 1269.78 1529.17 Q1273.16 1532.34 1273.16 1537.76 Q1273.16 1543.34 1269.69 1546.44 Q1266.22 1549.52 1259.9 1549.52 Q1257.72 1549.52 1255.45 1549.15 Q1253.21 1548.78 1250.8 1548.04 L1250.8 1543.34 Q1252.88 1544.47 1255.11 1545.03 Q1257.33 1545.58 1259.8 1545.58 Q1263.81 1545.58 1266.15 1543.48 Q1268.48 1541.37 1268.48 1537.76 Q1268.48 1534.15 1266.15 1532.04 Q1263.81 1529.94 1259.8 1529.94 Q1257.93 1529.94 1256.05 1530.35 Q1254.2 1530.77 1252.26 1531.65 L1252.26 1514.29 Z\" fill=\"#000000\" fill-rule=\"evenodd\" fill-opacity=\"1\" /><path clip-path=\"url(#clip630)\" d=\"M1292.37 1517.37 Q1288.76 1517.37 1286.93 1520.93 Q1285.13 1524.47 1285.13 1531.6 Q1285.13 1538.71 1286.93 1542.27 Q1288.76 1545.82 1292.37 1545.82 Q1296.01 1545.82 1297.81 1542.27 Q1299.64 1538.71 1299.64 1531.6 Q1299.64 1524.47 1297.81 1520.93 Q1296.01 1517.37 1292.37 1517.37 M1292.37 1513.66 Q1298.18 1513.66 1301.24 1518.27 Q1304.32 1522.85 1304.32 1531.6 Q1304.32 1540.33 1301.24 1544.94 Q1298.18 1549.52 1292.37 1549.52 Q1286.56 1549.52 1283.48 1544.94 Q1280.43 1540.33 1280.43 1531.6 Q1280.43 1522.85 1283.48 1518.27 Q1286.56 1513.66 1292.37 1513.66 Z\" fill=\"#000000\" fill-rule=\"evenodd\" fill-opacity=\"1\" /><path clip-path=\"url(#clip630)\" d=\"M1735.44 1517.37 Q1731.83 1517.37 1730 1520.93 Q1728.19 1524.47 1728.19 1531.6 Q1728.19 1538.71 1730 1542.27 Q1731.83 1545.82 1735.44 1545.82 Q1739.07 1545.82 1740.88 1542.27 Q1742.71 1538.71 1742.71 1531.6 Q1742.71 1524.47 1740.88 1520.93 Q1739.07 1517.37 1735.44 1517.37 M1735.44 1513.66 Q1741.25 1513.66 1744.31 1518.27 Q1747.38 1522.85 1747.38 1531.6 Q1747.38 1540.33 1744.31 1544.94 Q1741.25 1549.52 1735.44 1549.52 Q1729.63 1549.52 1726.55 1544.94 Q1723.5 1540.33 1723.5 1531.6 Q1723.5 1522.85 1726.55 1518.27 Q1729.63 1513.66 1735.44 1513.66 Z\" fill=\"#000000\" fill-rule=\"evenodd\" fill-opacity=\"1\" /><path clip-path=\"url(#clip630)\" d=\"M1755.6 1542.97 L1760.49 1542.97 L1760.49 1548.85 L1755.6 1548.85 L1755.6 1542.97 Z\" fill=\"#000000\" fill-rule=\"evenodd\" fill-opacity=\"1\" /><path clip-path=\"url(#clip630)\" d=\"M1769.49 1514.29 L1791.71 1514.29 L1791.71 1516.28 L1779.17 1548.85 L1774.28 1548.85 L1786.09 1518.22 L1769.49 1518.22 L1769.49 1514.29 Z\" fill=\"#000000\" fill-rule=\"evenodd\" fill-opacity=\"1\" /><path clip-path=\"url(#clip630)\" d=\"M1800.88 1514.29 L1819.24 1514.29 L1819.24 1518.22 L1805.16 1518.22 L1805.16 1526.7 Q1806.18 1526.35 1807.2 1526.19 Q1808.22 1526 1809.24 1526 Q1815.02 1526 1818.4 1529.17 Q1821.78 1532.34 1821.78 1537.76 Q1821.78 1543.34 1818.31 1546.44 Q1814.84 1549.52 1808.52 1549.52 Q1806.34 1549.52 1804.07 1549.15 Q1801.83 1548.78 1799.42 1548.04 L1799.42 1543.34 Q1801.5 1544.47 1803.73 1545.03 Q1805.95 1545.58 1808.43 1545.58 Q1812.43 1545.58 1814.77 1543.48 Q1817.11 1541.37 1817.11 1537.76 Q1817.11 1534.15 1814.77 1532.04 Q1812.43 1529.94 1808.43 1529.94 Q1806.55 1529.94 1804.68 1530.35 Q1802.82 1530.77 1800.88 1531.65 L1800.88 1514.29 Z\" fill=\"#000000\" fill-rule=\"evenodd\" fill-opacity=\"1\" /><path clip-path=\"url(#clip630)\" d=\"M2242.67 1544.91 L2250.31 1544.91 L2250.31 1518.55 L2242 1520.21 L2242 1515.95 L2250.27 1514.29 L2254.94 1514.29 L2254.94 1544.91 L2262.58 1544.91 L2262.58 1548.85 L2242.67 1548.85 L2242.67 1544.91 Z\" fill=\"#000000\" fill-rule=\"evenodd\" fill-opacity=\"1\" /><path clip-path=\"url(#clip630)\" d=\"M2272.02 1542.97 L2276.91 1542.97 L2276.91 1548.85 L2272.02 1548.85 L2272.02 1542.97 Z\" fill=\"#000000\" fill-rule=\"evenodd\" fill-opacity=\"1\" /><path clip-path=\"url(#clip630)\" d=\"M2297.09 1517.37 Q2293.48 1517.37 2291.65 1520.93 Q2289.85 1524.47 2289.85 1531.6 Q2289.85 1538.71 2291.65 1542.27 Q2293.48 1545.82 2297.09 1545.82 Q2300.73 1545.82 2302.53 1542.27 Q2304.36 1538.71 2304.36 1531.6 Q2304.36 1524.47 2302.53 1520.93 Q2300.73 1517.37 2297.09 1517.37 M2297.09 1513.66 Q2302.9 1513.66 2305.96 1518.27 Q2309.04 1522.85 2309.04 1531.6 Q2309.04 1540.33 2305.96 1544.94 Q2302.9 1549.52 2297.09 1549.52 Q2291.28 1549.52 2288.2 1544.94 Q2285.15 1540.33 2285.15 1531.6 Q2285.15 1522.85 2288.2 1518.27 Q2291.28 1513.66 2297.09 1513.66 Z\" fill=\"#000000\" fill-rule=\"evenodd\" fill-opacity=\"1\" /><path clip-path=\"url(#clip630)\" d=\"M2327.26 1517.37 Q2323.64 1517.37 2321.82 1520.93 Q2320.01 1524.47 2320.01 1531.6 Q2320.01 1538.71 2321.82 1542.27 Q2323.64 1545.82 2327.26 1545.82 Q2330.89 1545.82 2332.7 1542.27 Q2334.52 1538.71 2334.52 1531.6 Q2334.52 1524.47 2332.7 1520.93 Q2330.89 1517.37 2327.26 1517.37 M2327.26 1513.66 Q2333.07 1513.66 2336.12 1518.27 Q2339.2 1522.85 2339.2 1531.6 Q2339.2 1540.33 2336.12 1544.94 Q2333.07 1549.52 2327.26 1549.52 Q2321.45 1549.52 2318.37 1544.94 Q2315.31 1540.33 2315.31 1531.6 Q2315.31 1522.85 2318.37 1518.27 Q2321.45 1513.66 2327.26 1513.66 Z\" fill=\"#000000\" fill-rule=\"evenodd\" fill-opacity=\"1\" /><polyline clip-path=\"url(#clip632)\" style=\"stroke:#000000; stroke-linecap:butt; stroke-linejoin:round; stroke-width:2; stroke-opacity:0.1; fill:none\" points=\"\n  156.598,1485.78 2352.76,1485.78 \n  \"/>\n<polyline clip-path=\"url(#clip632)\" style=\"stroke:#000000; stroke-linecap:butt; stroke-linejoin:round; stroke-width:2; stroke-opacity:0.1; fill:none\" points=\"\n  156.598,1141.7 2352.76,1141.7 \n  \"/>\n<polyline clip-path=\"url(#clip632)\" style=\"stroke:#000000; stroke-linecap:butt; stroke-linejoin:round; stroke-width:2; stroke-opacity:0.1; fill:none\" points=\"\n  156.598,797.622 2352.76,797.622 \n  \"/>\n<polyline clip-path=\"url(#clip632)\" style=\"stroke:#000000; stroke-linecap:butt; stroke-linejoin:round; stroke-width:2; stroke-opacity:0.1; fill:none\" points=\"\n  156.598,453.543 2352.76,453.543 \n  \"/>\n<polyline clip-path=\"url(#clip632)\" style=\"stroke:#000000; stroke-linecap:butt; stroke-linejoin:round; stroke-width:2; stroke-opacity:0.1; fill:none\" points=\"\n  156.598,109.464 2352.76,109.464 \n  \"/>\n<polyline clip-path=\"url(#clip630)\" style=\"stroke:#000000; stroke-linecap:butt; stroke-linejoin:round; stroke-width:4; stroke-opacity:1; fill:none\" points=\"\n  156.598,1486.45 156.598,47.2441 \n  \"/>\n<polyline clip-path=\"url(#clip630)\" style=\"stroke:#000000; stroke-linecap:butt; stroke-linejoin:round; stroke-width:4; stroke-opacity:1; fill:none\" points=\"\n  156.598,1485.78 175.496,1485.78 \n  \"/>\n<polyline clip-path=\"url(#clip630)\" style=\"stroke:#000000; stroke-linecap:butt; stroke-linejoin:round; stroke-width:4; stroke-opacity:1; fill:none\" points=\"\n  156.598,1141.7 175.496,1141.7 \n  \"/>\n<polyline clip-path=\"url(#clip630)\" style=\"stroke:#000000; stroke-linecap:butt; stroke-linejoin:round; stroke-width:4; stroke-opacity:1; fill:none\" points=\"\n  156.598,797.622 175.496,797.622 \n  \"/>\n<polyline clip-path=\"url(#clip630)\" style=\"stroke:#000000; stroke-linecap:butt; stroke-linejoin:round; stroke-width:4; stroke-opacity:1; fill:none\" points=\"\n  156.598,453.543 175.496,453.543 \n  \"/>\n<polyline clip-path=\"url(#clip630)\" style=\"stroke:#000000; stroke-linecap:butt; stroke-linejoin:round; stroke-width:4; stroke-opacity:1; fill:none\" points=\"\n  156.598,109.464 175.496,109.464 \n  \"/>\n<path clip-path=\"url(#clip630)\" d=\"M63.4226 1471.58 Q59.8115 1471.58 57.9828 1475.14 Q56.1773 1478.69 56.1773 1485.82 Q56.1773 1492.92 57.9828 1496.49 Q59.8115 1500.03 63.4226 1500.03 Q67.0569 1500.03 68.8624 1496.49 Q70.6911 1492.92 70.6911 1485.82 Q70.6911 1478.69 68.8624 1475.14 Q67.0569 1471.58 63.4226 1471.58 M63.4226 1467.88 Q69.2328 1467.88 72.2883 1472.48 Q75.367 1477.07 75.367 1485.82 Q75.367 1494.54 72.2883 1499.15 Q69.2328 1503.73 63.4226 1503.73 Q57.6125 1503.73 54.5338 1499.15 Q51.4782 1494.54 51.4782 1485.82 Q51.4782 1477.07 54.5338 1472.48 Q57.6125 1467.88 63.4226 1467.88 Z\" fill=\"#000000\" fill-rule=\"evenodd\" fill-opacity=\"1\" /><path clip-path=\"url(#clip630)\" d=\"M83.5845 1497.18 L88.4688 1497.18 L88.4688 1503.06 L83.5845 1503.06 L83.5845 1497.18 Z\" fill=\"#000000\" fill-rule=\"evenodd\" fill-opacity=\"1\" /><path clip-path=\"url(#clip630)\" d=\"M108.654 1471.58 Q105.043 1471.58 103.214 1475.14 Q101.409 1478.69 101.409 1485.82 Q101.409 1492.92 103.214 1496.49 Q105.043 1500.03 108.654 1500.03 Q112.288 1500.03 114.094 1496.49 Q115.922 1492.92 115.922 1485.82 Q115.922 1478.69 114.094 1475.14 Q112.288 1471.58 108.654 1471.58 M108.654 1467.88 Q114.464 1467.88 117.52 1472.48 Q120.598 1477.07 120.598 1485.82 Q120.598 1494.54 117.52 1499.15 Q114.464 1503.73 108.654 1503.73 Q102.844 1503.73 99.765 1499.15 Q96.7095 1494.54 96.7095 1485.82 Q96.7095 1477.07 99.765 1472.48 Q102.844 1467.88 108.654 1467.88 Z\" fill=\"#000000\" fill-rule=\"evenodd\" fill-opacity=\"1\" /><path clip-path=\"url(#clip630)\" d=\"M65.0198 1127.5 Q61.4087 1127.5 59.58 1131.07 Q57.7745 1134.61 57.7745 1141.74 Q57.7745 1148.84 59.58 1152.41 Q61.4087 1155.95 65.0198 1155.95 Q68.6541 1155.95 70.4596 1152.41 Q72.2883 1148.84 72.2883 1141.74 Q72.2883 1134.61 70.4596 1131.07 Q68.6541 1127.5 65.0198 1127.5 M65.0198 1123.8 Q70.83 1123.8 73.8855 1128.4 Q76.9642 1132.99 76.9642 1141.74 Q76.9642 1150.46 73.8855 1155.07 Q70.83 1159.65 65.0198 1159.65 Q59.2097 1159.65 56.131 1155.07 Q53.0754 1150.46 53.0754 1141.74 Q53.0754 1132.99 56.131 1128.4 Q59.2097 1123.8 65.0198 1123.8 Z\" fill=\"#000000\" fill-rule=\"evenodd\" fill-opacity=\"1\" /><path clip-path=\"url(#clip630)\" d=\"M85.1818 1153.1 L90.066 1153.1 L90.066 1158.98 L85.1818 1158.98 L85.1818 1153.1 Z\" fill=\"#000000\" fill-rule=\"evenodd\" fill-opacity=\"1\" /><path clip-path=\"url(#clip630)\" d=\"M104.279 1155.05 L120.598 1155.05 L120.598 1158.98 L98.6539 1158.98 L98.6539 1155.05 Q101.316 1152.29 105.899 1147.66 Q110.506 1143.01 111.686 1141.67 Q113.932 1139.14 114.811 1137.41 Q115.714 1135.65 115.714 1133.96 Q115.714 1131.2 113.77 1129.47 Q111.848 1127.73 108.746 1127.73 Q106.547 1127.73 104.094 1128.5 Q101.663 1129.26 98.8854 1130.81 L98.8854 1126.09 Q101.709 1124.95 104.163 1124.38 Q106.617 1123.8 108.654 1123.8 Q114.024 1123.8 117.219 1126.48 Q120.413 1129.17 120.413 1133.66 Q120.413 1135.79 119.603 1137.71 Q118.816 1139.61 116.709 1142.2 Q116.131 1142.87 113.029 1146.09 Q109.927 1149.28 104.279 1155.05 Z\" fill=\"#000000\" fill-rule=\"evenodd\" fill-opacity=\"1\" /><path clip-path=\"url(#clip630)\" d=\"M62.9365 783.421 Q59.3254 783.421 57.4967 786.986 Q55.6912 790.528 55.6912 797.657 Q55.6912 804.764 57.4967 808.328 Q59.3254 811.87 62.9365 811.87 Q66.5707 811.87 68.3763 808.328 Q70.205 804.764 70.205 797.657 Q70.205 790.528 68.3763 786.986 Q66.5707 783.421 62.9365 783.421 M62.9365 779.717 Q68.7467 779.717 71.8022 784.324 Q74.8809 788.907 74.8809 797.657 Q74.8809 806.384 71.8022 810.99 Q68.7467 815.574 62.9365 815.574 Q57.1264 815.574 54.0477 810.99 Q50.9921 806.384 50.9921 797.657 Q50.9921 788.907 54.0477 784.324 Q57.1264 779.717 62.9365 779.717 Z\" fill=\"#000000\" fill-rule=\"evenodd\" fill-opacity=\"1\" /><path clip-path=\"url(#clip630)\" d=\"M83.0984 809.023 L87.9827 809.023 L87.9827 814.902 L83.0984 814.902 L83.0984 809.023 Z\" fill=\"#000000\" fill-rule=\"evenodd\" fill-opacity=\"1\" /><path clip-path=\"url(#clip630)\" d=\"M111.015 784.416 L99.2095 802.865 L111.015 802.865 L111.015 784.416 M109.788 780.342 L115.668 780.342 L115.668 802.865 L120.598 802.865 L120.598 806.754 L115.668 806.754 L115.668 814.902 L111.015 814.902 L111.015 806.754 L95.4132 806.754 L95.4132 802.24 L109.788 780.342 Z\" fill=\"#000000\" fill-rule=\"evenodd\" fill-opacity=\"1\" /><path clip-path=\"url(#clip630)\" d=\"M63.2606 439.342 Q59.6495 439.342 57.8208 442.906 Q56.0152 446.448 56.0152 453.578 Q56.0152 460.684 57.8208 464.249 Q59.6495 467.791 63.2606 467.791 Q66.8948 467.791 68.7004 464.249 Q70.5291 460.684 70.5291 453.578 Q70.5291 446.448 68.7004 442.906 Q66.8948 439.342 63.2606 439.342 M63.2606 435.638 Q69.0707 435.638 72.1263 440.244 Q75.205 444.828 75.205 453.578 Q75.205 462.304 72.1263 466.911 Q69.0707 471.494 63.2606 471.494 Q57.4504 471.494 54.3717 466.911 Q51.3162 462.304 51.3162 453.578 Q51.3162 444.828 54.3717 440.244 Q57.4504 435.638 63.2606 435.638 Z\" fill=\"#000000\" fill-rule=\"evenodd\" fill-opacity=\"1\" /><path clip-path=\"url(#clip630)\" d=\"M83.4225 464.943 L88.3067 464.943 L88.3067 470.823 L83.4225 470.823 L83.4225 464.943 Z\" fill=\"#000000\" fill-rule=\"evenodd\" fill-opacity=\"1\" /><path clip-path=\"url(#clip630)\" d=\"M109.071 451.68 Q105.922 451.68 104.071 453.832 Q102.242 455.985 102.242 459.735 Q102.242 463.462 104.071 465.638 Q105.922 467.791 109.071 467.791 Q112.219 467.791 114.047 465.638 Q115.899 463.462 115.899 459.735 Q115.899 455.985 114.047 453.832 Q112.219 451.68 109.071 451.68 M118.353 437.027 L118.353 441.286 Q116.594 440.453 114.788 440.013 Q113.006 439.573 111.246 439.573 Q106.617 439.573 104.163 442.698 Q101.733 445.823 101.385 452.142 Q102.751 450.129 104.811 449.064 Q106.871 447.976 109.348 447.976 Q114.557 447.976 117.566 451.147 Q120.598 454.295 120.598 459.735 Q120.598 465.059 117.45 468.277 Q114.302 471.494 109.071 471.494 Q103.075 471.494 99.9039 466.911 Q96.7326 462.304 96.7326 453.578 Q96.7326 445.383 100.621 440.522 Q104.51 435.638 111.061 435.638 Q112.82 435.638 114.603 435.985 Q116.408 436.332 118.353 437.027 Z\" fill=\"#000000\" fill-rule=\"evenodd\" fill-opacity=\"1\" /><path clip-path=\"url(#clip630)\" d=\"M63.5152 95.2622 Q59.9041 95.2622 58.0754 98.827 Q56.2699 102.369 56.2699 109.498 Q56.2699 116.605 58.0754 120.169 Q59.9041 123.711 63.5152 123.711 Q67.1494 123.711 68.955 120.169 Q70.7837 116.605 70.7837 109.498 Q70.7837 102.369 68.955 98.827 Q67.1494 95.2622 63.5152 95.2622 M63.5152 91.5585 Q69.3254 91.5585 72.3809 96.165 Q75.4596 100.748 75.4596 109.498 Q75.4596 118.225 72.3809 122.832 Q69.3254 127.415 63.5152 127.415 Q57.7051 127.415 54.6264 122.832 Q51.5708 118.225 51.5708 109.498 Q51.5708 100.748 54.6264 96.165 Q57.7051 91.5585 63.5152 91.5585 Z\" fill=\"#000000\" fill-rule=\"evenodd\" fill-opacity=\"1\" /><path clip-path=\"url(#clip630)\" d=\"M83.6771 120.864 L88.5614 120.864 L88.5614 126.744 L83.6771 126.744 L83.6771 120.864 Z\" fill=\"#000000\" fill-rule=\"evenodd\" fill-opacity=\"1\" /><path clip-path=\"url(#clip630)\" d=\"M108.746 110.332 Q105.413 110.332 103.492 112.114 Q101.594 113.896 101.594 117.021 Q101.594 120.146 103.492 121.929 Q105.413 123.711 108.746 123.711 Q112.08 123.711 114.001 121.929 Q115.922 120.123 115.922 117.021 Q115.922 113.896 114.001 112.114 Q112.103 110.332 108.746 110.332 M104.071 108.341 Q101.061 107.6 99.3715 105.54 Q97.7048 103.48 97.7048 100.517 Q97.7048 96.3733 100.645 93.9659 Q103.608 91.5585 108.746 91.5585 Q113.908 91.5585 116.848 93.9659 Q119.788 96.3733 119.788 100.517 Q119.788 103.48 118.098 105.54 Q116.432 107.6 113.445 108.341 Q116.825 109.128 118.7 111.42 Q120.598 113.711 120.598 117.021 Q120.598 122.044 117.52 124.73 Q114.464 127.415 108.746 127.415 Q103.029 127.415 99.9502 124.73 Q96.8947 122.044 96.8947 117.021 Q96.8947 113.711 98.7928 111.42 Q100.691 109.128 104.071 108.341 M102.358 100.957 Q102.358 103.642 104.024 105.146 Q105.714 106.651 108.746 106.651 Q111.756 106.651 113.445 105.146 Q115.158 103.642 115.158 100.957 Q115.158 98.2715 113.445 96.7668 Q111.756 95.2622 108.746 95.2622 Q105.714 95.2622 104.024 96.7668 Q102.358 98.2715 102.358 100.957 Z\" fill=\"#000000\" fill-rule=\"evenodd\" fill-opacity=\"1\" /><polyline clip-path=\"url(#clip632)\" style=\"stroke:#009af9; stroke-linecap:butt; stroke-linejoin:round; stroke-width:4; stroke-opacity:1; fill:none\" points=\"\n  218.754,1435.27 222.126,1431.54 225.498,1427.79 228.87,1424.02 232.242,1420.23 263.423,1384 294.604,1345.17 310.195,1324.5 325.785,1302.77 341.376,1279.79 \n  356.966,1255.26 366.336,1239.62 375.705,1223.18 385.074,1205.79 394.443,1187.29 403.813,1167.44 413.182,1145.92 422.551,1122.28 431.92,1095.86 435.881,1083.62 \n  439.842,1070.59 443.803,1056.61 447.763,1041.5 451.724,1024.98 455.685,1006.68 457.665,996.686 459.646,986.002 461.626,974.496 463.607,961.989 465.587,948.233 \n  467.567,932.863 468.558,924.406 469.548,915.307 470.538,905.429 471.528,894.584 472.518,882.496 473.509,868.741 474.004,861.031 474.499,852.596 474.994,843.239 \n  475.489,832.662 475.984,820.373 476.479,805.457 476.974,785.825 477.469,753.794 477.964,604.504 478.46,570.688 478.955,550.639 479.45,535.566 479.945,523.222 \n  480.44,512.645 480.935,503.321 481.43,494.942 482.42,480.268 483.411,467.615 484.401,456.422 485.391,446.344 486.381,437.15 487.371,428.678 489.352,413.45 \n  491.332,400.001 493.312,387.92 495.293,376.928 499.595,355.931 503.898,337.898 508.2,322.059 512.503,307.924 516.805,295.158 521.108,283.521 525.411,272.835 \n  529.713,262.962 538.318,245.25 546.923,229.748 555.528,216.024 564.133,203.766 579.999,184.271 595.866,167.986 611.732,154.233 627.598,142.539 644.608,131.9 \n  661.618,122.912 678.629,115.331 695.639,108.966 715.347,102.91 735.055,98.0866 754.763,94.341 774.471,91.5451 791.985,89.7712 809.499,88.5999 827.013,87.9763 \n  844.528,88.4306 848.367,89.9874 852.207,92.4989 856.046,95.9484 859.886,100.317 863.725,105.586 867.565,111.732 871.405,118.733 875.244,126.566 882.923,144.621 \n  890.603,165.686 898.282,189.531 905.961,215.92 914.333,247.302 922.706,281.094 931.078,316.971 939.45,354.61 956.195,433.92 972.94,516.613 989.784,601.002 \n  1006.63,684.659 1023.47,765.963 1040.32,843.614 1049.63,884.605 1058.94,924.052 1068.25,961.856 1077.56,997.944 1086.88,1032.27 1096.19,1064.79 1105.5,1095.51 \n  1114.81,1124.42 1123.67,1150.27 1132.53,1174.54 1141.39,1197.26 1150.25,1218.47 1159.11,1238.23 1167.97,1256.59 1176.83,1273.62 1185.69,1289.36 1194.9,1304.44 \n  1204.11,1318.29 1213.33,1330.96 1222.54,1342.55 1231.75,1353.11 1240.96,1362.73 1250.17,1371.46 1259.39,1379.37 1274.9,1391.01 1290.41,1400.8 1305.92,1408.98 \n  1321.42,1415.79 1340.36,1422.53 1359.3,1427.85 1378.23,1432.03 1397.17,1435.28 1431.86,1439.44 1466.55,1442 1530.63,1444.36 1595.54,1445.25 1668.29,1445.58 \n  1734.21,1445.67 1809.69,1445.71 1879.57,1445.71 1948.47,1445.71 2015.36,1445.72 2083.94,1445.72 2159.07,1445.72 2268.21,1445.72 2290.6,1445.72 \n  \"/>\n<path clip-path=\"url(#clip630)\" d=\"\nM1983.1 198.898 L2279.55 198.898 L2279.55 95.2176 L1983.1 95.2176  Z\n  \" fill=\"#ffffff\" fill-rule=\"evenodd\" fill-opacity=\"1\"/>\n<polyline clip-path=\"url(#clip630)\" style=\"stroke:#000000; stroke-linecap:butt; stroke-linejoin:round; stroke-width:4; stroke-opacity:1; fill:none\" points=\"\n  1983.1,198.898 2279.55,198.898 2279.55,95.2176 1983.1,95.2176 1983.1,198.898 \n  \"/>\n<polyline clip-path=\"url(#clip630)\" style=\"stroke:#009af9; stroke-linecap:butt; stroke-linejoin:round; stroke-width:4; stroke-opacity:1; fill:none\" points=\"\n  2007.5,147.058 2153.92,147.058 \n  \"/>\n<path clip-path=\"url(#clip630)\" d=\"M2192.16 166.745 Q2190.35 171.375 2188.64 172.787 Q2186.93 174.199 2184.06 174.199 L2180.65 174.199 L2180.65 170.634 L2183.15 170.634 Q2184.91 170.634 2185.89 169.8 Q2186.86 168.967 2188.04 165.865 L2188.8 163.921 L2178.32 138.412 L2182.83 138.412 L2190.93 158.689 L2199.03 138.412 L2203.55 138.412 L2192.16 166.745 Z\" fill=\"#000000\" fill-rule=\"evenodd\" fill-opacity=\"1\" /><path clip-path=\"url(#clip630)\" d=\"M2210.84 160.402 L2218.48 160.402 L2218.48 134.037 L2210.17 135.703 L2210.17 131.444 L2218.43 129.778 L2223.11 129.778 L2223.11 160.402 L2230.75 160.402 L2230.75 164.338 L2210.84 164.338 L2210.84 160.402 Z\" fill=\"#000000\" fill-rule=\"evenodd\" fill-opacity=\"1\" /></svg>\n"
     },
     "execution_count": 254,
     "metadata": {},
     "output_type": "execute_result"
    }
   ],
   "source": [
    "plot(x->mid(T(x, 0.023288528303070)), 0, 1)"
   ]
  },
  {
   "cell_type": "markdown",
   "metadata": {},
   "source": [
    "We start with an educated guess, i.e., $b = 0.023288528303070$."
   ]
  },
  {
   "cell_type": "code",
   "execution_count": 255,
   "metadata": {},
   "outputs": [
    {
     "data": {
      "text/plain": [
       "F (generic function with 1 method)"
      ]
     },
     "execution_count": 255,
     "metadata": {},
     "output_type": "execute_result"
    }
   ],
   "source": [
    "F(v) = [T(0.3, v[1])-v[2]; T(v[2], v[1])-v[3]; T(v[3],v[1])-v[4]; T(v[4], v[1])-v[5]; T(v[5], v[1])-v[6]; T(v[6], v[1])-v[6]]"
   ]
  },
  {
   "cell_type": "code",
   "execution_count": 256,
   "metadata": {},
   "outputs": [
    {
     "data": {
      "text/plain": [
       "[0.0232885, 0.0232886]₂₅₆"
      ]
     },
     "execution_count": 256,
     "metadata": {},
     "output_type": "execute_result"
    }
   ],
   "source": [
    "B = 0.023288528303070+10^(-15)*Interval{BigFloat}(-1, 1)"
   ]
  },
  {
   "cell_type": "code",
   "execution_count": 257,
   "metadata": {},
   "outputs": [
    {
     "data": {
      "text/plain": [
       "5-element Vector{Interval{BigFloat}}:\n",
       " [0.812569, 0.81257]₂₅₆\n",
       " [0.0232895, 0.0232896]₂₅₆\n",
       " [0.0616674, 0.0616675]₂₅₆\n",
       " [0.12433, 0.124331]₂₅₆\n",
       " [0.392938, 0.392939]₂₅₆"
      ]
     },
     "execution_count": 257,
     "metadata": {},
     "output_type": "execute_result"
    }
   ],
   "source": [
    "x1 = T(0.3, B);\n",
    "x2 = T(x1, B);\n",
    "x3 = T(x2, B);\n",
    "x4 = T(x3, B);\n",
    "x5 = T(x4, B);\n",
    "\n",
    "v = [x1; x2; x3; x4; x5]"
   ]
  },
  {
   "cell_type": "code",
   "execution_count": 258,
   "metadata": {},
   "outputs": [
    {
     "data": {
      "text/plain": [
       "6-element Vector{Interval{BigFloat}}:\n",
       " [-2.00001e-15, 2.00001e-15]₂₅₆\n",
       " [-2.00019e-15, 2.00019e-15]₂₅₆\n",
       " [-5.12407e-15, 5.12407e-15]₂₅₆\n",
       " [-1.26823e-14, 1.26823e-14]₂₅₆\n",
       " [-4.94482e-13, 4.94482e-13]₂₅₆\n",
       " [-1.00082e-11, 1.09031e-11]₂₅₆"
      ]
     },
     "execution_count": 258,
     "metadata": {},
     "output_type": "execute_result"
    }
   ],
   "source": [
    "F([B; v])"
   ]
  },
  {
   "cell_type": "markdown",
   "metadata": {},
   "source": [
    "The vector $[b; v]$ is the starting point for our multivariate Newton Method.\n"
   ]
  },
  {
   "cell_type": "code",
   "execution_count": 259,
   "metadata": {},
   "outputs": [
    {
     "data": {
      "text/plain": [
       "der_T (generic function with 1 method)"
      ]
     },
     "execution_count": 259,
     "metadata": {},
     "output_type": "execute_result"
    }
   ],
   "source": [
    "der_r_fixed_c = substitute(der_r, (Dict(c => C)))\n",
    "func_der_r = Symbolics.build_function(der_r_fixed_c, x, expression = Val(false))\n",
    "expr_T_l_leq_1_8 = (A-(Interval{BigFloat}(1)/8-x)^(Interval{BigFloat}(1)/3))*exp(-x)+b\n",
    "der_expr_T_l_leq_1_8 = expand_derivatives(D(expr_T_l_leq_1_8))\n",
    "der_T_l_leq_1_8_func = Symbolics.build_function(der_expr_T_l_leq_1_8, x, expression = Val(false))\n",
    "expr_T_l_geq_1_8 = (A+(x-Interval{BigFloat}(1)/8)^(Interval{BigFloat}(1)/3))*exp(-x)+b\n",
    "der_expr_T_l_geq_1_8 = expand_derivatives(D(expr_T_l_geq_1_8))\n",
    "der_T_l_geq_1_8_func = Symbolics.build_function(der_expr_T_l_geq_1_8, x, expression = Val(false))\n",
    "\n",
    "function der_T(x)\n",
    "    if 0<=x<= 1//8\n",
    "        return der_T_l_leq_1_8_func(x)\n",
    "    elseif 1//8<x<0.3\n",
    "        return der_T_l_geq_1_8_func(x)\n",
    "    elseif x>=0.3\n",
    "        return func_der_r(x)\n",
    "    end\n",
    "end"
   ]
  },
  {
   "cell_type": "code",
   "execution_count": 262,
   "metadata": {},
   "outputs": [
    {
     "data": {
      "text/plain": [
       "1.103135592779641950195834788724894788966770359051040630040137122947316218607076e-77"
      ]
     },
     "execution_count": 262,
     "metadata": {},
     "output_type": "execute_result"
    }
   ],
   "source": [
    "diam(der_T(Interval{BigFloat}(0.7)))"
   ]
  },
  {
   "cell_type": "code",
   "execution_count": 263,
   "metadata": {},
   "outputs": [
    {
     "data": {
      "text/plain": [
       "Jac (generic function with 1 method)"
      ]
     },
     "execution_count": 263,
     "metadata": {},
     "output_type": "execute_result"
    }
   ],
   "source": [
    "function Jac(v)\n",
    "    n = length(v)\n",
    "    J = zeros(Interval{BigFloat}, (n,n))\n",
    "    J[:, 1] = ones(BigFloat, n)\n",
    "    for i in 1:(n-1)\n",
    "        J[i, i+1] = -1\n",
    "    end\n",
    "    J[n, n]= -1\n",
    "\n",
    "    for i in 2:n\n",
    "        J[i, i] += der_T(v[i])\n",
    "    end\n",
    "\n",
    "    return J\n",
    "end"
   ]
  },
  {
   "cell_type": "code",
   "execution_count": 264,
   "metadata": {},
   "outputs": [
    {
     "data": {
      "text/plain": [
       "6×6 Matrix{Interval{BigFloat}}:\n",
       " [1, 1]₂₅₆  …    [0, 0]₂₅₆\n",
       " [1, 1]₂₅₆       [0, 0]₂₅₆\n",
       " [1, 1]₂₅₆       [0, 0]₂₅₆\n",
       " [1, 1]₂₅₆       [0, 0]₂₅₆\n",
       " [1, 1]₂₅₆     [-1, -1]₂₅₆\n",
       " [1, 1]₂₅₆  …          [-6.53727, -6.53726]₂₅₆"
      ]
     },
     "execution_count": 264,
     "metadata": {},
     "output_type": "execute_result"
    }
   ],
   "source": [
    "w = [B; v]\n",
    "J = Jac(w)"
   ]
  },
  {
   "cell_type": "code",
   "execution_count": 270,
   "metadata": {},
   "outputs": [
    {
     "data": {
      "text/plain": [
       "5.661067472882481827355509194458876425817356890601441582766177557430127155790245455144800923878262253974976712871930214875822753713065371047159833057146894319210664095929387893967131439872743424157811977931356869286875554415879205402895583675456859932212002722787279287261246016418972985605025671410226256437314e-14"
      ]
     },
     "execution_count": 270,
     "metadata": {},
     "output_type": "execute_result"
    }
   ],
   "source": [
    "maximum(diam.(Jac(w)))"
   ]
  },
  {
   "cell_type": "code",
   "execution_count": 275,
   "metadata": {},
   "outputs": [
    {
     "data": {
      "text/plain": [
       "3.598025436641309043667198842604413120358930887538252472414044828639606490840157501933571025509695723189974973820045238180791815395586140013289341107259335672609985158821889545476765330164320695608891660561198828169335926497277737470677197550659761889909344231210826584645848410899895281141233477996344254251519e-17"
      ]
     },
     "execution_count": 275,
     "metadata": {},
     "output_type": "execute_result"
    }
   ],
   "source": [
    "w_next = mid.(w)-inv(Jac(w))*F(Interval{BigFloat}.(mid.(w)))\n",
    "w = w_next\n",
    "maximum(diam.(w))"
   ]
  },
  {
   "cell_type": "code",
   "execution_count": 268,
   "metadata": {},
   "outputs": [
    {
     "data": {
      "text/plain": [
       "6-element Vector{Interval{BigFloat}}:\n",
       " [-2.96352e-17, 2.96352e-17]₁₀₂₄\n",
       " [-2.96359e-17, 2.96359e-17]₁₀₂₄\n",
       " [-8.44525e-17, 8.44525e-17]₁₀₂₄\n",
       " [-8.15606e-17, 8.15606e-17]₁₀₂₄\n",
       " [-6.14016e-17, 6.14016e-17]₁₀₂₄\n",
       " [-1.10663e-16, 1.10663e-16]₁₀₂₄"
      ]
     },
     "execution_count": 268,
     "metadata": {},
     "output_type": "execute_result"
    }
   ],
   "source": [
    "setprecision(1024)\n",
    "F(w)"
   ]
  },
  {
   "cell_type": "code",
   "execution_count": 206,
   "metadata": {},
   "outputs": [],
   "source": [
    "using Plots"
   ]
  },
  {
   "cell_type": "code",
   "execution_count": 172,
   "metadata": {},
   "outputs": [
    {
     "data": {
      "image/svg+xml": "<?xml version=\"1.0\" encoding=\"utf-8\"?>\n<svg xmlns=\"http://www.w3.org/2000/svg\" xmlns:xlink=\"http://www.w3.org/1999/xlink\" width=\"600\" height=\"400\" viewBox=\"0 0 2400 1600\">\n<defs>\n  <clipPath id=\"clip470\">\n    <rect x=\"0\" y=\"0\" width=\"2400\" height=\"1600\"/>\n  </clipPath>\n</defs>\n<path clip-path=\"url(#clip470)\" d=\"\nM0 1600 L2400 1600 L2400 0 L0 0  Z\n  \" fill=\"#ffffff\" fill-rule=\"evenodd\" fill-opacity=\"1\"/>\n<defs>\n  <clipPath id=\"clip471\">\n    <rect x=\"480\" y=\"0\" width=\"1681\" height=\"1600\"/>\n  </clipPath>\n</defs>\n<path clip-path=\"url(#clip470)\" d=\"\nM169.121 1486.45 L2352.76 1486.45 L2352.76 47.2441 L169.121 47.2441  Z\n  \" fill=\"#ffffff\" fill-rule=\"evenodd\" fill-opacity=\"1\"/>\n<defs>\n  <clipPath id=\"clip472\">\n    <rect x=\"169\" y=\"47\" width=\"2185\" height=\"1440\"/>\n  </clipPath>\n</defs>\n<polyline clip-path=\"url(#clip472)\" style=\"stroke:#000000; stroke-linecap:butt; stroke-linejoin:round; stroke-width:2; stroke-opacity:0.1; fill:none\" points=\"\n  230.922,1486.45 230.922,47.2441 \n  \"/>\n<polyline clip-path=\"url(#clip472)\" style=\"stroke:#000000; stroke-linecap:butt; stroke-linejoin:round; stroke-width:2; stroke-opacity:0.1; fill:none\" points=\"\n  745.93,1486.45 745.93,47.2441 \n  \"/>\n<polyline clip-path=\"url(#clip472)\" style=\"stroke:#000000; stroke-linecap:butt; stroke-linejoin:round; stroke-width:2; stroke-opacity:0.1; fill:none\" points=\"\n  1260.94,1486.45 1260.94,47.2441 \n  \"/>\n<polyline clip-path=\"url(#clip472)\" style=\"stroke:#000000; stroke-linecap:butt; stroke-linejoin:round; stroke-width:2; stroke-opacity:0.1; fill:none\" points=\"\n  1775.95,1486.45 1775.95,47.2441 \n  \"/>\n<polyline clip-path=\"url(#clip472)\" style=\"stroke:#000000; stroke-linecap:butt; stroke-linejoin:round; stroke-width:2; stroke-opacity:0.1; fill:none\" points=\"\n  2290.95,1486.45 2290.95,47.2441 \n  \"/>\n<polyline clip-path=\"url(#clip470)\" style=\"stroke:#000000; stroke-linecap:butt; stroke-linejoin:round; stroke-width:4; stroke-opacity:1; fill:none\" points=\"\n  169.121,1486.45 2352.76,1486.45 \n  \"/>\n<polyline clip-path=\"url(#clip470)\" style=\"stroke:#000000; stroke-linecap:butt; stroke-linejoin:round; stroke-width:4; stroke-opacity:1; fill:none\" points=\"\n  230.922,1486.45 230.922,1467.55 \n  \"/>\n<polyline clip-path=\"url(#clip470)\" style=\"stroke:#000000; stroke-linecap:butt; stroke-linejoin:round; stroke-width:4; stroke-opacity:1; fill:none\" points=\"\n  745.93,1486.45 745.93,1467.55 \n  \"/>\n<polyline clip-path=\"url(#clip470)\" style=\"stroke:#000000; stroke-linecap:butt; stroke-linejoin:round; stroke-width:4; stroke-opacity:1; fill:none\" points=\"\n  1260.94,1486.45 1260.94,1467.55 \n  \"/>\n<polyline clip-path=\"url(#clip470)\" style=\"stroke:#000000; stroke-linecap:butt; stroke-linejoin:round; stroke-width:4; stroke-opacity:1; fill:none\" points=\"\n  1775.95,1486.45 1775.95,1467.55 \n  \"/>\n<polyline clip-path=\"url(#clip470)\" style=\"stroke:#000000; stroke-linecap:butt; stroke-linejoin:round; stroke-width:4; stroke-opacity:1; fill:none\" points=\"\n  2290.95,1486.45 2290.95,1467.55 \n  \"/>\n<path clip-path=\"url(#clip470)\" d=\"M193.226 1517.37 Q189.615 1517.37 187.786 1520.93 Q185.98 1524.47 185.98 1531.6 Q185.98 1538.71 187.786 1542.27 Q189.615 1545.82 193.226 1545.82 Q196.86 1545.82 198.666 1542.27 Q200.494 1538.71 200.494 1531.6 Q200.494 1524.47 198.666 1520.93 Q196.86 1517.37 193.226 1517.37 M193.226 1513.66 Q199.036 1513.66 202.091 1518.27 Q205.17 1522.85 205.17 1531.6 Q205.17 1540.33 202.091 1544.94 Q199.036 1549.52 193.226 1549.52 Q187.416 1549.52 184.337 1544.94 Q181.281 1540.33 181.281 1531.6 Q181.281 1522.85 184.337 1518.27 Q187.416 1513.66 193.226 1513.66 Z\" fill=\"#000000\" fill-rule=\"evenodd\" fill-opacity=\"1\" /><path clip-path=\"url(#clip470)\" d=\"M213.388 1542.97 L218.272 1542.97 L218.272 1548.85 L213.388 1548.85 L213.388 1542.97 Z\" fill=\"#000000\" fill-rule=\"evenodd\" fill-opacity=\"1\" /><path clip-path=\"url(#clip470)\" d=\"M238.457 1517.37 Q234.846 1517.37 233.017 1520.93 Q231.212 1524.47 231.212 1531.6 Q231.212 1538.71 233.017 1542.27 Q234.846 1545.82 238.457 1545.82 Q242.091 1545.82 243.897 1542.27 Q245.725 1538.71 245.725 1531.6 Q245.725 1524.47 243.897 1520.93 Q242.091 1517.37 238.457 1517.37 M238.457 1513.66 Q244.267 1513.66 247.323 1518.27 Q250.401 1522.85 250.401 1531.6 Q250.401 1540.33 247.323 1544.94 Q244.267 1549.52 238.457 1549.52 Q232.647 1549.52 229.568 1544.94 Q226.513 1540.33 226.513 1531.6 Q226.513 1522.85 229.568 1518.27 Q232.647 1513.66 238.457 1513.66 Z\" fill=\"#000000\" fill-rule=\"evenodd\" fill-opacity=\"1\" /><path clip-path=\"url(#clip470)\" d=\"M268.619 1517.37 Q265.008 1517.37 263.179 1520.93 Q261.374 1524.47 261.374 1531.6 Q261.374 1538.71 263.179 1542.27 Q265.008 1545.82 268.619 1545.82 Q272.253 1545.82 274.059 1542.27 Q275.887 1538.71 275.887 1531.6 Q275.887 1524.47 274.059 1520.93 Q272.253 1517.37 268.619 1517.37 M268.619 1513.66 Q274.429 1513.66 277.485 1518.27 Q280.563 1522.85 280.563 1531.6 Q280.563 1540.33 277.485 1544.94 Q274.429 1549.52 268.619 1549.52 Q262.809 1549.52 259.73 1544.94 Q256.674 1540.33 256.674 1531.6 Q256.674 1522.85 259.73 1518.27 Q262.809 1513.66 268.619 1513.66 Z\" fill=\"#000000\" fill-rule=\"evenodd\" fill-opacity=\"1\" /><path clip-path=\"url(#clip470)\" d=\"M708.732 1517.37 Q705.12 1517.37 703.292 1520.93 Q701.486 1524.47 701.486 1531.6 Q701.486 1538.71 703.292 1542.27 Q705.12 1545.82 708.732 1545.82 Q712.366 1545.82 714.171 1542.27 Q716 1538.71 716 1531.6 Q716 1524.47 714.171 1520.93 Q712.366 1517.37 708.732 1517.37 M708.732 1513.66 Q714.542 1513.66 717.597 1518.27 Q720.676 1522.85 720.676 1531.6 Q720.676 1540.33 717.597 1544.94 Q714.542 1549.52 708.732 1549.52 Q702.921 1549.52 699.843 1544.94 Q696.787 1540.33 696.787 1531.6 Q696.787 1522.85 699.843 1518.27 Q702.921 1513.66 708.732 1513.66 Z\" fill=\"#000000\" fill-rule=\"evenodd\" fill-opacity=\"1\" /><path clip-path=\"url(#clip470)\" d=\"M728.894 1542.97 L733.778 1542.97 L733.778 1548.85 L728.894 1548.85 L728.894 1542.97 Z\" fill=\"#000000\" fill-rule=\"evenodd\" fill-opacity=\"1\" /><path clip-path=\"url(#clip470)\" d=\"M747.991 1544.91 L764.31 1544.91 L764.31 1548.85 L742.366 1548.85 L742.366 1544.91 Q745.028 1542.16 749.611 1537.53 Q754.217 1532.88 755.398 1531.53 Q757.643 1529.01 758.523 1527.27 Q759.426 1525.51 759.426 1523.82 Q759.426 1521.07 757.481 1519.33 Q755.56 1517.6 752.458 1517.6 Q750.259 1517.6 747.805 1518.36 Q745.375 1519.13 742.597 1520.68 L742.597 1515.95 Q745.421 1514.82 747.875 1514.24 Q750.329 1513.66 752.366 1513.66 Q757.736 1513.66 760.93 1516.35 Q764.125 1519.03 764.125 1523.52 Q764.125 1525.65 763.315 1527.57 Q762.528 1529.47 760.421 1532.07 Q759.842 1532.74 756.741 1535.95 Q753.639 1539.15 747.991 1544.91 Z\" fill=\"#000000\" fill-rule=\"evenodd\" fill-opacity=\"1\" /><path clip-path=\"url(#clip470)\" d=\"M774.171 1514.29 L792.527 1514.29 L792.527 1518.22 L778.453 1518.22 L778.453 1526.7 Q779.472 1526.35 780.49 1526.19 Q781.509 1526 782.527 1526 Q788.314 1526 791.694 1529.17 Q795.074 1532.34 795.074 1537.76 Q795.074 1543.34 791.602 1546.44 Q788.129 1549.52 781.81 1549.52 Q779.634 1549.52 777.365 1549.15 Q775.12 1548.78 772.713 1548.04 L772.713 1543.34 Q774.796 1544.47 777.018 1545.03 Q779.24 1545.58 781.717 1545.58 Q785.722 1545.58 788.06 1543.48 Q790.398 1541.37 790.398 1537.76 Q790.398 1534.15 788.06 1532.04 Q785.722 1529.94 781.717 1529.94 Q779.842 1529.94 777.967 1530.35 Q776.115 1530.77 774.171 1531.65 L774.171 1514.29 Z\" fill=\"#000000\" fill-rule=\"evenodd\" fill-opacity=\"1\" /><path clip-path=\"url(#clip470)\" d=\"M1223.24 1517.37 Q1219.63 1517.37 1217.8 1520.93 Q1216 1524.47 1216 1531.6 Q1216 1538.71 1217.8 1542.27 Q1219.63 1545.82 1223.24 1545.82 Q1226.88 1545.82 1228.68 1542.27 Q1230.51 1538.71 1230.51 1531.6 Q1230.51 1524.47 1228.68 1520.93 Q1226.88 1517.37 1223.24 1517.37 M1223.24 1513.66 Q1229.05 1513.66 1232.11 1518.27 Q1235.19 1522.85 1235.19 1531.6 Q1235.19 1540.33 1232.11 1544.94 Q1229.05 1549.52 1223.24 1549.52 Q1217.43 1549.52 1214.35 1544.94 Q1211.3 1540.33 1211.3 1531.6 Q1211.3 1522.85 1214.35 1518.27 Q1217.43 1513.66 1223.24 1513.66 Z\" fill=\"#000000\" fill-rule=\"evenodd\" fill-opacity=\"1\" /><path clip-path=\"url(#clip470)\" d=\"M1243.4 1542.97 L1248.29 1542.97 L1248.29 1548.85 L1243.4 1548.85 L1243.4 1542.97 Z\" fill=\"#000000\" fill-rule=\"evenodd\" fill-opacity=\"1\" /><path clip-path=\"url(#clip470)\" d=\"M1258.52 1514.29 L1276.88 1514.29 L1276.88 1518.22 L1262.8 1518.22 L1262.8 1526.7 Q1263.82 1526.35 1264.84 1526.19 Q1265.86 1526 1266.88 1526 Q1272.66 1526 1276.04 1529.17 Q1279.42 1532.34 1279.42 1537.76 Q1279.42 1543.34 1275.95 1546.44 Q1272.48 1549.52 1266.16 1549.52 Q1263.98 1549.52 1261.71 1549.15 Q1259.47 1548.78 1257.06 1548.04 L1257.06 1543.34 Q1259.14 1544.47 1261.37 1545.03 Q1263.59 1545.58 1266.07 1545.58 Q1270.07 1545.58 1272.41 1543.48 Q1274.75 1541.37 1274.75 1537.76 Q1274.75 1534.15 1272.41 1532.04 Q1270.07 1529.94 1266.07 1529.94 Q1264.19 1529.94 1262.32 1530.35 Q1260.46 1530.77 1258.52 1531.65 L1258.52 1514.29 Z\" fill=\"#000000\" fill-rule=\"evenodd\" fill-opacity=\"1\" /><path clip-path=\"url(#clip470)\" d=\"M1298.64 1517.37 Q1295.02 1517.37 1293.2 1520.93 Q1291.39 1524.47 1291.39 1531.6 Q1291.39 1538.71 1293.2 1542.27 Q1295.02 1545.82 1298.64 1545.82 Q1302.27 1545.82 1304.07 1542.27 Q1305.9 1538.71 1305.9 1531.6 Q1305.9 1524.47 1304.07 1520.93 Q1302.27 1517.37 1298.64 1517.37 M1298.64 1513.66 Q1304.45 1513.66 1307.5 1518.27 Q1310.58 1522.85 1310.58 1531.6 Q1310.58 1540.33 1307.5 1544.94 Q1304.45 1549.52 1298.64 1549.52 Q1292.83 1549.52 1289.75 1544.94 Q1286.69 1540.33 1286.69 1531.6 Q1286.69 1522.85 1289.75 1518.27 Q1292.83 1513.66 1298.64 1513.66 Z\" fill=\"#000000\" fill-rule=\"evenodd\" fill-opacity=\"1\" /><path clip-path=\"url(#clip470)\" d=\"M1738.75 1517.37 Q1735.14 1517.37 1733.31 1520.93 Q1731.5 1524.47 1731.5 1531.6 Q1731.5 1538.71 1733.31 1542.27 Q1735.14 1545.82 1738.75 1545.82 Q1742.38 1545.82 1744.19 1542.27 Q1746.02 1538.71 1746.02 1531.6 Q1746.02 1524.47 1744.19 1520.93 Q1742.38 1517.37 1738.75 1517.37 M1738.75 1513.66 Q1744.56 1513.66 1747.61 1518.27 Q1750.69 1522.85 1750.69 1531.6 Q1750.69 1540.33 1747.61 1544.94 Q1744.56 1549.52 1738.75 1549.52 Q1732.94 1549.52 1729.86 1544.94 Q1726.8 1540.33 1726.8 1531.6 Q1726.8 1522.85 1729.86 1518.27 Q1732.94 1513.66 1738.75 1513.66 Z\" fill=\"#000000\" fill-rule=\"evenodd\" fill-opacity=\"1\" /><path clip-path=\"url(#clip470)\" d=\"M1758.91 1542.97 L1763.79 1542.97 L1763.79 1548.85 L1758.91 1548.85 L1758.91 1542.97 Z\" fill=\"#000000\" fill-rule=\"evenodd\" fill-opacity=\"1\" /><path clip-path=\"url(#clip470)\" d=\"M1772.8 1514.29 L1795.02 1514.29 L1795.02 1516.28 L1782.47 1548.85 L1777.59 1548.85 L1789.4 1518.22 L1772.8 1518.22 L1772.8 1514.29 Z\" fill=\"#000000\" fill-rule=\"evenodd\" fill-opacity=\"1\" /><path clip-path=\"url(#clip470)\" d=\"M1804.19 1514.29 L1822.54 1514.29 L1822.54 1518.22 L1808.47 1518.22 L1808.47 1526.7 Q1809.49 1526.35 1810.51 1526.19 Q1811.53 1526 1812.54 1526 Q1818.33 1526 1821.71 1529.17 Q1825.09 1532.34 1825.09 1537.76 Q1825.09 1543.34 1821.62 1546.44 Q1818.15 1549.52 1811.83 1549.52 Q1809.65 1549.52 1807.38 1549.15 Q1805.14 1548.78 1802.73 1548.04 L1802.73 1543.34 Q1804.81 1544.47 1807.03 1545.03 Q1809.26 1545.58 1811.73 1545.58 Q1815.74 1545.58 1818.08 1543.48 Q1820.41 1541.37 1820.41 1537.76 Q1820.41 1534.15 1818.08 1532.04 Q1815.74 1529.94 1811.73 1529.94 Q1809.86 1529.94 1807.98 1530.35 Q1806.13 1530.77 1804.19 1531.65 L1804.19 1514.29 Z\" fill=\"#000000\" fill-rule=\"evenodd\" fill-opacity=\"1\" /><path clip-path=\"url(#clip470)\" d=\"M2243.03 1544.91 L2250.67 1544.91 L2250.67 1518.55 L2242.36 1520.21 L2242.36 1515.95 L2250.62 1514.29 L2255.3 1514.29 L2255.3 1544.91 L2262.93 1544.91 L2262.93 1548.85 L2243.03 1548.85 L2243.03 1544.91 Z\" fill=\"#000000\" fill-rule=\"evenodd\" fill-opacity=\"1\" /><path clip-path=\"url(#clip470)\" d=\"M2272.38 1542.97 L2277.26 1542.97 L2277.26 1548.85 L2272.38 1548.85 L2272.38 1542.97 Z\" fill=\"#000000\" fill-rule=\"evenodd\" fill-opacity=\"1\" /><path clip-path=\"url(#clip470)\" d=\"M2297.45 1517.37 Q2293.84 1517.37 2292.01 1520.93 Q2290.2 1524.47 2290.2 1531.6 Q2290.2 1538.71 2292.01 1542.27 Q2293.84 1545.82 2297.45 1545.82 Q2301.08 1545.82 2302.89 1542.27 Q2304.72 1538.71 2304.72 1531.6 Q2304.72 1524.47 2302.89 1520.93 Q2301.08 1517.37 2297.45 1517.37 M2297.45 1513.66 Q2303.26 1513.66 2306.31 1518.27 Q2309.39 1522.85 2309.39 1531.6 Q2309.39 1540.33 2306.31 1544.94 Q2303.26 1549.52 2297.45 1549.52 Q2291.64 1549.52 2288.56 1544.94 Q2285.5 1540.33 2285.5 1531.6 Q2285.5 1522.85 2288.56 1518.27 Q2291.64 1513.66 2297.45 1513.66 Z\" fill=\"#000000\" fill-rule=\"evenodd\" fill-opacity=\"1\" /><path clip-path=\"url(#clip470)\" d=\"M2327.61 1517.37 Q2324 1517.37 2322.17 1520.93 Q2320.36 1524.47 2320.36 1531.6 Q2320.36 1538.71 2322.17 1542.27 Q2324 1545.82 2327.61 1545.82 Q2331.24 1545.82 2333.05 1542.27 Q2334.88 1538.71 2334.88 1531.6 Q2334.88 1524.47 2333.05 1520.93 Q2331.24 1517.37 2327.61 1517.37 M2327.61 1513.66 Q2333.42 1513.66 2336.48 1518.27 Q2339.55 1522.85 2339.55 1531.6 Q2339.55 1540.33 2336.48 1544.94 Q2333.42 1549.52 2327.61 1549.52 Q2321.8 1549.52 2318.72 1544.94 Q2315.67 1540.33 2315.67 1531.6 Q2315.67 1522.85 2318.72 1518.27 Q2321.8 1513.66 2327.61 1513.66 Z\" fill=\"#000000\" fill-rule=\"evenodd\" fill-opacity=\"1\" /><polyline clip-path=\"url(#clip472)\" style=\"stroke:#000000; stroke-linecap:butt; stroke-linejoin:round; stroke-width:2; stroke-opacity:0.1; fill:none\" points=\"\n  169.121,1384.02 2352.76,1384.02 \n  \"/>\n<polyline clip-path=\"url(#clip472)\" style=\"stroke:#000000; stroke-linecap:butt; stroke-linejoin:round; stroke-width:2; stroke-opacity:0.1; fill:none\" points=\"\n  169.121,1179.72 2352.76,1179.72 \n  \"/>\n<polyline clip-path=\"url(#clip472)\" style=\"stroke:#000000; stroke-linecap:butt; stroke-linejoin:round; stroke-width:2; stroke-opacity:0.1; fill:none\" points=\"\n  169.121,975.408 2352.76,975.408 \n  \"/>\n<polyline clip-path=\"url(#clip472)\" style=\"stroke:#000000; stroke-linecap:butt; stroke-linejoin:round; stroke-width:2; stroke-opacity:0.1; fill:none\" points=\"\n  169.121,771.1 2352.76,771.1 \n  \"/>\n<polyline clip-path=\"url(#clip472)\" style=\"stroke:#000000; stroke-linecap:butt; stroke-linejoin:round; stroke-width:2; stroke-opacity:0.1; fill:none\" points=\"\n  169.121,566.793 2352.76,566.793 \n  \"/>\n<polyline clip-path=\"url(#clip472)\" style=\"stroke:#000000; stroke-linecap:butt; stroke-linejoin:round; stroke-width:2; stroke-opacity:0.1; fill:none\" points=\"\n  169.121,362.485 2352.76,362.485 \n  \"/>\n<polyline clip-path=\"url(#clip472)\" style=\"stroke:#000000; stroke-linecap:butt; stroke-linejoin:round; stroke-width:2; stroke-opacity:0.1; fill:none\" points=\"\n  169.121,158.177 2352.76,158.177 \n  \"/>\n<polyline clip-path=\"url(#clip470)\" style=\"stroke:#000000; stroke-linecap:butt; stroke-linejoin:round; stroke-width:4; stroke-opacity:1; fill:none\" points=\"\n  169.121,1486.45 169.121,47.2441 \n  \"/>\n<polyline clip-path=\"url(#clip470)\" style=\"stroke:#000000; stroke-linecap:butt; stroke-linejoin:round; stroke-width:4; stroke-opacity:1; fill:none\" points=\"\n  169.121,1384.02 188.019,1384.02 \n  \"/>\n<polyline clip-path=\"url(#clip470)\" style=\"stroke:#000000; stroke-linecap:butt; stroke-linejoin:round; stroke-width:4; stroke-opacity:1; fill:none\" points=\"\n  169.121,1179.72 188.019,1179.72 \n  \"/>\n<polyline clip-path=\"url(#clip470)\" style=\"stroke:#000000; stroke-linecap:butt; stroke-linejoin:round; stroke-width:4; stroke-opacity:1; fill:none\" points=\"\n  169.121,975.408 188.019,975.408 \n  \"/>\n<polyline clip-path=\"url(#clip470)\" style=\"stroke:#000000; stroke-linecap:butt; stroke-linejoin:round; stroke-width:4; stroke-opacity:1; fill:none\" points=\"\n  169.121,771.1 188.019,771.1 \n  \"/>\n<polyline clip-path=\"url(#clip470)\" style=\"stroke:#000000; stroke-linecap:butt; stroke-linejoin:round; stroke-width:4; stroke-opacity:1; fill:none\" points=\"\n  169.121,566.793 188.019,566.793 \n  \"/>\n<polyline clip-path=\"url(#clip470)\" style=\"stroke:#000000; stroke-linecap:butt; stroke-linejoin:round; stroke-width:4; stroke-opacity:1; fill:none\" points=\"\n  169.121,362.485 188.019,362.485 \n  \"/>\n<polyline clip-path=\"url(#clip470)\" style=\"stroke:#000000; stroke-linecap:butt; stroke-linejoin:round; stroke-width:4; stroke-opacity:1; fill:none\" points=\"\n  169.121,158.177 188.019,158.177 \n  \"/>\n<path clip-path=\"url(#clip470)\" d=\"M121.177 1369.82 Q117.566 1369.82 115.737 1373.39 Q113.932 1376.93 113.932 1384.06 Q113.932 1391.16 115.737 1394.73 Q117.566 1398.27 121.177 1398.27 Q124.811 1398.27 126.617 1394.73 Q128.445 1391.16 128.445 1384.06 Q128.445 1376.93 126.617 1373.39 Q124.811 1369.82 121.177 1369.82 M121.177 1366.12 Q126.987 1366.12 130.043 1370.72 Q133.121 1375.31 133.121 1384.06 Q133.121 1392.78 130.043 1397.39 Q126.987 1401.97 121.177 1401.97 Q115.367 1401.97 112.288 1397.39 Q109.233 1392.78 109.233 1384.06 Q109.233 1375.31 112.288 1370.72 Q115.367 1366.12 121.177 1366.12 Z\" fill=\"#000000\" fill-rule=\"evenodd\" fill-opacity=\"1\" /><path clip-path=\"url(#clip470)\" d=\"M85.0429 1193.06 L101.362 1193.06 L101.362 1197 L79.4179 1197 L79.4179 1193.06 Q82.0799 1190.31 86.6632 1185.68 Q91.2697 1181.02 92.4502 1179.68 Q94.6956 1177.16 95.5752 1175.42 Q96.478 1173.66 96.478 1171.97 Q96.478 1169.22 94.5336 1167.48 Q92.6123 1165.75 89.5104 1165.75 Q87.3114 1165.75 84.8577 1166.51 Q82.4271 1167.27 79.6494 1168.82 L79.6494 1164.1 Q82.4734 1162.97 84.9271 1162.39 Q87.3808 1161.81 89.4178 1161.81 Q94.7882 1161.81 97.9826 1164.5 Q101.177 1167.18 101.177 1171.67 Q101.177 1173.8 100.367 1175.72 Q99.5798 1177.62 97.4734 1180.21 Q96.8947 1180.88 93.7928 1184.1 Q90.691 1187.3 85.0429 1193.06 Z\" fill=\"#000000\" fill-rule=\"evenodd\" fill-opacity=\"1\" /><path clip-path=\"url(#clip470)\" d=\"M121.177 1165.51 Q117.566 1165.51 115.737 1169.08 Q113.932 1172.62 113.932 1179.75 Q113.932 1186.86 115.737 1190.42 Q117.566 1193.96 121.177 1193.96 Q124.811 1193.96 126.617 1190.42 Q128.445 1186.86 128.445 1179.75 Q128.445 1172.62 126.617 1169.08 Q124.811 1165.51 121.177 1165.51 M121.177 1161.81 Q126.987 1161.81 130.043 1166.42 Q133.121 1171 133.121 1179.75 Q133.121 1188.48 130.043 1193.08 Q126.987 1197.67 121.177 1197.67 Q115.367 1197.67 112.288 1193.08 Q109.233 1188.48 109.233 1179.75 Q109.233 1171 112.288 1166.42 Q115.367 1161.81 121.177 1161.81 Z\" fill=\"#000000\" fill-rule=\"evenodd\" fill-opacity=\"1\" /><path clip-path=\"url(#clip470)\" d=\"M93.8623 962.202 L82.0568 980.651 L93.8623 980.651 L93.8623 962.202 M92.6354 958.128 L98.515 958.128 L98.515 980.651 L103.446 980.651 L103.446 984.54 L98.515 984.54 L98.515 992.688 L93.8623 992.688 L93.8623 984.54 L78.2605 984.54 L78.2605 980.026 L92.6354 958.128 Z\" fill=\"#000000\" fill-rule=\"evenodd\" fill-opacity=\"1\" /><path clip-path=\"url(#clip470)\" d=\"M121.177 961.207 Q117.566 961.207 115.737 964.771 Q113.932 968.313 113.932 975.443 Q113.932 982.549 115.737 986.114 Q117.566 989.656 121.177 989.656 Q124.811 989.656 126.617 986.114 Q128.445 982.549 128.445 975.443 Q128.445 968.313 126.617 964.771 Q124.811 961.207 121.177 961.207 M121.177 957.503 Q126.987 957.503 130.043 962.109 Q133.121 966.693 133.121 975.443 Q133.121 984.169 130.043 988.776 Q126.987 993.359 121.177 993.359 Q115.367 993.359 112.288 988.776 Q109.233 984.169 109.233 975.443 Q109.233 966.693 112.288 962.109 Q115.367 957.503 121.177 957.503 Z\" fill=\"#000000\" fill-rule=\"evenodd\" fill-opacity=\"1\" /><path clip-path=\"url(#clip470)\" d=\"M91.5938 769.237 Q88.4456 769.237 86.5938 771.39 Q84.7651 773.542 84.7651 777.292 Q84.7651 781.019 86.5938 783.195 Q88.4456 785.348 91.5938 785.348 Q94.7419 785.348 96.5706 783.195 Q98.4224 781.019 98.4224 777.292 Q98.4224 773.542 96.5706 771.39 Q94.7419 769.237 91.5938 769.237 M100.876 754.584 L100.876 758.843 Q99.1169 758.01 97.3113 757.57 Q95.5289 757.13 93.7697 757.13 Q89.1401 757.13 86.6864 760.255 Q84.2558 763.38 83.9086 769.7 Q85.2743 767.686 87.3345 766.621 Q89.3947 765.533 91.8715 765.533 Q97.0798 765.533 100.089 768.705 Q103.121 771.853 103.121 777.292 Q103.121 782.616 99.9733 785.834 Q96.8252 789.052 91.5938 789.052 Q85.5984 789.052 82.4271 784.468 Q79.2559 779.862 79.2559 771.135 Q79.2559 762.941 83.1447 758.08 Q87.0336 753.195 93.5845 753.195 Q95.3437 753.195 97.1261 753.543 Q98.9317 753.89 100.876 754.584 Z\" fill=\"#000000\" fill-rule=\"evenodd\" fill-opacity=\"1\" /><path clip-path=\"url(#clip470)\" d=\"M121.177 756.899 Q117.566 756.899 115.737 760.464 Q113.932 764.005 113.932 771.135 Q113.932 778.241 115.737 781.806 Q117.566 785.348 121.177 785.348 Q124.811 785.348 126.617 781.806 Q128.445 778.241 128.445 771.135 Q128.445 764.005 126.617 760.464 Q124.811 756.899 121.177 756.899 M121.177 753.195 Q126.987 753.195 130.043 757.802 Q133.121 762.385 133.121 771.135 Q133.121 779.862 130.043 784.468 Q126.987 789.052 121.177 789.052 Q115.367 789.052 112.288 784.468 Q109.233 779.862 109.233 771.135 Q109.233 762.385 112.288 757.802 Q115.367 753.195 121.177 753.195 Z\" fill=\"#000000\" fill-rule=\"evenodd\" fill-opacity=\"1\" /><path clip-path=\"url(#clip470)\" d=\"M91.0151 567.661 Q87.6817 567.661 85.7605 569.443 Q83.8623 571.226 83.8623 574.351 Q83.8623 577.476 85.7605 579.258 Q87.6817 581.04 91.0151 581.04 Q94.3484 581.04 96.2697 579.258 Q98.1909 577.452 98.1909 574.351 Q98.1909 571.226 96.2697 569.443 Q94.3715 567.661 91.0151 567.661 M86.3392 565.67 Q83.3299 564.929 81.6401 562.869 Q79.9735 560.809 79.9735 557.846 Q79.9735 553.703 82.9133 551.295 Q85.8762 548.888 91.0151 548.888 Q96.1771 548.888 99.1169 551.295 Q102.057 553.703 102.057 557.846 Q102.057 560.809 100.367 562.869 Q98.7002 564.929 95.7141 565.67 Q99.0937 566.457 100.969 568.749 Q102.867 571.04 102.867 574.351 Q102.867 579.374 99.7882 582.059 Q96.7326 584.744 91.0151 584.744 Q85.2975 584.744 82.2188 582.059 Q79.1633 579.374 79.1633 574.351 Q79.1633 571.04 81.0614 568.749 Q82.9595 566.457 86.3392 565.67 M84.6262 558.286 Q84.6262 560.971 86.2929 562.476 Q87.9827 563.98 91.0151 563.98 Q94.0243 563.98 95.7141 562.476 Q97.4271 560.971 97.4271 558.286 Q97.4271 555.601 95.7141 554.096 Q94.0243 552.591 91.0151 552.591 Q87.9827 552.591 86.2929 554.096 Q84.6262 555.601 84.6262 558.286 Z\" fill=\"#000000\" fill-rule=\"evenodd\" fill-opacity=\"1\" /><path clip-path=\"url(#clip470)\" d=\"M121.177 552.591 Q117.566 552.591 115.737 556.156 Q113.932 559.698 113.932 566.827 Q113.932 573.934 115.737 577.499 Q117.566 581.04 121.177 581.04 Q124.811 581.04 126.617 577.499 Q128.445 573.934 128.445 566.827 Q128.445 559.698 126.617 556.156 Q124.811 552.591 121.177 552.591 M121.177 548.888 Q126.987 548.888 130.043 553.494 Q133.121 558.077 133.121 566.827 Q133.121 575.554 130.043 580.161 Q126.987 584.744 121.177 584.744 Q115.367 584.744 112.288 580.161 Q109.233 575.554 109.233 566.827 Q109.233 558.077 112.288 553.494 Q115.367 548.888 121.177 548.888 Z\" fill=\"#000000\" fill-rule=\"evenodd\" fill-opacity=\"1\" /><path clip-path=\"url(#clip470)\" d=\"M51.6634 375.83 L59.3023 375.83 L59.3023 349.464 L50.9921 351.131 L50.9921 346.872 L59.256 345.205 L63.9319 345.205 L63.9319 375.83 L71.5707 375.83 L71.5707 379.765 L51.6634 379.765 L51.6634 375.83 Z\" fill=\"#000000\" fill-rule=\"evenodd\" fill-opacity=\"1\" /><path clip-path=\"url(#clip470)\" d=\"M91.0151 348.284 Q87.404 348.284 85.5753 351.849 Q83.7697 355.39 83.7697 362.52 Q83.7697 369.626 85.5753 373.191 Q87.404 376.733 91.0151 376.733 Q94.6493 376.733 96.4548 373.191 Q98.2835 369.626 98.2835 362.52 Q98.2835 355.39 96.4548 351.849 Q94.6493 348.284 91.0151 348.284 M91.0151 344.58 Q96.8252 344.58 99.8808 349.187 Q102.959 353.77 102.959 362.52 Q102.959 371.247 99.8808 375.853 Q96.8252 380.436 91.0151 380.436 Q85.2049 380.436 82.1262 375.853 Q79.0707 371.247 79.0707 362.52 Q79.0707 353.77 82.1262 349.187 Q85.2049 344.58 91.0151 344.58 Z\" fill=\"#000000\" fill-rule=\"evenodd\" fill-opacity=\"1\" /><path clip-path=\"url(#clip470)\" d=\"M121.177 348.284 Q117.566 348.284 115.737 351.849 Q113.932 355.39 113.932 362.52 Q113.932 369.626 115.737 373.191 Q117.566 376.733 121.177 376.733 Q124.811 376.733 126.617 373.191 Q128.445 369.626 128.445 362.52 Q128.445 355.39 126.617 351.849 Q124.811 348.284 121.177 348.284 M121.177 344.58 Q126.987 344.58 130.043 349.187 Q133.121 353.77 133.121 362.52 Q133.121 371.247 130.043 375.853 Q126.987 380.436 121.177 380.436 Q115.367 380.436 112.288 375.853 Q109.233 371.247 109.233 362.52 Q109.233 353.77 112.288 349.187 Q115.367 344.58 121.177 344.58 Z\" fill=\"#000000\" fill-rule=\"evenodd\" fill-opacity=\"1\" /><path clip-path=\"url(#clip470)\" d=\"M51.6634 171.522 L59.3023 171.522 L59.3023 145.157 L50.9921 146.823 L50.9921 142.564 L59.256 140.897 L63.9319 140.897 L63.9319 171.522 L71.5707 171.522 L71.5707 175.457 L51.6634 175.457 L51.6634 171.522 Z\" fill=\"#000000\" fill-rule=\"evenodd\" fill-opacity=\"1\" /><path clip-path=\"url(#clip470)\" d=\"M85.0429 171.522 L101.362 171.522 L101.362 175.457 L79.4179 175.457 L79.4179 171.522 Q82.0799 168.768 86.6632 164.138 Q91.2697 159.485 92.4502 158.143 Q94.6956 155.62 95.5752 153.884 Q96.478 152.124 96.478 150.434 Q96.478 147.68 94.5336 145.944 Q92.6123 144.208 89.5104 144.208 Q87.3114 144.208 84.8577 144.972 Q82.4271 145.735 79.6494 147.286 L79.6494 142.564 Q82.4734 141.43 84.9271 140.851 Q87.3808 140.272 89.4178 140.272 Q94.7882 140.272 97.9826 142.958 Q101.177 145.643 101.177 150.134 Q101.177 152.263 100.367 154.184 Q99.5798 156.083 97.4734 158.675 Q96.8947 159.346 93.7928 162.564 Q90.691 165.758 85.0429 171.522 Z\" fill=\"#000000\" fill-rule=\"evenodd\" fill-opacity=\"1\" /><path clip-path=\"url(#clip470)\" d=\"M121.177 143.976 Q117.566 143.976 115.737 147.541 Q113.932 151.083 113.932 158.212 Q113.932 165.319 115.737 168.883 Q117.566 172.425 121.177 172.425 Q124.811 172.425 126.617 168.883 Q128.445 165.319 128.445 158.212 Q128.445 151.083 126.617 147.541 Q124.811 143.976 121.177 143.976 M121.177 140.272 Q126.987 140.272 130.043 144.879 Q133.121 149.462 133.121 158.212 Q133.121 166.939 130.043 171.545 Q126.987 176.129 121.177 176.129 Q115.367 176.129 112.288 171.545 Q109.233 166.939 109.233 158.212 Q109.233 149.462 112.288 144.879 Q115.367 140.272 121.177 140.272 Z\" fill=\"#000000\" fill-rule=\"evenodd\" fill-opacity=\"1\" /><polyline clip-path=\"url(#clip472)\" style=\"stroke:#009af9; stroke-linecap:butt; stroke-linejoin:round; stroke-width:4; stroke-opacity:1; fill:none\" points=\"\n  230.922,1370.46 234.275,1370.39 237.628,1370.31 240.981,1370.23 244.334,1370.15 275.337,1369.27 306.341,1368.08 337.344,1366.42 368.347,1363.97 386.979,1361.85 \n  405.61,1358.9 414.926,1356.94 424.242,1354.49 428.9,1353.02 433.558,1351.34 438.216,1349.39 442.873,1347.1 446.812,1344.83 450.75,1342.16 454.688,1338.97 \n  458.626,1335.07 460.595,1332.77 462.564,1330.19 464.534,1327.24 466.503,1323.86 468.472,1319.92 470.441,1315.26 472.41,1309.65 474.379,1302.76 476.348,1294.01 \n  478.317,1282.5 479.302,1275.21 480.286,1266.47 481.271,1255.76 482.255,1242.25 482.748,1234.06 483.24,1224.58 483.732,1213.47 484.225,1200.23 484.717,1184.11 \n  485.209,1163.96 485.701,1137.9 486.194,1102.56 486.686,1051.21 487.178,967.901 487.67,801.436 488.163,204.71 488.655,87.9763 489.147,784.308 489.64,961.884 \n  490.132,1048.88 490.624,1101.99 491.116,1138.36 491.609,1165.09 492.101,1185.72 492.593,1202.21 493.085,1215.74 493.578,1227.09 494.07,1236.77 494.562,1245.14 \n  495.055,1252.46 495.547,1258.93 496.039,1264.7 497.024,1274.57 498.008,1282.72 498.993,1289.59 499.977,1295.47 500.962,1300.58 501.946,1305.07 503.916,1312.59 \n  505.885,1318.69 508.024,1324.14 510.163,1328.68 512.302,1332.55 514.441,1335.88 516.58,1338.79 518.719,1341.36 520.858,1343.65 522.997,1345.7 527.275,1349.23 \n  531.553,1352.18 535.831,1354.69 540.109,1356.85 548.665,1360.4 557.22,1363.22 565.776,1365.51 574.332,1367.43 590.108,1370.26 605.884,1372.45 621.66,1374.21 \n  637.435,1375.66 671.262,1378.06 705.088,1379.82 744.279,1381.36 783.471,1382.55 800.885,1383 818.299,1383.4 827.006,1383.59 835.714,1383.77 840.067,1383.85 \n  844.421,1383.94 846.597,1383.98 848.774,1384.02 850.951,1385.69 853.128,1387.47 860.763,1393.58 868.399,1399.47 876.034,1405.1 883.669,1410.42 891.305,1415.42 \n  898.94,1420.06 906.575,1424.33 914.211,1428.21 922.535,1431.99 930.86,1435.29 939.185,1438.11 947.509,1440.47 955.834,1442.37 964.159,1443.82 972.483,1444.84 \n  980.808,1445.47 989.182,1445.72 997.556,1445.61 1005.93,1445.17 1014.3,1444.44 1022.68,1443.44 1031.05,1442.21 1039.43,1440.77 1047.8,1439.15 1084.83,1430.54 \n  1121.87,1421.04 1139.49,1416.64 1157.11,1412.46 1174.73,1408.57 1192.34,1405.03 1210.66,1401.72 1228.98,1398.8 1247.3,1396.26 1265.62,1394.07 1281.04,1392.49 \n  1296.46,1391.12 1311.88,1389.94 1327.31,1388.93 1364.96,1387.08 1402.61,1385.88 1437.11,1385.17 1471.6,1384.72 1535.32,1384.29 1599.86,1384.12 1672.19,1384.05 \n  1737.74,1384.03 1812.79,1384.03 1882.27,1384.02 1950.78,1384.02 2017.29,1384.02 2085.47,1384.02 2160.17,1384.02 2268.69,1384.02 2290.95,1384.02 \n  \"/>\n<path clip-path=\"url(#clip470)\" d=\"\nM1984.91 198.898 L2279.97 198.898 L2279.97 95.2176 L1984.91 95.2176  Z\n  \" fill=\"#ffffff\" fill-rule=\"evenodd\" fill-opacity=\"1\"/>\n<polyline clip-path=\"url(#clip470)\" style=\"stroke:#000000; stroke-linecap:butt; stroke-linejoin:round; stroke-width:4; stroke-opacity:1; fill:none\" points=\"\n  1984.91,198.898 2279.97,198.898 2279.97,95.2176 1984.91,95.2176 1984.91,198.898 \n  \"/>\n<polyline clip-path=\"url(#clip470)\" style=\"stroke:#009af9; stroke-linecap:butt; stroke-linejoin:round; stroke-width:4; stroke-opacity:1; fill:none\" points=\"\n  2009.17,147.058 2154.75,147.058 \n  \"/>\n<path clip-path=\"url(#clip470)\" d=\"M2192.86 166.745 Q2191.05 171.375 2189.34 172.787 Q2187.62 174.199 2184.75 174.199 L2181.35 174.199 L2181.35 170.634 L2183.85 170.634 Q2185.61 170.634 2186.58 169.8 Q2187.55 168.967 2188.73 165.865 L2189.5 163.921 L2179.01 138.412 L2183.53 138.412 L2191.63 158.689 L2199.73 138.412 L2204.24 138.412 L2192.86 166.745 Z\" fill=\"#000000\" fill-rule=\"evenodd\" fill-opacity=\"1\" /><path clip-path=\"url(#clip470)\" d=\"M2211.54 160.402 L2219.17 160.402 L2219.17 134.037 L2210.86 135.703 L2210.86 131.444 L2219.13 129.778 L2223.8 129.778 L2223.8 160.402 L2231.44 160.402 L2231.44 164.338 L2211.54 164.338 L2211.54 160.402 Z\" fill=\"#000000\" fill-rule=\"evenodd\" fill-opacity=\"1\" /></svg>\n"
     },
     "execution_count": 172,
     "metadata": {},
     "output_type": "execute_result"
    }
   ],
   "source": [
    "plot(x->mid(der_T(x)), 0, 1)"
   ]
  },
  {
   "cell_type": "code",
   "execution_count": null,
   "metadata": {},
   "outputs": [],
   "source": []
  }
 ],
 "metadata": {
  "kernelspec": {
   "display_name": "Julia 1.8.3",
   "language": "julia",
   "name": "julia-1.8"
  },
  "language_info": {
   "file_extension": ".jl",
   "mimetype": "application/julia",
   "name": "julia",
   "version": "1.8.3"
  },
  "orig_nbformat": 4
 },
 "nbformat": 4,
 "nbformat_minor": 2
}
